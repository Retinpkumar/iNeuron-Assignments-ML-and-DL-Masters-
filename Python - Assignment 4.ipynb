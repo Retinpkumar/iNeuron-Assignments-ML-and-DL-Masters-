{
 "cells": [
  {
   "cell_type": "code",
   "execution_count": 1,
   "metadata": {},
   "outputs": [
    {
     "name": "stdout",
     "output_type": "stream",
     "text": [
      "Enter the length of first side: 10\n",
      "Enter the length of second side: 20\n",
      "Enter the length of third side: 25\n",
      "\n",
      "\n",
      "Area of the triangle is 94.99 sq units.\n"
     ]
    }
   ],
   "source": [
    "#1.1 Write a Python Program(with class concepts) to find the area of the triangle using the below formula.\n",
    "# area = (s*(s-a)*(s-b)*(s-c)) ** 0.5\n",
    "# Function to take the length of the sides of triangle from user should be defined in the parent\n",
    "# class and function to calculate the area should be defined in subclass.\n",
    "\n",
    "class triangle:\n",
    "    def __init__(self, a, b, c):\n",
    "        self.a = a\n",
    "        self.b = b\n",
    "        self.c = c\n",
    "    \n",
    "class triangle_area(triangle):\n",
    "    def __init__(self, *args):\n",
    "        super(triangle_area, self).__init__(*args)\n",
    "        \n",
    "    def t_area(self):\n",
    "        s = (self.a + self.b + self.c)/2\n",
    "        area = ((s*(s-self.a)*(s-self.b)*(s-self.c))**0.5)\n",
    "        return area\n",
    "\n",
    "a = int(input(\"Enter the length of first side: \"))\n",
    "b = int(input(\"Enter the length of second side: \"))\n",
    "c = int(input(\"Enter the length of third side: \"))    \n",
    "        \n",
    "t = triangle_area(a,b,c)\n",
    "\n",
    "print(\"\\n\\nArea of the triangle is {:.2f} sq units.\".format(t.t_area()))\n",
    "        "
   ]
  },
  {
   "cell_type": "code",
   "execution_count": 2,
   "metadata": {},
   "outputs": [],
   "source": [
    "# 1.2 Write a function filter_long_words() that takes a list of words and an integer n and returns\n",
    "# the list of words that are longer than n.\n",
    "\n",
    "def filter_long_words(words_list, n=0):\n",
    "    longer_words=[]\n",
    "    for word in words_list:\n",
    "        if len(word)>n:\n",
    "            longer_words.append(word)\n",
    "    return longer_words"
   ]
  },
  {
   "cell_type": "code",
   "execution_count": 3,
   "metadata": {},
   "outputs": [],
   "source": [
    "# 2.1 Write a Python program using function concept that maps list of words into a list of integers\n",
    "# representing the lengths of the corresponding words.\n",
    "# Hint: If a list [ ab,cde,erty] is passed on to the python function output should come as [2,3,4]\n",
    "# Here 2,3 and 4 are the lengths of the words in the list.\n",
    "\n",
    "def word_length(words_list):\n",
    "    num_list=[]\n",
    "    for word in words_list:\n",
    "        num_list.append(len(word))\n",
    "    return num_list\n",
    "        "
   ]
  },
  {
   "cell_type": "code",
   "execution_count": 4,
   "metadata": {},
   "outputs": [],
   "source": [
    "# 2.2 Write a Python function which takes a character (i.e. a string of length 1) and returns True if\n",
    "# it is a vowel, False otherwise.\n",
    "\n",
    "def check_vowel(char):\n",
    "    if len(char)>1:\n",
    "        print(\"Please enter a single character\")\n",
    "    elif char in [\"A\", \"E\", \"I\", \"O\", \"U\", \"a\", \"e\", \"i\", \"o\", \"u\"]:\n",
    "        return True\n",
    "    else:\n",
    "        return False"
   ]
  }
 ],
 "metadata": {
  "kernelspec": {
   "display_name": "Python 3",
   "language": "python",
   "name": "python3"
  },
  "language_info": {
   "codemirror_mode": {
    "name": "ipython",
    "version": 3
   },
   "file_extension": ".py",
   "mimetype": "text/x-python",
   "name": "python",
   "nbconvert_exporter": "python",
   "pygments_lexer": "ipython3",
   "version": "3.8.5"
  }
 },
 "nbformat": 4,
 "nbformat_minor": 4
}
