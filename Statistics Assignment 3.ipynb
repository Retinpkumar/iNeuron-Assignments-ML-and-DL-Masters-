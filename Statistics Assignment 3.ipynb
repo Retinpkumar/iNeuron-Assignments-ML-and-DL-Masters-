{
 "cells": [
  {
   "cell_type": "code",
   "execution_count": 2,
   "id": "f569ed96",
   "metadata": {},
   "outputs": [],
   "source": [
    "#Importing dependancies\n",
    "import numpy as np\n",
    "import scipy.stats as st\n",
    "import pandas as pd"
   ]
  },
  {
   "cell_type": "markdown",
   "id": "18ae4f98",
   "metadata": {},
   "source": [
    "### Problem 1"
   ]
  },
  {
   "cell_type": "code",
   "execution_count": 3,
   "id": "7c72252d",
   "metadata": {},
   "outputs": [
    {
     "name": "stdout",
     "output_type": "stream",
     "text": [
      "Chi-score: 0.64 \n",
      "Chi-critical: 49.801849568201845\n"
     ]
    }
   ],
   "source": [
    "pop_mean = 100 # population mean\n",
    "pop_sd = 15 # population standard deviation\n",
    "samp_n = 36\n",
    "samp_mean = 108\n",
    "\n",
    "#H0: Raw cornstarch does not have a positive effect on Blood glucose levels\n",
    "#H1: Raw cornstarch has a positive effect on Blood glucose levels\n",
    "\n",
    "df = samp_n-1\n",
    "obs = 108\n",
    "exp = 100\n",
    "alpha = 0.05\n",
    "\n",
    "chi_score = np.square(obs-exp)/exp\n",
    "\n",
    "chi_critical = st.chi2.isf(alpha, df)\n",
    "\n",
    "print(f\"Chi-score: {chi_score} \\nChi-critical: {chi_critical}\")"
   ]
  },
  {
   "cell_type": "markdown",
   "id": "1d425c22",
   "metadata": {},
   "source": [
    ">Since chi score falls within the confidence interval, we fail to reject the null hypothesis.\n",
    "Therefore we conclude that there is insufficient evidence to prove that raw cornstarch has a positive effect on Blood glucose levels."
   ]
  },
  {
   "cell_type": "markdown",
   "id": "dccb1e14",
   "metadata": {},
   "source": [
    "### Problem 2"
   ]
  },
  {
   "cell_type": "code",
   "execution_count": 4,
   "id": "b7e6a4c9",
   "metadata": {},
   "outputs": [
    {
     "data": {
      "text/html": [
       "<div>\n",
       "<style scoped>\n",
       "    .dataframe tbody tr th:only-of-type {\n",
       "        vertical-align: middle;\n",
       "    }\n",
       "\n",
       "    .dataframe tbody tr th {\n",
       "        vertical-align: top;\n",
       "    }\n",
       "\n",
       "    .dataframe thead th {\n",
       "        text-align: right;\n",
       "    }\n",
       "</style>\n",
       "<table border=\"1\" class=\"dataframe\">\n",
       "  <thead>\n",
       "    <tr style=\"text-align: right;\">\n",
       "      <th></th>\n",
       "      <th>A</th>\n",
       "      <th>B</th>\n",
       "    </tr>\n",
       "  </thead>\n",
       "  <tbody>\n",
       "    <tr>\n",
       "      <th>Republicans</th>\n",
       "      <td>52</td>\n",
       "      <td>47</td>\n",
       "    </tr>\n",
       "    <tr>\n",
       "      <th>Democrats</th>\n",
       "      <td>48</td>\n",
       "      <td>53</td>\n",
       "    </tr>\n",
       "  </tbody>\n",
       "</table>\n",
       "</div>"
      ],
      "text/plain": [
       "              A   B\n",
       "Republicans  52  47\n",
       "Democrats    48  53"
      ]
     },
     "execution_count": 4,
     "metadata": {},
     "output_type": "execute_result"
    }
   ],
   "source": [
    "data = {\"A\":[52,48], \"B\":[47,53]}\n",
    "df = pd.DataFrame(data, index=[\"Republicans\", \"Democrats\"])\n",
    "df"
   ]
  },
  {
   "cell_type": "code",
   "execution_count": 5,
   "id": "0fd705e0",
   "metadata": {},
   "outputs": [
    {
     "data": {
      "text/plain": [
       "0.3137254901960784"
      ]
     },
     "execution_count": 5,
     "metadata": {},
     "output_type": "execute_result"
    }
   ],
   "source": [
    "obs = 47\n",
    "exp = 51\n",
    "\n",
    "chi_score = np.square(obs-exp) / exp\n",
    "chi_score"
   ]
  },
  {
   "cell_type": "code",
   "execution_count": null,
   "id": "ca46e181",
   "metadata": {},
   "outputs": [],
   "source": []
  },
  {
   "cell_type": "markdown",
   "id": "aa3a0c37",
   "metadata": {},
   "source": [
    "### Problem 3"
   ]
  },
  {
   "cell_type": "code",
   "execution_count": 11,
   "id": "620f33e7",
   "metadata": {},
   "outputs": [
    {
     "name": "stdout",
     "output_type": "stream",
     "text": [
      "Chi-score: 5.337231968810916 \n",
      "Chi-critical: 3.8414588206941285\n"
     ]
    }
   ],
   "source": [
    "obs = 1100\n",
    "exp = 1026\n",
    "\n",
    "#H0: Score is equal to average test taker.\n",
    "#H1: Score is higher than average test taker.\n",
    "\n",
    "chi_score = np.square(obs-exp) / exp\n",
    "\n",
    "chi_critical = st.chi2.isf(0.05, 1)\n",
    "\n",
    "print(f\"Chi-score: {chi_score} \\nChi-critical: {chi_critical}\")"
   ]
  },
  {
   "cell_type": "markdown",
   "id": "fa2244d1",
   "metadata": {},
   "source": [
    "> Since chi-score falls within the critical region, we reject the null hypothesis.\n",
    "Therefore we conclude that there is sufficient evidence to claim that the score is higher than average test taker."
   ]
  }
 ],
 "metadata": {
  "kernelspec": {
   "display_name": "Python 3",
   "language": "python",
   "name": "python3"
  },
  "language_info": {
   "codemirror_mode": {
    "name": "ipython",
    "version": 3
   },
   "file_extension": ".py",
   "mimetype": "text/x-python",
   "name": "python",
   "nbconvert_exporter": "python",
   "pygments_lexer": "ipython3",
   "version": "3.8.8"
  }
 },
 "nbformat": 4,
 "nbformat_minor": 5
}
