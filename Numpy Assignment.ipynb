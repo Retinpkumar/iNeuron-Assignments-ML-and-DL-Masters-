{
 "cells": [
  {
   "cell_type": "code",
   "execution_count": 1,
   "metadata": {},
   "outputs": [],
   "source": [
    "# Write a function so that the columns of the output matrix are powers of the input vector.\n",
    "# The order of the powers is determined by the increasing boolean argument. Specifically, when increasing is False, \n",
    "# the i-th output column is the input vector raised element-wise to the power of N - i - 1.\n",
    "\n",
    "#HINT: Such a matrix with a geometric progression in each row is named for Alexandre Theophile Vandermonde."
   ]
  },
  {
   "cell_type": "code",
   "execution_count": 185,
   "metadata": {},
   "outputs": [],
   "source": [
    "import numpy as np"
   ]
  },
  {
   "cell_type": "code",
   "execution_count": 186,
   "metadata": {
    "scrolled": true
   },
   "outputs": [],
   "source": [
    "def vandermonde_matrix():\n",
    "    \n",
    "    vector_count = int(input(\"Enter the number of vector elements: \"))\n",
    "\n",
    "    vector = []\n",
    "    \n",
    "    # Creating the vector using the inputs given\n",
    "    for num in range(vector_count):\n",
    "        vector_element = int(input(f\"Enter element no {num+1}:  \"))\n",
    "        vector.append(vector_element)\n",
    "\n",
    "    x = np.array(vector).reshape(vector_count,-1) # Reshaping the vector into column vector\n",
    "\n",
    "    n_columns = int(input(\"\\nEnter the number of columns required: \"))\n",
    "\n",
    "    result = pow(x,0) # Initializing first column of the Vandermonde matrix\n",
    "    \n",
    "    # Creating the Vandermonde matrix from the vector\n",
    "    for i in range(1,n_columns):\n",
    "        column_matrix = pow(x,i)\n",
    "        result = np.concatenate((result, column_matrix), axis=1)\n",
    "    \n",
    "    print(\"\\n\\nThe Vandermonde matrix for the given input is:\\n\", '-'*44,\"\\n\\n\", result)"
   ]
  },
  {
   "cell_type": "code",
   "execution_count": 187,
   "metadata": {},
   "outputs": [
    {
     "name": "stdout",
     "output_type": "stream",
     "text": [
      "Enter the number of vector elements: 3\n",
      "Enter element no 1:  21\n",
      "Enter element no 2:  22\n",
      "Enter element no 3:  23\n",
      "\n",
      "Enter the number of columns required: 4\n",
      "\n",
      "\n",
      "The Vandermonde matrix for the given input is:\n",
      " -------------------------------------------- \n",
      "\n",
      " [[    1    21   441  9261]\n",
      " [    1    22   484 10648]\n",
      " [    1    23   529 12167]]\n"
     ]
    }
   ],
   "source": [
    "vandermont_matrix()"
   ]
  },
  {
   "cell_type": "code",
   "execution_count": 188,
   "metadata": {},
   "outputs": [],
   "source": [
    "# Given a sequence of n values x1, x2, ..., xn and a window size k>0, the k-th moving average of the given sequence is \n",
    "# defined as follows:\n",
    "# The moving average sequence has n-k+1 elements as shown below.\n",
    "# The moving averages with k=4 of a ten-value sequence (n=10) is shown below\n",
    "# i 1 2 3 4 5 6 7 8 9 10\n",
    "# ===== == == == == == == == == == ==\n",
    "# Input 10 20 30 40 50 60 70 80 90 100\n",
    "# y1 25 = (10+20+30+40)/4\n",
    "# y2 35 = (20+30+40+50)/4\n",
    "# y3 45 = (30+40+50+60)/4\n",
    "# y4 55 = (40+50+60+70)/4\n",
    "# y5 65 = (50+60+70+80)/4\n",
    "# y6 75 = (60+70+80+90)/4\n",
    "# y7 85 = (70+80+90+100)/4\n",
    "# Thus, the moving average sequence has n-k+1=10-4+1=7 values.\n",
    "\n",
    "# Question: Write a function to find moving average in an array over a window:\n",
    "# Test it over [3, 5, 7, 2, 8, 10, 11, 65, 72, 81, 99, 100, 150] and window of 3."
   ]
  },
  {
   "cell_type": "code",
   "execution_count": 192,
   "metadata": {},
   "outputs": [],
   "source": [
    "def moving_average(arr):\n",
    "    \n",
    "    window = int(input('Enter the moving average window size: '))\n",
    "\n",
    "    sequence = []\n",
    "\n",
    "    for i in range(len(arr)-window+1):\n",
    "        sequence.append(round(((arr[i:i+3]).mean()),2))\n",
    "\n",
    "    sequence = np.array(sequence)\n",
    "    \n",
    "    print(f\"\\nThe moving average sequence for the given window size \\\"{window}\\\" is: \\n\",\"-\"*59\n",
    "          ,\"\\n\\n\", sequence)"
   ]
  },
  {
   "cell_type": "code",
   "execution_count": 193,
   "metadata": {},
   "outputs": [],
   "source": [
    "array1 = np.array([3, 5, 7, 2, 8, 10, 11, 65, 72, 81, 99, 100, 150])"
   ]
  },
  {
   "cell_type": "code",
   "execution_count": 194,
   "metadata": {
    "scrolled": true
   },
   "outputs": [
    {
     "name": "stdout",
     "output_type": "stream",
     "text": [
      "Enter the moving average window size: 3\n",
      "\n",
      "The moving average sequence for the given window size \"3\" is: \n",
      " ----------------------------------------------------------- \n",
      "\n",
      " [  5.     4.67   5.67   6.67   9.67  28.67  49.33  72.67  84.    93.33\n",
      " 116.33]\n"
     ]
    }
   ],
   "source": [
    "moving_average(array1)"
   ]
  }
 ],
 "metadata": {
  "kernelspec": {
   "display_name": "Python 3",
   "language": "python",
   "name": "python3"
  },
  "language_info": {
   "codemirror_mode": {
    "name": "ipython",
    "version": 3
   },
   "file_extension": ".py",
   "mimetype": "text/x-python",
   "name": "python",
   "nbconvert_exporter": "python",
   "pygments_lexer": "ipython3",
   "version": "3.8.5"
  }
 },
 "nbformat": 4,
 "nbformat_minor": 4
}
