{
 "cells": [
  {
   "cell_type": "code",
   "execution_count": 276,
   "id": "e7daf8c5",
   "metadata": {},
   "outputs": [],
   "source": [
    "#Importing dependancies\n",
    "import numpy as np\n",
    "import scipy.stats as st\n",
    "import pandas as pd"
   ]
  },
  {
   "cell_type": "markdown",
   "id": "45fc27c0",
   "metadata": {},
   "source": [
    "### Problem 1"
   ]
  },
  {
   "cell_type": "code",
   "execution_count": 277,
   "id": "84ceca3f",
   "metadata": {},
   "outputs": [
    {
     "data": {
      "text/html": [
       "<div>\n",
       "<style scoped>\n",
       "    .dataframe tbody tr th:only-of-type {\n",
       "        vertical-align: middle;\n",
       "    }\n",
       "\n",
       "    .dataframe tbody tr th {\n",
       "        vertical-align: top;\n",
       "    }\n",
       "\n",
       "    .dataframe thead th {\n",
       "        text-align: right;\n",
       "    }\n",
       "</style>\n",
       "<table border=\"1\" class=\"dataframe\">\n",
       "  <thead>\n",
       "    <tr style=\"text-align: right;\">\n",
       "      <th></th>\n",
       "      <th>High School</th>\n",
       "      <th>Bachelors</th>\n",
       "      <th>Masters</th>\n",
       "      <th>Ph.d</th>\n",
       "      <th>Total</th>\n",
       "    </tr>\n",
       "  </thead>\n",
       "  <tbody>\n",
       "    <tr>\n",
       "      <th>Female</th>\n",
       "      <td>60</td>\n",
       "      <td>54</td>\n",
       "      <td>46</td>\n",
       "      <td>41</td>\n",
       "      <td>201</td>\n",
       "    </tr>\n",
       "    <tr>\n",
       "      <th>Male</th>\n",
       "      <td>40</td>\n",
       "      <td>44</td>\n",
       "      <td>53</td>\n",
       "      <td>57</td>\n",
       "      <td>194</td>\n",
       "    </tr>\n",
       "    <tr>\n",
       "      <th>Total</th>\n",
       "      <td>100</td>\n",
       "      <td>98</td>\n",
       "      <td>99</td>\n",
       "      <td>98</td>\n",
       "      <td>395</td>\n",
       "    </tr>\n",
       "  </tbody>\n",
       "</table>\n",
       "</div>"
      ],
      "text/plain": [
       "        High School  Bachelors  Masters  Ph.d  Total\n",
       "Female           60         54       46    41    201\n",
       "Male             40         44       53    57    194\n",
       "Total           100         98       99    98    395"
      ]
     },
     "execution_count": 277,
     "metadata": {},
     "output_type": "execute_result"
    }
   ],
   "source": [
    "data = {\"High School\":[60,40,100],\"Bachelors\":[54,44,98], \"Masters\":[46,53,99], \"Ph.d\":[41,57,98], \"Total\":[201,194,395]}\n",
    "df1 = pd.DataFrame(data, index=[\"Female\",\"Male\",\"Total\"])\n",
    "df1"
   ]
  },
  {
   "cell_type": "markdown",
   "id": "f7a327ac",
   "metadata": {},
   "source": [
    "**Hypothesis for level of education**\n",
    "* H0: There is a relationship between the respondants level of education.\n",
    "* H1: There is no relationship between the respondants level of education.\n",
    "\n",
    "**Hypothesis for gender**\n",
    "* H0: There is a relationship between the respondants gender.\n",
    "* H1: There is no relationship between the respondants gender."
   ]
  },
  {
   "cell_type": "code",
   "execution_count": 278,
   "id": "444efd54",
   "metadata": {},
   "outputs": [
    {
     "data": {
      "text/html": [
       "<div>\n",
       "<style scoped>\n",
       "    .dataframe tbody tr th:only-of-type {\n",
       "        vertical-align: middle;\n",
       "    }\n",
       "\n",
       "    .dataframe tbody tr th {\n",
       "        vertical-align: top;\n",
       "    }\n",
       "\n",
       "    .dataframe thead th {\n",
       "        text-align: right;\n",
       "    }\n",
       "</style>\n",
       "<table border=\"1\" class=\"dataframe\">\n",
       "  <thead>\n",
       "    <tr style=\"text-align: right;\">\n",
       "      <th></th>\n",
       "      <th>High School</th>\n",
       "      <th>Bachelors</th>\n",
       "      <th>Masters</th>\n",
       "      <th>Ph.d</th>\n",
       "    </tr>\n",
       "  </thead>\n",
       "  <tbody>\n",
       "    <tr>\n",
       "      <th>Female</th>\n",
       "      <td>60</td>\n",
       "      <td>54</td>\n",
       "      <td>46</td>\n",
       "      <td>41</td>\n",
       "    </tr>\n",
       "    <tr>\n",
       "      <th>Male</th>\n",
       "      <td>40</td>\n",
       "      <td>44</td>\n",
       "      <td>53</td>\n",
       "      <td>57</td>\n",
       "    </tr>\n",
       "  </tbody>\n",
       "</table>\n",
       "</div>"
      ],
      "text/plain": [
       "        High School  Bachelors  Masters  Ph.d\n",
       "Female           60         54       46    41\n",
       "Male             40         44       53    57"
      ]
     },
     "execution_count": 278,
     "metadata": {},
     "output_type": "execute_result"
    }
   ],
   "source": [
    "df = df1.iloc[:2, :4]\n",
    "df"
   ]
  },
  {
   "cell_type": "code",
   "execution_count": 279,
   "id": "c5202ebf",
   "metadata": {},
   "outputs": [
    {
     "data": {
      "text/plain": [
       "0.0"
      ]
     },
     "execution_count": 279,
     "metadata": {},
     "output_type": "execute_result"
    }
   ],
   "source": [
    "n = (df.shape[0] * df.shape[1]) #no of records\n",
    "k_col = df.shape[1]-1\n",
    "k_rows = df.shape[0]\n",
    "\n",
    "dfn = (k_col-1)*(k_rows-1)\n",
    "dfd = n-(k_col*k_rows)\n",
    "alpha - 0.05"
   ]
  },
  {
   "cell_type": "code",
   "execution_count": 280,
   "id": "cd842af7",
   "metadata": {},
   "outputs": [
    {
     "name": "stdout",
     "output_type": "stream",
     "text": [
      "Grand mean:  49.375\n"
     ]
    }
   ],
   "source": [
    "grand_mean = np.mean([df.loc['Female'].mean(),df.loc['Male'].mean()])\n",
    "print(\"Grand mean: \",grand_mean)"
   ]
  },
  {
   "cell_type": "code",
   "execution_count": 281,
   "id": "bcb78885",
   "metadata": {},
   "outputs": [],
   "source": [
    "female_mean = df.loc['Female'].mean()\n",
    "male_mean = df.loc['Male'].mean()\n",
    "hs_mean = np.mean(df['High School'])\n",
    "bach_mean = np.mean(df['Bachelors'])\n",
    "mast_mean = np.mean(df['Masters'])\n",
    "phd_mean = np.mean(df['Ph.d'])"
   ]
  },
  {
   "cell_type": "code",
   "execution_count": 282,
   "id": "d1c84b25",
   "metadata": {},
   "outputs": [
    {
     "data": {
      "text/html": [
       "<div>\n",
       "<style scoped>\n",
       "    .dataframe tbody tr th:only-of-type {\n",
       "        vertical-align: middle;\n",
       "    }\n",
       "\n",
       "    .dataframe tbody tr th {\n",
       "        vertical-align: top;\n",
       "    }\n",
       "\n",
       "    .dataframe thead th {\n",
       "        text-align: right;\n",
       "    }\n",
       "</style>\n",
       "<table border=\"1\" class=\"dataframe\">\n",
       "  <thead>\n",
       "    <tr style=\"text-align: right;\">\n",
       "      <th></th>\n",
       "      <th>High School</th>\n",
       "      <th>Bachelors</th>\n",
       "      <th>Masters</th>\n",
       "      <th>Ph.d</th>\n",
       "    </tr>\n",
       "  </thead>\n",
       "  <tbody>\n",
       "    <tr>\n",
       "      <th>Female</th>\n",
       "      <td>60</td>\n",
       "      <td>54</td>\n",
       "      <td>46</td>\n",
       "      <td>41</td>\n",
       "    </tr>\n",
       "    <tr>\n",
       "      <th>Male</th>\n",
       "      <td>40</td>\n",
       "      <td>44</td>\n",
       "      <td>53</td>\n",
       "      <td>57</td>\n",
       "    </tr>\n",
       "  </tbody>\n",
       "</table>\n",
       "</div>"
      ],
      "text/plain": [
       "        High School  Bachelors  Masters  Ph.d\n",
       "Female           60         54       46    41\n",
       "Male             40         44       53    57"
      ]
     },
     "execution_count": 282,
     "metadata": {},
     "output_type": "execute_result"
    }
   ],
   "source": [
    "df"
   ]
  },
  {
   "cell_type": "code",
   "execution_count": 283,
   "id": "ac8506a7",
   "metadata": {},
   "outputs": [
    {
     "data": {
      "text/plain": [
       "268.3333333333333"
      ]
     },
     "execution_count": 283,
     "metadata": {},
     "output_type": "execute_result"
    }
   ],
   "source": [
    "ss_between_edu = (2*np.square(df.iloc[0,0]-hs_mean))+(2*np.square(df.iloc[1,0]-hs_mean))+(2*np.square(df.iloc[0,1]-bach_mean))+(2*np.square(df.iloc[1,1]-bach_mean))+(2*np.square(df.iloc[0,2]-mast_mean))+(2*np.square(df.iloc[1,2]-mast_mean))+(2*np.square(df.iloc[0,3]-phd_mean))+(2*np.square(df.iloc[1,3]-phd_mean))\n",
    "msst_edu = ss_between_edu/3\n",
    "msst_edu"
   ]
  },
  {
   "cell_type": "code",
   "execution_count": 284,
   "id": "a44fff39",
   "metadata": {},
   "outputs": [
    {
     "data": {
      "text/plain": [
       "1591.0"
      ]
     },
     "execution_count": 284,
     "metadata": {},
     "output_type": "execute_result"
    }
   ],
   "source": [
    "s1=0\n",
    "s2=0\n",
    "for i in range(4):\n",
    "    s1 += 4*(np.square(df.iloc[0,i]-female_mean))\n",
    "for j in range(4):\n",
    "    s2 += 4*(np.square(df.iloc[1,j]-male_mean))\n",
    "\n",
    "ss_between_gender = s1+s2\n",
    "msst_gender = ss_between_gender/1\n",
    "msst_gender"
   ]
  },
  {
   "cell_type": "code",
   "execution_count": 285,
   "id": "c42795f9",
   "metadata": {},
   "outputs": [
    {
     "data": {
      "text/plain": [
       "251.0625"
      ]
     },
     "execution_count": 285,
     "metadata": {},
     "output_type": "execute_result"
    }
   ],
   "source": [
    "tss=0\n",
    "for i in [0,1]:\n",
    "    for j in [0,1]:\n",
    "        tss += np.square(df.iloc[i,j]-grand_mean)\n",
    "tss"
   ]
  },
  {
   "cell_type": "code",
   "execution_count": 287,
   "id": "ff8826d5",
   "metadata": {},
   "outputs": [
    {
     "data": {
      "text/plain": [
       "-1072.46875"
      ]
     },
     "execution_count": 287,
     "metadata": {},
     "output_type": "execute_result"
    }
   ],
   "source": [
    "sse = tss - (ss_between_edu + ss_between_gender)\n",
    "msse = sse/dfn\n",
    "msse"
   ]
  },
  {
   "cell_type": "code",
   "execution_count": 288,
   "id": "740e8432",
   "metadata": {},
   "outputs": [
    {
     "name": "stdout",
     "output_type": "stream",
     "text": [
      "F-statistic for \n",
      "Education level: -0.2502015404489253 \n",
      "Gender: -1.4834931087735657 \n",
      "F-critical: 18.999999999999982\n"
     ]
    }
   ],
   "source": [
    "f_edu = msst_edu/msse\n",
    "f_gender = msst_gender/msse\n",
    "f_critical = st.f.isf(q=alpha, dfn=dfn, dfd=dfd)\n",
    "print(f\"F-statistic for \\nEducation level: {f_edu} \\nGender: {f_gender} \\nF-critical: {f_critical}\")"
   ]
  },
  {
   "cell_type": "markdown",
   "id": "89556e28",
   "metadata": {},
   "source": [
    "### Problem 2"
   ]
  },
  {
   "cell_type": "code",
   "execution_count": 156,
   "id": "94473473",
   "metadata": {},
   "outputs": [
    {
     "data": {
      "text/html": [
       "<div>\n",
       "<style scoped>\n",
       "    .dataframe tbody tr th:only-of-type {\n",
       "        vertical-align: middle;\n",
       "    }\n",
       "\n",
       "    .dataframe tbody tr th {\n",
       "        vertical-align: top;\n",
       "    }\n",
       "\n",
       "    .dataframe thead th {\n",
       "        text-align: right;\n",
       "    }\n",
       "</style>\n",
       "<table border=\"1\" class=\"dataframe\">\n",
       "  <thead>\n",
       "    <tr style=\"text-align: right;\">\n",
       "      <th></th>\n",
       "      <th>Group1</th>\n",
       "      <th>Group2</th>\n",
       "      <th>Group3</th>\n",
       "    </tr>\n",
       "  </thead>\n",
       "  <tbody>\n",
       "    <tr>\n",
       "      <th>0</th>\n",
       "      <td>51</td>\n",
       "      <td>23</td>\n",
       "      <td>56</td>\n",
       "    </tr>\n",
       "    <tr>\n",
       "      <th>1</th>\n",
       "      <td>45</td>\n",
       "      <td>43</td>\n",
       "      <td>76</td>\n",
       "    </tr>\n",
       "    <tr>\n",
       "      <th>2</th>\n",
       "      <td>33</td>\n",
       "      <td>23</td>\n",
       "      <td>74</td>\n",
       "    </tr>\n",
       "    <tr>\n",
       "      <th>3</th>\n",
       "      <td>45</td>\n",
       "      <td>43</td>\n",
       "      <td>87</td>\n",
       "    </tr>\n",
       "    <tr>\n",
       "      <th>4</th>\n",
       "      <td>67</td>\n",
       "      <td>45</td>\n",
       "      <td>56</td>\n",
       "    </tr>\n",
       "  </tbody>\n",
       "</table>\n",
       "</div>"
      ],
      "text/plain": [
       "   Group1  Group2  Group3\n",
       "0      51      23      56\n",
       "1      45      43      76\n",
       "2      33      23      74\n",
       "3      45      43      87\n",
       "4      67      45      56"
      ]
     },
     "execution_count": 156,
     "metadata": {},
     "output_type": "execute_result"
    }
   ],
   "source": [
    "data = {\"Group1\":[51,45,33,45,67], \"Group2\":[23,43,23,43,45], \"Group3\":[56,76,74,87,56]}\n",
    "alpha = 0.05\n",
    "\n",
    "df = pd.DataFrame(data)\n",
    "df"
   ]
  },
  {
   "cell_type": "code",
   "execution_count": 157,
   "id": "c0630a13",
   "metadata": {},
   "outputs": [
    {
     "name": "stdout",
     "output_type": "stream",
     "text": [
      "n:15, k:3\n"
     ]
    }
   ],
   "source": [
    "#H0: There is a relationship between the groups\n",
    "#H1: There is no relationship between the groups\n",
    "\n",
    "n = (df.shape[0] * df.shape[1]) #no of records\n",
    "k = len(df.columns)\n",
    "print(f\"n:{n}, k:{k}\")"
   ]
  },
  {
   "cell_type": "code",
   "execution_count": 148,
   "id": "a4423a00",
   "metadata": {},
   "outputs": [
    {
     "data": {
      "text/html": [
       "<div>\n",
       "<style scoped>\n",
       "    .dataframe tbody tr th:only-of-type {\n",
       "        vertical-align: middle;\n",
       "    }\n",
       "\n",
       "    .dataframe tbody tr th {\n",
       "        vertical-align: top;\n",
       "    }\n",
       "\n",
       "    .dataframe thead th {\n",
       "        text-align: right;\n",
       "    }\n",
       "</style>\n",
       "<table border=\"1\" class=\"dataframe\">\n",
       "  <thead>\n",
       "    <tr style=\"text-align: right;\">\n",
       "      <th></th>\n",
       "      <th>Group1</th>\n",
       "      <th>Group2</th>\n",
       "      <th>Group3</th>\n",
       "      <th>Group1_var</th>\n",
       "      <th>Group2_var</th>\n",
       "      <th>Group3_var</th>\n",
       "    </tr>\n",
       "  </thead>\n",
       "  <tbody>\n",
       "    <tr>\n",
       "      <th>0</th>\n",
       "      <td>51</td>\n",
       "      <td>23</td>\n",
       "      <td>56</td>\n",
       "      <td>7.84</td>\n",
       "      <td>153.76</td>\n",
       "      <td>190.44</td>\n",
       "    </tr>\n",
       "    <tr>\n",
       "      <th>1</th>\n",
       "      <td>45</td>\n",
       "      <td>43</td>\n",
       "      <td>76</td>\n",
       "      <td>10.24</td>\n",
       "      <td>57.76</td>\n",
       "      <td>38.44</td>\n",
       "    </tr>\n",
       "    <tr>\n",
       "      <th>2</th>\n",
       "      <td>33</td>\n",
       "      <td>23</td>\n",
       "      <td>74</td>\n",
       "      <td>231.04</td>\n",
       "      <td>153.76</td>\n",
       "      <td>17.64</td>\n",
       "    </tr>\n",
       "    <tr>\n",
       "      <th>3</th>\n",
       "      <td>45</td>\n",
       "      <td>43</td>\n",
       "      <td>87</td>\n",
       "      <td>10.24</td>\n",
       "      <td>57.76</td>\n",
       "      <td>295.84</td>\n",
       "    </tr>\n",
       "    <tr>\n",
       "      <th>4</th>\n",
       "      <td>67</td>\n",
       "      <td>45</td>\n",
       "      <td>56</td>\n",
       "      <td>353.44</td>\n",
       "      <td>92.16</td>\n",
       "      <td>190.44</td>\n",
       "    </tr>\n",
       "  </tbody>\n",
       "</table>\n",
       "</div>"
      ],
      "text/plain": [
       "   Group1  Group2  Group3  Group1_var  Group2_var  Group3_var\n",
       "0      51      23      56        7.84      153.76      190.44\n",
       "1      45      43      76       10.24       57.76       38.44\n",
       "2      33      23      74      231.04      153.76       17.64\n",
       "3      45      43      87       10.24       57.76      295.84\n",
       "4      67      45      56      353.44       92.16      190.44"
      ]
     },
     "execution_count": 148,
     "metadata": {},
     "output_type": "execute_result"
    }
   ],
   "source": [
    "col_names = list(df.columns)\n",
    "# Calculating the variances\n",
    "for col in col_names: \n",
    "    name1 = col+\"_var\"\n",
    "    df[name1] = np.square(df[col] - np.mean(df[col]))\n",
    "df"
   ]
  },
  {
   "cell_type": "code",
   "execution_count": 149,
   "id": "c86f4f0f",
   "metadata": {},
   "outputs": [
    {
     "data": {
      "text/html": [
       "<div>\n",
       "<style scoped>\n",
       "    .dataframe tbody tr th:only-of-type {\n",
       "        vertical-align: middle;\n",
       "    }\n",
       "\n",
       "    .dataframe tbody tr th {\n",
       "        vertical-align: top;\n",
       "    }\n",
       "\n",
       "    .dataframe thead th {\n",
       "        text-align: right;\n",
       "    }\n",
       "</style>\n",
       "<table border=\"1\" class=\"dataframe\">\n",
       "  <thead>\n",
       "    <tr style=\"text-align: right;\">\n",
       "      <th></th>\n",
       "      <th>Group1</th>\n",
       "      <th>Group2</th>\n",
       "      <th>Group3</th>\n",
       "      <th>Group1_var</th>\n",
       "      <th>Group2_var</th>\n",
       "      <th>Group3_var</th>\n",
       "    </tr>\n",
       "  </thead>\n",
       "  <tbody>\n",
       "    <tr>\n",
       "      <th>0</th>\n",
       "      <td>51</td>\n",
       "      <td>23</td>\n",
       "      <td>56</td>\n",
       "      <td>7.84</td>\n",
       "      <td>153.76</td>\n",
       "      <td>190.44</td>\n",
       "    </tr>\n",
       "    <tr>\n",
       "      <th>1</th>\n",
       "      <td>45</td>\n",
       "      <td>43</td>\n",
       "      <td>76</td>\n",
       "      <td>10.24</td>\n",
       "      <td>57.76</td>\n",
       "      <td>38.44</td>\n",
       "    </tr>\n",
       "    <tr>\n",
       "      <th>2</th>\n",
       "      <td>33</td>\n",
       "      <td>23</td>\n",
       "      <td>74</td>\n",
       "      <td>231.04</td>\n",
       "      <td>153.76</td>\n",
       "      <td>17.64</td>\n",
       "    </tr>\n",
       "    <tr>\n",
       "      <th>3</th>\n",
       "      <td>45</td>\n",
       "      <td>43</td>\n",
       "      <td>87</td>\n",
       "      <td>10.24</td>\n",
       "      <td>57.76</td>\n",
       "      <td>295.84</td>\n",
       "    </tr>\n",
       "    <tr>\n",
       "      <th>4</th>\n",
       "      <td>67</td>\n",
       "      <td>45</td>\n",
       "      <td>56</td>\n",
       "      <td>353.44</td>\n",
       "      <td>92.16</td>\n",
       "      <td>190.44</td>\n",
       "    </tr>\n",
       "    <tr>\n",
       "      <th>Total</th>\n",
       "      <td>241</td>\n",
       "      <td>177</td>\n",
       "      <td>349</td>\n",
       "      <td>612.80</td>\n",
       "      <td>515.20</td>\n",
       "      <td>732.80</td>\n",
       "    </tr>\n",
       "  </tbody>\n",
       "</table>\n",
       "</div>"
      ],
      "text/plain": [
       "       Group1  Group2  Group3  Group1_var  Group2_var  Group3_var\n",
       "0          51      23      56        7.84      153.76      190.44\n",
       "1          45      43      76       10.24       57.76       38.44\n",
       "2          33      23      74      231.04      153.76       17.64\n",
       "3          45      43      87       10.24       57.76      295.84\n",
       "4          67      45      56      353.44       92.16      190.44\n",
       "Total     241     177     349      612.80      515.20      732.80"
      ]
     },
     "execution_count": 149,
     "metadata": {},
     "output_type": "execute_result"
    }
   ],
   "source": [
    "col_names_new = list(df.columns)\n",
    "# Calculating the total sum\n",
    "sum = []\n",
    "for column in col_names_new:\n",
    "    sum.append(df[column].sum())\n",
    "\n",
    "row = {}\n",
    "for i in range(len(col_names_new)):\n",
    "    row[str(col_names_new[i])] = sum[i]\n",
    "\n",
    "df1 = pd.DataFrame(row, index=['Total'])\n",
    "df = df.append(df1)\n",
    "df"
   ]
  },
  {
   "cell_type": "code",
   "execution_count": 150,
   "id": "ccce3616",
   "metadata": {},
   "outputs": [
    {
     "name": "stdout",
     "output_type": "stream",
     "text": [
      "Grand mean:  85.22222222222221\n"
     ]
    },
    {
     "data": {
      "text/html": [
       "<div>\n",
       "<style scoped>\n",
       "    .dataframe tbody tr th:only-of-type {\n",
       "        vertical-align: middle;\n",
       "    }\n",
       "\n",
       "    .dataframe tbody tr th {\n",
       "        vertical-align: top;\n",
       "    }\n",
       "\n",
       "    .dataframe thead th {\n",
       "        text-align: right;\n",
       "    }\n",
       "</style>\n",
       "<table border=\"1\" class=\"dataframe\">\n",
       "  <thead>\n",
       "    <tr style=\"text-align: right;\">\n",
       "      <th></th>\n",
       "      <th>Group1_mean</th>\n",
       "      <th>Group2_mean</th>\n",
       "      <th>Group3_mean</th>\n",
       "    </tr>\n",
       "  </thead>\n",
       "  <tbody>\n",
       "    <tr>\n",
       "      <th>0</th>\n",
       "      <td>80.333333</td>\n",
       "      <td>59.0</td>\n",
       "      <td>116.333333</td>\n",
       "    </tr>\n",
       "  </tbody>\n",
       "</table>\n",
       "</div>"
      ],
      "text/plain": [
       "   Group1_mean  Group2_mean  Group3_mean\n",
       "0    80.333333         59.0   116.333333"
      ]
     },
     "execution_count": 150,
     "metadata": {},
     "output_type": "execute_result"
    }
   ],
   "source": [
    "# Calculating group means and grand mean\n",
    "dict={}\n",
    "for col in col_names:\n",
    "    name2 = col +\"_mean\"\n",
    "    dict[name2] = np.mean(df[col])\n",
    "\n",
    "k_list = list(dict.keys())\n",
    "v_list = list(dict.values())\n",
    "\n",
    "df1 = pd.DataFrame(dict, index=[0])\n",
    "\n",
    "grand_mean = np.mean(v_list)\n",
    "print(\"Grand mean: \", grand_mean)\n",
    "df1"
   ]
  },
  {
   "cell_type": "code",
   "execution_count": 152,
   "id": "92cb7bda",
   "metadata": {},
   "outputs": [
    {
     "data": {
      "text/plain": [
       "0    4198.518519\n",
       "Name: Group1_mean, dtype: float64"
      ]
     },
     "execution_count": 152,
     "metadata": {},
     "output_type": "execute_result"
    }
   ],
   "source": [
    "# Calculating variability between groups\n",
    "dfn = k-1\n",
    "ss_between=0\n",
    "for col in df1.columns:\n",
    "    ss_between += (len(df)-1)*np.square(df1[col]-grand_mean)\n",
    "\n",
    "msst = ss_between/dof\n",
    "msst"
   ]
  },
  {
   "cell_type": "code",
   "execution_count": 153,
   "id": "53c5ae2c",
   "metadata": {},
   "outputs": [
    {
     "data": {
      "text/plain": [
       "155.06666666666666"
      ]
     },
     "execution_count": 153,
     "metadata": {},
     "output_type": "execute_result"
    }
   ],
   "source": [
    "# Calculating variability within the groups\n",
    "dfd = n-k\n",
    "ss_within = 0\n",
    "for total in df.loc['Total'][3:]:\n",
    "    ss_within += total\n",
    "\n",
    "msse = ss_within/(n-k)\n",
    "msse"
   ]
  },
  {
   "cell_type": "code",
   "execution_count": 168,
   "id": "cb486f9f",
   "metadata": {},
   "outputs": [
    {
     "name": "stdout",
     "output_type": "stream",
     "text": [
      "F-statistic: 0    25.0\n",
      "Name: A_mean, dtype: float64 \n",
      "\n",
      "F-critical: 5.317655071578714\n"
     ]
    }
   ],
   "source": [
    "f_statistic = msst/msse\n",
    "f_critical = st.f.isf(q=alpha, dfn=dfn, dfd=dfd)\n",
    "\n",
    "print(f\"F-statistic: {f_statistic} \\n\\nF-critical: {f_critical}\")"
   ]
  },
  {
   "cell_type": "markdown",
   "id": "1e559ea2",
   "metadata": {},
   "source": [
    "#### Inference\n",
    "Since  F-statistics  falls  within  the  critical  region,  we  reject  the  null  hypothesis.\n",
    "\n",
    "Therefore,  we  conclude  that  there  is  sufficient  evidence  to  prove  that  there  is  no  relationship  between  the  groups."
   ]
  },
  {
   "cell_type": "markdown",
   "id": "1cb1aede",
   "metadata": {},
   "source": [
    "### Problem 3"
   ]
  },
  {
   "cell_type": "code",
   "execution_count": 159,
   "id": "3815ea77",
   "metadata": {},
   "outputs": [
    {
     "data": {
      "text/html": [
       "<div>\n",
       "<style scoped>\n",
       "    .dataframe tbody tr th:only-of-type {\n",
       "        vertical-align: middle;\n",
       "    }\n",
       "\n",
       "    .dataframe tbody tr th {\n",
       "        vertical-align: top;\n",
       "    }\n",
       "\n",
       "    .dataframe thead th {\n",
       "        text-align: right;\n",
       "    }\n",
       "</style>\n",
       "<table border=\"1\" class=\"dataframe\">\n",
       "  <thead>\n",
       "    <tr style=\"text-align: right;\">\n",
       "      <th></th>\n",
       "      <th>A</th>\n",
       "      <th>B</th>\n",
       "    </tr>\n",
       "  </thead>\n",
       "  <tbody>\n",
       "    <tr>\n",
       "      <th>0</th>\n",
       "      <td>10</td>\n",
       "      <td>5</td>\n",
       "    </tr>\n",
       "    <tr>\n",
       "      <th>1</th>\n",
       "      <td>20</td>\n",
       "      <td>10</td>\n",
       "    </tr>\n",
       "    <tr>\n",
       "      <th>2</th>\n",
       "      <td>30</td>\n",
       "      <td>15</td>\n",
       "    </tr>\n",
       "    <tr>\n",
       "      <th>3</th>\n",
       "      <td>40</td>\n",
       "      <td>20</td>\n",
       "    </tr>\n",
       "    <tr>\n",
       "      <th>4</th>\n",
       "      <td>50</td>\n",
       "      <td>25</td>\n",
       "    </tr>\n",
       "  </tbody>\n",
       "</table>\n",
       "</div>"
      ],
      "text/plain": [
       "    A   B\n",
       "0  10   5\n",
       "1  20  10\n",
       "2  30  15\n",
       "3  40  20\n",
       "4  50  25"
      ]
     },
     "execution_count": 159,
     "metadata": {},
     "output_type": "execute_result"
    }
   ],
   "source": [
    "data = {\"A\":[10,20,30,40,50], \"B\":[5,10,15,20,25]}\n",
    "df = pd.DataFrame(data)\n",
    "df"
   ]
  },
  {
   "cell_type": "code",
   "execution_count": 160,
   "id": "88b01657",
   "metadata": {},
   "outputs": [
    {
     "name": "stdout",
     "output_type": "stream",
     "text": [
      "n:10, k:2\n"
     ]
    }
   ],
   "source": [
    "#H0: There is a relationship between the groups\n",
    "#H1: There is no relationship between the groups\n",
    "\n",
    "n = (df.shape[0] * df.shape[1]) #no of records\n",
    "k = len(df.columns)\n",
    "print(f\"n:{n}, k:{k}\")"
   ]
  },
  {
   "cell_type": "code",
   "execution_count": 161,
   "id": "bd4da80c",
   "metadata": {},
   "outputs": [
    {
     "data": {
      "text/html": [
       "<div>\n",
       "<style scoped>\n",
       "    .dataframe tbody tr th:only-of-type {\n",
       "        vertical-align: middle;\n",
       "    }\n",
       "\n",
       "    .dataframe tbody tr th {\n",
       "        vertical-align: top;\n",
       "    }\n",
       "\n",
       "    .dataframe thead th {\n",
       "        text-align: right;\n",
       "    }\n",
       "</style>\n",
       "<table border=\"1\" class=\"dataframe\">\n",
       "  <thead>\n",
       "    <tr style=\"text-align: right;\">\n",
       "      <th></th>\n",
       "      <th>A</th>\n",
       "      <th>B</th>\n",
       "      <th>A_var</th>\n",
       "      <th>B_var</th>\n",
       "    </tr>\n",
       "  </thead>\n",
       "  <tbody>\n",
       "    <tr>\n",
       "      <th>0</th>\n",
       "      <td>10</td>\n",
       "      <td>5</td>\n",
       "      <td>400.0</td>\n",
       "      <td>100.0</td>\n",
       "    </tr>\n",
       "    <tr>\n",
       "      <th>1</th>\n",
       "      <td>20</td>\n",
       "      <td>10</td>\n",
       "      <td>100.0</td>\n",
       "      <td>25.0</td>\n",
       "    </tr>\n",
       "    <tr>\n",
       "      <th>2</th>\n",
       "      <td>30</td>\n",
       "      <td>15</td>\n",
       "      <td>0.0</td>\n",
       "      <td>0.0</td>\n",
       "    </tr>\n",
       "    <tr>\n",
       "      <th>3</th>\n",
       "      <td>40</td>\n",
       "      <td>20</td>\n",
       "      <td>100.0</td>\n",
       "      <td>25.0</td>\n",
       "    </tr>\n",
       "    <tr>\n",
       "      <th>4</th>\n",
       "      <td>50</td>\n",
       "      <td>25</td>\n",
       "      <td>400.0</td>\n",
       "      <td>100.0</td>\n",
       "    </tr>\n",
       "  </tbody>\n",
       "</table>\n",
       "</div>"
      ],
      "text/plain": [
       "    A   B  A_var  B_var\n",
       "0  10   5  400.0  100.0\n",
       "1  20  10  100.0   25.0\n",
       "2  30  15    0.0    0.0\n",
       "3  40  20  100.0   25.0\n",
       "4  50  25  400.0  100.0"
      ]
     },
     "execution_count": 161,
     "metadata": {},
     "output_type": "execute_result"
    }
   ],
   "source": [
    "col_names = list(df.columns)\n",
    "# Calculating the variances\n",
    "for col in col_names: \n",
    "    name1 = col+\"_var\"\n",
    "    df[name1] = np.square(df[col] - np.mean(df[col]))\n",
    "df"
   ]
  },
  {
   "cell_type": "code",
   "execution_count": 162,
   "id": "7cc42261",
   "metadata": {},
   "outputs": [
    {
     "data": {
      "text/html": [
       "<div>\n",
       "<style scoped>\n",
       "    .dataframe tbody tr th:only-of-type {\n",
       "        vertical-align: middle;\n",
       "    }\n",
       "\n",
       "    .dataframe tbody tr th {\n",
       "        vertical-align: top;\n",
       "    }\n",
       "\n",
       "    .dataframe thead th {\n",
       "        text-align: right;\n",
       "    }\n",
       "</style>\n",
       "<table border=\"1\" class=\"dataframe\">\n",
       "  <thead>\n",
       "    <tr style=\"text-align: right;\">\n",
       "      <th></th>\n",
       "      <th>A</th>\n",
       "      <th>B</th>\n",
       "      <th>A_var</th>\n",
       "      <th>B_var</th>\n",
       "    </tr>\n",
       "  </thead>\n",
       "  <tbody>\n",
       "    <tr>\n",
       "      <th>0</th>\n",
       "      <td>10</td>\n",
       "      <td>5</td>\n",
       "      <td>400.0</td>\n",
       "      <td>100.0</td>\n",
       "    </tr>\n",
       "    <tr>\n",
       "      <th>1</th>\n",
       "      <td>20</td>\n",
       "      <td>10</td>\n",
       "      <td>100.0</td>\n",
       "      <td>25.0</td>\n",
       "    </tr>\n",
       "    <tr>\n",
       "      <th>2</th>\n",
       "      <td>30</td>\n",
       "      <td>15</td>\n",
       "      <td>0.0</td>\n",
       "      <td>0.0</td>\n",
       "    </tr>\n",
       "    <tr>\n",
       "      <th>3</th>\n",
       "      <td>40</td>\n",
       "      <td>20</td>\n",
       "      <td>100.0</td>\n",
       "      <td>25.0</td>\n",
       "    </tr>\n",
       "    <tr>\n",
       "      <th>4</th>\n",
       "      <td>50</td>\n",
       "      <td>25</td>\n",
       "      <td>400.0</td>\n",
       "      <td>100.0</td>\n",
       "    </tr>\n",
       "    <tr>\n",
       "      <th>Total</th>\n",
       "      <td>150</td>\n",
       "      <td>75</td>\n",
       "      <td>1000.0</td>\n",
       "      <td>250.0</td>\n",
       "    </tr>\n",
       "  </tbody>\n",
       "</table>\n",
       "</div>"
      ],
      "text/plain": [
       "         A   B   A_var  B_var\n",
       "0       10   5   400.0  100.0\n",
       "1       20  10   100.0   25.0\n",
       "2       30  15     0.0    0.0\n",
       "3       40  20   100.0   25.0\n",
       "4       50  25   400.0  100.0\n",
       "Total  150  75  1000.0  250.0"
      ]
     },
     "execution_count": 162,
     "metadata": {},
     "output_type": "execute_result"
    }
   ],
   "source": [
    "col_names_new = list(df.columns)\n",
    "# Calculating the total sum\n",
    "sum = []\n",
    "for column in col_names_new:\n",
    "    sum.append(df[column].sum())\n",
    "\n",
    "row = {}\n",
    "for i in range(len(col_names_new)):\n",
    "    row[str(col_names_new[i])] = sum[i]\n",
    "\n",
    "df1 = pd.DataFrame(row, index=['Total'])\n",
    "df = df.append(df1)\n",
    "df"
   ]
  },
  {
   "cell_type": "code",
   "execution_count": 163,
   "id": "f3552bb5",
   "metadata": {},
   "outputs": [
    {
     "name": "stdout",
     "output_type": "stream",
     "text": [
      "Grand mean:  37.5\n"
     ]
    },
    {
     "data": {
      "text/html": [
       "<div>\n",
       "<style scoped>\n",
       "    .dataframe tbody tr th:only-of-type {\n",
       "        vertical-align: middle;\n",
       "    }\n",
       "\n",
       "    .dataframe tbody tr th {\n",
       "        vertical-align: top;\n",
       "    }\n",
       "\n",
       "    .dataframe thead th {\n",
       "        text-align: right;\n",
       "    }\n",
       "</style>\n",
       "<table border=\"1\" class=\"dataframe\">\n",
       "  <thead>\n",
       "    <tr style=\"text-align: right;\">\n",
       "      <th></th>\n",
       "      <th>A_mean</th>\n",
       "      <th>B_mean</th>\n",
       "    </tr>\n",
       "  </thead>\n",
       "  <tbody>\n",
       "    <tr>\n",
       "      <th>0</th>\n",
       "      <td>50.0</td>\n",
       "      <td>25.0</td>\n",
       "    </tr>\n",
       "  </tbody>\n",
       "</table>\n",
       "</div>"
      ],
      "text/plain": [
       "   A_mean  B_mean\n",
       "0    50.0    25.0"
      ]
     },
     "execution_count": 163,
     "metadata": {},
     "output_type": "execute_result"
    }
   ],
   "source": [
    "# Calculating group means and grand mean\n",
    "dict={}\n",
    "for col in col_names:\n",
    "    name2 = col +\"_mean\"\n",
    "    dict[name2] = np.mean(df[col])\n",
    "\n",
    "k_list = list(dict.keys())\n",
    "v_list = list(dict.values())\n",
    "\n",
    "df1 = pd.DataFrame(dict, index=[0])\n",
    "\n",
    "grand_mean = np.mean(v_list)\n",
    "print(\"Grand mean: \", grand_mean)\n",
    "df1"
   ]
  },
  {
   "cell_type": "code",
   "execution_count": 164,
   "id": "62758099",
   "metadata": {},
   "outputs": [
    {
     "data": {
      "text/plain": [
       "0    781.25\n",
       "Name: A_mean, dtype: float64"
      ]
     },
     "execution_count": 164,
     "metadata": {},
     "output_type": "execute_result"
    }
   ],
   "source": [
    "# Calculating variability between groups\n",
    "dfn = k-1\n",
    "ss_between=0\n",
    "for col in df1.columns:\n",
    "    ss_between += (len(df)-1)*np.square(df1[col]-grand_mean)\n",
    "\n",
    "msst = ss_between/dof\n",
    "msst"
   ]
  },
  {
   "cell_type": "code",
   "execution_count": 165,
   "id": "ce849df8",
   "metadata": {},
   "outputs": [
    {
     "data": {
      "text/plain": [
       "31.25"
      ]
     },
     "execution_count": 165,
     "metadata": {},
     "output_type": "execute_result"
    }
   ],
   "source": [
    "# Calculating variability within the groups\n",
    "dfd = n-k\n",
    "ss_within = 0\n",
    "for total in df.loc['Total'][3:]:\n",
    "    ss_within += total\n",
    "\n",
    "msse = ss_within/(n-k)\n",
    "msse"
   ]
  },
  {
   "cell_type": "code",
   "execution_count": 169,
   "id": "b0cefac3",
   "metadata": {},
   "outputs": [
    {
     "name": "stdout",
     "output_type": "stream",
     "text": [
      "F-statistic: 0    25.0\n",
      "Name: A_mean, dtype: float64 \n",
      "\n",
      "F-critical: 5.317655071578714\n"
     ]
    }
   ],
   "source": [
    "f_statistic = msst/msse\n",
    "f_critical = st.f.isf(q=alpha, dfn=dfn, dfd=dfd)\n",
    "\n",
    "print(f\"F-statistic: {f_statistic} \\n\\nF-critical: {f_critical}\")"
   ]
  },
  {
   "cell_type": "markdown",
   "id": "c5fc2823",
   "metadata": {},
   "source": [
    "#### Inference\n",
    "Since  F-statistics  falls  within  the  critical  region,  we  reject  the  null  hypothesis.\n",
    "\n",
    "Therefore,  we  conclude  that  there  is  sufficient  evidence  to  prove  that  there  is  no  relationship  between  the  groups."
   ]
  },
  {
   "cell_type": "code",
   "execution_count": null,
   "id": "9a94ba8b",
   "metadata": {},
   "outputs": [],
   "source": []
  }
 ],
 "metadata": {
  "kernelspec": {
   "display_name": "Python 3",
   "language": "python",
   "name": "python3"
  },
  "language_info": {
   "codemirror_mode": {
    "name": "ipython",
    "version": 3
   },
   "file_extension": ".py",
   "mimetype": "text/x-python",
   "name": "python",
   "nbconvert_exporter": "python",
   "pygments_lexer": "ipython3",
   "version": "3.8.8"
  }
 },
 "nbformat": 4,
 "nbformat_minor": 5
}
