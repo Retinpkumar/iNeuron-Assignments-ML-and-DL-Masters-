{
 "cells": [
  {
   "cell_type": "code",
   "execution_count": 1,
   "id": "e2bbc603",
   "metadata": {},
   "outputs": [
    {
     "data": {
      "text/html": [
       "        <script type=\"text/javascript\">\n",
       "        window.PlotlyConfig = {MathJaxConfig: 'local'};\n",
       "        if (window.MathJax) {MathJax.Hub.Config({SVG: {font: \"STIX-Web\"}});}\n",
       "        if (typeof require !== 'undefined') {\n",
       "        require.undef(\"plotly\");\n",
       "        requirejs.config({\n",
       "            paths: {\n",
       "                'plotly': ['https://cdn.plot.ly/plotly-2.2.0.min']\n",
       "            }\n",
       "        });\n",
       "        require(['plotly'], function(Plotly) {\n",
       "            window._Plotly = Plotly;\n",
       "        });\n",
       "        }\n",
       "        </script>\n",
       "        "
      ]
     },
     "metadata": {},
     "output_type": "display_data"
    }
   ],
   "source": [
    "import numpy as np\n",
    "import pandas as pd\n",
    "import pickle\n",
    "\n",
    "import matplotlib.pyplot as plt\n",
    "%matplotlib inline\n",
    "import seaborn as sns\n",
    "sns.set_style('white')\n",
    "import plotly.figure_factory as ff\n",
    "from plotly.offline import init_notebook_mode\n",
    "init_notebook_mode(connected=True)\n",
    "\n",
    "import scipy.stats as stats\n",
    "from sklearn.datasets import load_boston\n",
    "\n",
    "import warnings\n",
    "warnings.filterwarnings('ignore')"
   ]
  },
  {
   "cell_type": "code",
   "execution_count": 2,
   "id": "c8b5f97c",
   "metadata": {},
   "outputs": [
    {
     "data": {
      "text/html": [
       "<div>\n",
       "<style scoped>\n",
       "    .dataframe tbody tr th:only-of-type {\n",
       "        vertical-align: middle;\n",
       "    }\n",
       "\n",
       "    .dataframe tbody tr th {\n",
       "        vertical-align: top;\n",
       "    }\n",
       "\n",
       "    .dataframe thead th {\n",
       "        text-align: right;\n",
       "    }\n",
       "</style>\n",
       "<table border=\"1\" class=\"dataframe\">\n",
       "  <thead>\n",
       "    <tr style=\"text-align: right;\">\n",
       "      <th></th>\n",
       "      <th>CRIM</th>\n",
       "      <th>ZN</th>\n",
       "      <th>INDUS</th>\n",
       "      <th>CHAS</th>\n",
       "      <th>NOX</th>\n",
       "      <th>RM</th>\n",
       "      <th>AGE</th>\n",
       "      <th>DIS</th>\n",
       "      <th>RAD</th>\n",
       "      <th>TAX</th>\n",
       "      <th>PTRATIO</th>\n",
       "      <th>B</th>\n",
       "      <th>LSTAT</th>\n",
       "      <th>MEDV</th>\n",
       "    </tr>\n",
       "  </thead>\n",
       "  <tbody>\n",
       "    <tr>\n",
       "      <th>0</th>\n",
       "      <td>0.00632</td>\n",
       "      <td>18.0</td>\n",
       "      <td>2.31</td>\n",
       "      <td>0.0</td>\n",
       "      <td>0.538</td>\n",
       "      <td>6.575</td>\n",
       "      <td>65.2</td>\n",
       "      <td>4.0900</td>\n",
       "      <td>1.0</td>\n",
       "      <td>296.0</td>\n",
       "      <td>15.3</td>\n",
       "      <td>396.90</td>\n",
       "      <td>4.98</td>\n",
       "      <td>24.0</td>\n",
       "    </tr>\n",
       "    <tr>\n",
       "      <th>1</th>\n",
       "      <td>0.02731</td>\n",
       "      <td>0.0</td>\n",
       "      <td>7.07</td>\n",
       "      <td>0.0</td>\n",
       "      <td>0.469</td>\n",
       "      <td>6.421</td>\n",
       "      <td>78.9</td>\n",
       "      <td>4.9671</td>\n",
       "      <td>2.0</td>\n",
       "      <td>242.0</td>\n",
       "      <td>17.8</td>\n",
       "      <td>396.90</td>\n",
       "      <td>9.14</td>\n",
       "      <td>21.6</td>\n",
       "    </tr>\n",
       "    <tr>\n",
       "      <th>2</th>\n",
       "      <td>0.02729</td>\n",
       "      <td>0.0</td>\n",
       "      <td>7.07</td>\n",
       "      <td>0.0</td>\n",
       "      <td>0.469</td>\n",
       "      <td>7.185</td>\n",
       "      <td>61.1</td>\n",
       "      <td>4.9671</td>\n",
       "      <td>2.0</td>\n",
       "      <td>242.0</td>\n",
       "      <td>17.8</td>\n",
       "      <td>392.83</td>\n",
       "      <td>4.03</td>\n",
       "      <td>34.7</td>\n",
       "    </tr>\n",
       "  </tbody>\n",
       "</table>\n",
       "</div>"
      ],
      "text/plain": [
       "      CRIM    ZN  INDUS  CHAS    NOX     RM   AGE     DIS  RAD    TAX  \\\n",
       "0  0.00632  18.0   2.31   0.0  0.538  6.575  65.2  4.0900  1.0  296.0   \n",
       "1  0.02731   0.0   7.07   0.0  0.469  6.421  78.9  4.9671  2.0  242.0   \n",
       "2  0.02729   0.0   7.07   0.0  0.469  7.185  61.1  4.9671  2.0  242.0   \n",
       "\n",
       "   PTRATIO       B  LSTAT  MEDV  \n",
       "0     15.3  396.90   4.98  24.0  \n",
       "1     17.8  396.90   9.14  21.6  \n",
       "2     17.8  392.83   4.03  34.7  "
      ]
     },
     "execution_count": 2,
     "metadata": {},
     "output_type": "execute_result"
    }
   ],
   "source": [
    "from sklearn.datasets import load_boston\n",
    "data = load_boston()\n",
    "boston_df = pd.DataFrame(data.data, \n",
    "                         columns=data['feature_names'])\n",
    "boston_df['MEDV'] = data['target']\n",
    "boston_df.head(3)"
   ]
  },
  {
   "cell_type": "code",
   "execution_count": 3,
   "id": "a2a37074",
   "metadata": {},
   "outputs": [],
   "source": [
    "# Saving the training file to the local file system\n",
    "boston_df.to_csv(\"train.csv\")"
   ]
  },
  {
   "cell_type": "code",
   "execution_count": 4,
   "id": "139a5f2a",
   "metadata": {},
   "outputs": [],
   "source": [
    "df = boston_df.copy()\n",
    "X = df.drop(columns=['MEDV'], axis=1)\n",
    "y = df['MEDV']"
   ]
  },
  {
   "cell_type": "code",
   "execution_count": 5,
   "id": "cf1fa748",
   "metadata": {},
   "outputs": [
    {
     "name": "stdout",
     "output_type": "stream",
     "text": [
      "<class 'pandas.core.frame.DataFrame'>\n",
      "RangeIndex: 506 entries, 0 to 505\n",
      "Data columns (total 14 columns):\n",
      " #   Column   Non-Null Count  Dtype  \n",
      "---  ------   --------------  -----  \n",
      " 0   CRIM     506 non-null    float64\n",
      " 1   ZN       506 non-null    float64\n",
      " 2   INDUS    506 non-null    float64\n",
      " 3   CHAS     506 non-null    float64\n",
      " 4   NOX      506 non-null    float64\n",
      " 5   RM       506 non-null    float64\n",
      " 6   AGE      506 non-null    float64\n",
      " 7   DIS      506 non-null    float64\n",
      " 8   RAD      506 non-null    float64\n",
      " 9   TAX      506 non-null    float64\n",
      " 10  PTRATIO  506 non-null    float64\n",
      " 11  B        506 non-null    float64\n",
      " 12  LSTAT    506 non-null    float64\n",
      " 13  MEDV     506 non-null    float64\n",
      "dtypes: float64(14)\n",
      "memory usage: 55.5 KB\n"
     ]
    }
   ],
   "source": [
    "# Checking data info\n",
    "df.info()"
   ]
  },
  {
   "cell_type": "markdown",
   "id": "0a8c027e",
   "metadata": {},
   "source": [
    "**Observation**:\n",
    "1. There are 506 samples and 14 features including the target.\n",
    "2. There are no missing values\n",
    "3. All the data are numerical. But, INDUS, CHAS, RM, RAD should be of type int. "
   ]
  },
  {
   "cell_type": "code",
   "execution_count": 6,
   "id": "36aa78a7",
   "metadata": {},
   "outputs": [],
   "source": [
    "# Changing dtypes\n",
    "dtype_feat = ['INDUS', 'CHAS', 'RM', 'RAD']\n",
    "for feat in dtype_feat:\n",
    "    df[feat] = df[feat]. astype('int')"
   ]
  },
  {
   "cell_type": "code",
   "execution_count": 7,
   "id": "ac504d6a",
   "metadata": {},
   "outputs": [
    {
     "name": "stdout",
     "output_type": "stream",
     "text": [
      "No of duplicate values in the dataset:  0\n"
     ]
    }
   ],
   "source": [
    "# Checking duplicates\n",
    "print(\"No of duplicate values in the dataset: \", df.duplicated().sum())"
   ]
  },
  {
   "cell_type": "code",
   "execution_count": 8,
   "id": "75a97cc2",
   "metadata": {},
   "outputs": [
    {
     "name": "stdout",
     "output_type": "stream",
     "text": [
      "No of constant features:  0\n"
     ]
    }
   ],
   "source": [
    "# Checking for constant features\n",
    "print(\"No of constant features: \", len([col for col in df if df[col].nunique==1]))"
   ]
  },
  {
   "cell_type": "code",
   "execution_count": 9,
   "id": "d9eb648f",
   "metadata": {},
   "outputs": [
    {
     "name": "stdout",
     "output_type": "stream",
     "text": [
      "Features with variance < 0.1:  ['CHAS', 'NOX']\n"
     ]
    }
   ],
   "source": [
    "# Checking for features with variance < 0.1\n",
    "low_var=[]\n",
    "for col in df:\n",
    "    if df[col].var()<0.1:\n",
    "        low_var.append(col)\n",
    "        \n",
    "print(\"Features with variance < 0.1: \", low_var)"
   ]
  },
  {
   "cell_type": "code",
   "execution_count": 10,
   "id": "d6113cc5",
   "metadata": {},
   "outputs": [
    {
     "name": "stdout",
     "output_type": "stream",
     "text": [
      "Total missing values in the dataset:  0\n"
     ]
    }
   ],
   "source": [
    "# Checking for missing values\n",
    "print(\"Total missing values in the dataset: \", df.isnull().sum().sum())"
   ]
  },
  {
   "cell_type": "code",
   "execution_count": 11,
   "id": "0c170860",
   "metadata": {},
   "outputs": [
    {
     "data": {
      "text/plain": [
       "['CRIM',\n",
       " 'ZN',\n",
       " 'INDUS',\n",
       " 'CHAS',\n",
       " 'NOX',\n",
       " 'RM',\n",
       " 'AGE',\n",
       " 'DIS',\n",
       " 'RAD',\n",
       " 'TAX',\n",
       " 'PTRATIO',\n",
       " 'B',\n",
       " 'LSTAT',\n",
       " 'MEDV']"
      ]
     },
     "execution_count": 11,
     "metadata": {},
     "output_type": "execute_result"
    }
   ],
   "source": [
    "# Exploring Numerical features\n",
    "numericalFeatures=[feat for feat in df.columns if df[feat].dtypes!='object']\n",
    "numericalFeatures"
   ]
  },
  {
   "cell_type": "code",
   "execution_count": 12,
   "id": "b9373c25",
   "metadata": {},
   "outputs": [
    {
     "data": {
      "text/plain": [
       "['INDUS', 'CHAS', 'RM', 'RAD']"
      ]
     },
     "execution_count": 12,
     "metadata": {},
     "output_type": "execute_result"
    }
   ],
   "source": [
    "# Discrete Features\n",
    "discreteFeatures = [feat for feat in numericalFeatures if df[feat].nunique()<25]\n",
    "discreteFeatures"
   ]
  },
  {
   "cell_type": "code",
   "execution_count": 13,
   "id": "af165971",
   "metadata": {},
   "outputs": [],
   "source": [
    "# Changing dtype of discrete features to category\n",
    "for feat in discreteFeatures:\n",
    "    df[feat] = df[feat].astype('category')"
   ]
  },
  {
   "cell_type": "code",
   "execution_count": 14,
   "id": "0696cb61",
   "metadata": {},
   "outputs": [
    {
     "data": {
      "text/plain": [
       "['CRIM', 'ZN', 'NOX', 'AGE', 'DIS', 'TAX', 'PTRATIO', 'B', 'LSTAT', 'MEDV']"
      ]
     },
     "execution_count": 14,
     "metadata": {},
     "output_type": "execute_result"
    }
   ],
   "source": [
    "continuousFeatures = [feat for feat in numericalFeatures if feat not in discreteFeatures]\n",
    "continuousFeatures"
   ]
  },
  {
   "cell_type": "code",
   "execution_count": 15,
   "id": "8e548ca0",
   "metadata": {},
   "outputs": [
    {
     "data": {
      "text/html": [
       "<style  type=\"text/css\" >\n",
       "#T_8fa04_row0_col0,#T_8fa04_row0_col3,#T_8fa04_row0_col4,#T_8fa04_row0_col5,#T_8fa04_row1_col0,#T_8fa04_row1_col3,#T_8fa04_row1_col4,#T_8fa04_row1_col5,#T_8fa04_row2_col0,#T_8fa04_row2_col1,#T_8fa04_row2_col2,#T_8fa04_row2_col4,#T_8fa04_row2_col5,#T_8fa04_row2_col6,#T_8fa04_row2_col7,#T_8fa04_row3_col0,#T_8fa04_row4_col0,#T_8fa04_row5_col0,#T_8fa04_row5_col1,#T_8fa04_row5_col2,#T_8fa04_row5_col3,#T_8fa04_row5_col6,#T_8fa04_row5_col7,#T_8fa04_row6_col0,#T_8fa04_row7_col0,#T_8fa04_row7_col3,#T_8fa04_row7_col4,#T_8fa04_row7_col5,#T_8fa04_row8_col0,#T_8fa04_row9_col0{\n",
       "            background-color:  #e2d9e2;\n",
       "            color:  #000000;\n",
       "        }#T_8fa04_row0_col1,#T_8fa04_row4_col1,#T_8fa04_row4_col3,#T_8fa04_row4_col5,#T_8fa04_row4_col6,#T_8fa04_row8_col3{\n",
       "            background-color:  #e0d9e2;\n",
       "            color:  #000000;\n",
       "        }#T_8fa04_row0_col2{\n",
       "            background-color:  #ccd2d8;\n",
       "            color:  #000000;\n",
       "        }#T_8fa04_row0_col6,#T_8fa04_row2_col3,#T_8fa04_row4_col4{\n",
       "            background-color:  #e1d9e2;\n",
       "            color:  #000000;\n",
       "        }#T_8fa04_row0_col7{\n",
       "            background-color:  #95b5c7;\n",
       "            color:  #000000;\n",
       "        }#T_8fa04_row1_col1,#T_8fa04_row9_col3{\n",
       "            background-color:  #d9d8de;\n",
       "            color:  #000000;\n",
       "        }#T_8fa04_row1_col2{\n",
       "            background-color:  #8cafc5;\n",
       "            color:  #000000;\n",
       "        }#T_8fa04_row1_col6,#T_8fa04_row8_col4{\n",
       "            background-color:  #dcd9e0;\n",
       "            color:  #000000;\n",
       "        }#T_8fa04_row1_col7,#T_8fa04_row3_col6,#T_8fa04_row3_col7{\n",
       "            background-color:  #8aaec5;\n",
       "            color:  #000000;\n",
       "        }#T_8fa04_row3_col1{\n",
       "            background-color:  #7ba1c2;\n",
       "            color:  #000000;\n",
       "        }#T_8fa04_row3_col2{\n",
       "            background-color:  #7ca2c2;\n",
       "            color:  #000000;\n",
       "        }#T_8fa04_row3_col3,#T_8fa04_row4_col2,#T_8fa04_row6_col2{\n",
       "            background-color:  #ded9e1;\n",
       "            color:  #000000;\n",
       "        }#T_8fa04_row3_col4{\n",
       "            background-color:  #97b7c7;\n",
       "            color:  #000000;\n",
       "        }#T_8fa04_row3_col5{\n",
       "            background-color:  #6e92c0;\n",
       "            color:  #000000;\n",
       "        }#T_8fa04_row4_col7{\n",
       "            background-color:  #ddd9e0;\n",
       "            color:  #000000;\n",
       "        }#T_8fa04_row5_col4{\n",
       "            background-color:  #b05351;\n",
       "            color:  #f1f1f1;\n",
       "        }#T_8fa04_row5_col5{\n",
       "            background-color:  #c78f72;\n",
       "            color:  #000000;\n",
       "        }#T_8fa04_row6_col1{\n",
       "            background-color:  #d0d4d9;\n",
       "            color:  #000000;\n",
       "        }#T_8fa04_row6_col3{\n",
       "            background-color:  #bfccd3;\n",
       "            color:  #000000;\n",
       "        }#T_8fa04_row6_col4,#T_8fa04_row9_col4{\n",
       "            background-color:  #ced3d9;\n",
       "            color:  #000000;\n",
       "        }#T_8fa04_row6_col5{\n",
       "            background-color:  #cdd3d8;\n",
       "            color:  #000000;\n",
       "        }#T_8fa04_row6_col6,#T_8fa04_row6_col7,#T_8fa04_row8_col1{\n",
       "            background-color:  #d7d7dd;\n",
       "            color:  #000000;\n",
       "        }#T_8fa04_row7_col1{\n",
       "            background-color:  #cca287;\n",
       "            color:  #000000;\n",
       "        }#T_8fa04_row7_col2{\n",
       "            background-color:  #3f123d;\n",
       "            color:  #f1f1f1;\n",
       "        }#T_8fa04_row7_col6{\n",
       "            background-color:  #60184a;\n",
       "            color:  #f1f1f1;\n",
       "        }#T_8fa04_row7_col7{\n",
       "            background-color:  #481341;\n",
       "            color:  #f1f1f1;\n",
       "        }#T_8fa04_row8_col2{\n",
       "            background-color:  #d1d5da;\n",
       "            color:  #000000;\n",
       "        }#T_8fa04_row8_col5{\n",
       "            background-color:  #d8d8de;\n",
       "            color:  #000000;\n",
       "        }#T_8fa04_row8_col6{\n",
       "            background-color:  #dad8df;\n",
       "            color:  #000000;\n",
       "        }#T_8fa04_row8_col7{\n",
       "            background-color:  #cbd2d7;\n",
       "            color:  #000000;\n",
       "        }#T_8fa04_row9_col1,#T_8fa04_row9_col2,#T_8fa04_row9_col5{\n",
       "            background-color:  #c9d1d7;\n",
       "            color:  #000000;\n",
       "        }#T_8fa04_row9_col6{\n",
       "            background-color:  #d4d6dc;\n",
       "            color:  #000000;\n",
       "        }#T_8fa04_row9_col7{\n",
       "            background-color:  #beccd2;\n",
       "            color:  #000000;\n",
       "        }</style><table id=\"T_8fa04_\" ><thead>    <tr>        <th class=\"blank level0\" ></th>        <th class=\"col_heading level0 col0\" >count</th>        <th class=\"col_heading level0 col1\" >mean</th>        <th class=\"col_heading level0 col2\" >std</th>        <th class=\"col_heading level0 col3\" >min</th>        <th class=\"col_heading level0 col4\" >25%</th>        <th class=\"col_heading level0 col5\" >50%</th>        <th class=\"col_heading level0 col6\" >75%</th>        <th class=\"col_heading level0 col7\" >max</th>    </tr></thead><tbody>\n",
       "                <tr>\n",
       "                        <th id=\"T_8fa04_level0_row0\" class=\"row_heading level0 row0\" >CRIM</th>\n",
       "                        <td id=\"T_8fa04_row0_col0\" class=\"data row0 col0\" >506.000000</td>\n",
       "                        <td id=\"T_8fa04_row0_col1\" class=\"data row0 col1\" >3.613524</td>\n",
       "                        <td id=\"T_8fa04_row0_col2\" class=\"data row0 col2\" >8.601545</td>\n",
       "                        <td id=\"T_8fa04_row0_col3\" class=\"data row0 col3\" >0.006320</td>\n",
       "                        <td id=\"T_8fa04_row0_col4\" class=\"data row0 col4\" >0.082045</td>\n",
       "                        <td id=\"T_8fa04_row0_col5\" class=\"data row0 col5\" >0.256510</td>\n",
       "                        <td id=\"T_8fa04_row0_col6\" class=\"data row0 col6\" >3.677083</td>\n",
       "                        <td id=\"T_8fa04_row0_col7\" class=\"data row0 col7\" >88.976200</td>\n",
       "            </tr>\n",
       "            <tr>\n",
       "                        <th id=\"T_8fa04_level0_row1\" class=\"row_heading level0 row1\" >ZN</th>\n",
       "                        <td id=\"T_8fa04_row1_col0\" class=\"data row1 col0\" >506.000000</td>\n",
       "                        <td id=\"T_8fa04_row1_col1\" class=\"data row1 col1\" >11.363636</td>\n",
       "                        <td id=\"T_8fa04_row1_col2\" class=\"data row1 col2\" >23.322453</td>\n",
       "                        <td id=\"T_8fa04_row1_col3\" class=\"data row1 col3\" >0.000000</td>\n",
       "                        <td id=\"T_8fa04_row1_col4\" class=\"data row1 col4\" >0.000000</td>\n",
       "                        <td id=\"T_8fa04_row1_col5\" class=\"data row1 col5\" >0.000000</td>\n",
       "                        <td id=\"T_8fa04_row1_col6\" class=\"data row1 col6\" >12.500000</td>\n",
       "                        <td id=\"T_8fa04_row1_col7\" class=\"data row1 col7\" >100.000000</td>\n",
       "            </tr>\n",
       "            <tr>\n",
       "                        <th id=\"T_8fa04_level0_row2\" class=\"row_heading level0 row2\" >NOX</th>\n",
       "                        <td id=\"T_8fa04_row2_col0\" class=\"data row2 col0\" >506.000000</td>\n",
       "                        <td id=\"T_8fa04_row2_col1\" class=\"data row2 col1\" >0.554695</td>\n",
       "                        <td id=\"T_8fa04_row2_col2\" class=\"data row2 col2\" >0.115878</td>\n",
       "                        <td id=\"T_8fa04_row2_col3\" class=\"data row2 col3\" >0.385000</td>\n",
       "                        <td id=\"T_8fa04_row2_col4\" class=\"data row2 col4\" >0.449000</td>\n",
       "                        <td id=\"T_8fa04_row2_col5\" class=\"data row2 col5\" >0.538000</td>\n",
       "                        <td id=\"T_8fa04_row2_col6\" class=\"data row2 col6\" >0.624000</td>\n",
       "                        <td id=\"T_8fa04_row2_col7\" class=\"data row2 col7\" >0.871000</td>\n",
       "            </tr>\n",
       "            <tr>\n",
       "                        <th id=\"T_8fa04_level0_row3\" class=\"row_heading level0 row3\" >AGE</th>\n",
       "                        <td id=\"T_8fa04_row3_col0\" class=\"data row3 col0\" >506.000000</td>\n",
       "                        <td id=\"T_8fa04_row3_col1\" class=\"data row3 col1\" >68.574901</td>\n",
       "                        <td id=\"T_8fa04_row3_col2\" class=\"data row3 col2\" >28.148861</td>\n",
       "                        <td id=\"T_8fa04_row3_col3\" class=\"data row3 col3\" >2.900000</td>\n",
       "                        <td id=\"T_8fa04_row3_col4\" class=\"data row3 col4\" >45.025000</td>\n",
       "                        <td id=\"T_8fa04_row3_col5\" class=\"data row3 col5\" >77.500000</td>\n",
       "                        <td id=\"T_8fa04_row3_col6\" class=\"data row3 col6\" >94.075000</td>\n",
       "                        <td id=\"T_8fa04_row3_col7\" class=\"data row3 col7\" >100.000000</td>\n",
       "            </tr>\n",
       "            <tr>\n",
       "                        <th id=\"T_8fa04_level0_row4\" class=\"row_heading level0 row4\" >DIS</th>\n",
       "                        <td id=\"T_8fa04_row4_col0\" class=\"data row4 col0\" >506.000000</td>\n",
       "                        <td id=\"T_8fa04_row4_col1\" class=\"data row4 col1\" >3.795043</td>\n",
       "                        <td id=\"T_8fa04_row4_col2\" class=\"data row4 col2\" >2.105710</td>\n",
       "                        <td id=\"T_8fa04_row4_col3\" class=\"data row4 col3\" >1.129600</td>\n",
       "                        <td id=\"T_8fa04_row4_col4\" class=\"data row4 col4\" >2.100175</td>\n",
       "                        <td id=\"T_8fa04_row4_col5\" class=\"data row4 col5\" >3.207450</td>\n",
       "                        <td id=\"T_8fa04_row4_col6\" class=\"data row4 col6\" >5.188425</td>\n",
       "                        <td id=\"T_8fa04_row4_col7\" class=\"data row4 col7\" >12.126500</td>\n",
       "            </tr>\n",
       "            <tr>\n",
       "                        <th id=\"T_8fa04_level0_row5\" class=\"row_heading level0 row5\" >TAX</th>\n",
       "                        <td id=\"T_8fa04_row5_col0\" class=\"data row5 col0\" >506.000000</td>\n",
       "                        <td id=\"T_8fa04_row5_col1\" class=\"data row5 col1\" >408.237154</td>\n",
       "                        <td id=\"T_8fa04_row5_col2\" class=\"data row5 col2\" >168.537116</td>\n",
       "                        <td id=\"T_8fa04_row5_col3\" class=\"data row5 col3\" >187.000000</td>\n",
       "                        <td id=\"T_8fa04_row5_col4\" class=\"data row5 col4\" >279.000000</td>\n",
       "                        <td id=\"T_8fa04_row5_col5\" class=\"data row5 col5\" >330.000000</td>\n",
       "                        <td id=\"T_8fa04_row5_col6\" class=\"data row5 col6\" >666.000000</td>\n",
       "                        <td id=\"T_8fa04_row5_col7\" class=\"data row5 col7\" >711.000000</td>\n",
       "            </tr>\n",
       "            <tr>\n",
       "                        <th id=\"T_8fa04_level0_row6\" class=\"row_heading level0 row6\" >PTRATIO</th>\n",
       "                        <td id=\"T_8fa04_row6_col0\" class=\"data row6 col0\" >506.000000</td>\n",
       "                        <td id=\"T_8fa04_row6_col1\" class=\"data row6 col1\" >18.455534</td>\n",
       "                        <td id=\"T_8fa04_row6_col2\" class=\"data row6 col2\" >2.164946</td>\n",
       "                        <td id=\"T_8fa04_row6_col3\" class=\"data row6 col3\" >12.600000</td>\n",
       "                        <td id=\"T_8fa04_row6_col4\" class=\"data row6 col4\" >17.400000</td>\n",
       "                        <td id=\"T_8fa04_row6_col5\" class=\"data row6 col5\" >19.050000</td>\n",
       "                        <td id=\"T_8fa04_row6_col6\" class=\"data row6 col6\" >20.200000</td>\n",
       "                        <td id=\"T_8fa04_row6_col7\" class=\"data row6 col7\" >22.000000</td>\n",
       "            </tr>\n",
       "            <tr>\n",
       "                        <th id=\"T_8fa04_level0_row7\" class=\"row_heading level0 row7\" >B</th>\n",
       "                        <td id=\"T_8fa04_row7_col0\" class=\"data row7 col0\" >506.000000</td>\n",
       "                        <td id=\"T_8fa04_row7_col1\" class=\"data row7 col1\" >356.674032</td>\n",
       "                        <td id=\"T_8fa04_row7_col2\" class=\"data row7 col2\" >91.294864</td>\n",
       "                        <td id=\"T_8fa04_row7_col3\" class=\"data row7 col3\" >0.320000</td>\n",
       "                        <td id=\"T_8fa04_row7_col4\" class=\"data row7 col4\" >375.377500</td>\n",
       "                        <td id=\"T_8fa04_row7_col5\" class=\"data row7 col5\" >391.440000</td>\n",
       "                        <td id=\"T_8fa04_row7_col6\" class=\"data row7 col6\" >396.225000</td>\n",
       "                        <td id=\"T_8fa04_row7_col7\" class=\"data row7 col7\" >396.900000</td>\n",
       "            </tr>\n",
       "            <tr>\n",
       "                        <th id=\"T_8fa04_level0_row8\" class=\"row_heading level0 row8\" >LSTAT</th>\n",
       "                        <td id=\"T_8fa04_row8_col0\" class=\"data row8 col0\" >506.000000</td>\n",
       "                        <td id=\"T_8fa04_row8_col1\" class=\"data row8 col1\" >12.653063</td>\n",
       "                        <td id=\"T_8fa04_row8_col2\" class=\"data row8 col2\" >7.141062</td>\n",
       "                        <td id=\"T_8fa04_row8_col3\" class=\"data row8 col3\" >1.730000</td>\n",
       "                        <td id=\"T_8fa04_row8_col4\" class=\"data row8 col4\" >6.950000</td>\n",
       "                        <td id=\"T_8fa04_row8_col5\" class=\"data row8 col5\" >11.360000</td>\n",
       "                        <td id=\"T_8fa04_row8_col6\" class=\"data row8 col6\" >16.955000</td>\n",
       "                        <td id=\"T_8fa04_row8_col7\" class=\"data row8 col7\" >37.970000</td>\n",
       "            </tr>\n",
       "            <tr>\n",
       "                        <th id=\"T_8fa04_level0_row9\" class=\"row_heading level0 row9\" >MEDV</th>\n",
       "                        <td id=\"T_8fa04_row9_col0\" class=\"data row9 col0\" >506.000000</td>\n",
       "                        <td id=\"T_8fa04_row9_col1\" class=\"data row9 col1\" >22.532806</td>\n",
       "                        <td id=\"T_8fa04_row9_col2\" class=\"data row9 col2\" >9.197104</td>\n",
       "                        <td id=\"T_8fa04_row9_col3\" class=\"data row9 col3\" >5.000000</td>\n",
       "                        <td id=\"T_8fa04_row9_col4\" class=\"data row9 col4\" >17.025000</td>\n",
       "                        <td id=\"T_8fa04_row9_col5\" class=\"data row9 col5\" >21.200000</td>\n",
       "                        <td id=\"T_8fa04_row9_col6\" class=\"data row9 col6\" >25.000000</td>\n",
       "                        <td id=\"T_8fa04_row9_col7\" class=\"data row9 col7\" >50.000000</td>\n",
       "            </tr>\n",
       "    </tbody></table>"
      ],
      "text/plain": [
       "<pandas.io.formats.style.Styler at 0x2049093b8e0>"
      ]
     },
     "execution_count": 15,
     "metadata": {},
     "output_type": "execute_result"
    }
   ],
   "source": [
    "# Descriptive stats of continuous data\n",
    "df.describe().T.style.background_gradient(cmap='twilight')"
   ]
  },
  {
   "cell_type": "markdown",
   "id": "45a6fa6c",
   "metadata": {},
   "source": [
    "**Observation**:\n",
    "1. Most of the features are skewed.\n",
    "2. 89% crime rate might be an exxagerated figure.\n",
    "3. Majority of the houses are more than 60yrs old.\n",
    "4. On an average, tax paid by every household amounts to 400 a year.\n",
    "5. The average cost of a house amounts to 22."
   ]
  },
  {
   "cell_type": "code",
   "execution_count": 16,
   "id": "ebbb1433",
   "metadata": {},
   "outputs": [
    {
     "data": {
      "text/html": [
       "<style  type=\"text/css\" >\n",
       "#T_9a1b0_row0_col0,#T_9a1b0_row0_col1,#T_9a1b0_row0_col3,#T_9a1b0_row1_col0,#T_9a1b0_row1_col1,#T_9a1b0_row1_col2,#T_9a1b0_row1_col3,#T_9a1b0_row2_col0,#T_9a1b0_row3_col0,#T_9a1b0_row3_col2,#T_9a1b0_row3_col3{\n",
       "            background-color:  #e2d9e2;\n",
       "            color:  #000000;\n",
       "        }#T_9a1b0_row0_col2{\n",
       "            background-color:  #b25652;\n",
       "            color:  #000000;\n",
       "        }#T_9a1b0_row2_col1{\n",
       "            background-color:  #6785be;\n",
       "            color:  #000000;\n",
       "        }#T_9a1b0_row2_col2{\n",
       "            background-color:  #6276ba;\n",
       "            color:  #000000;\n",
       "        }#T_9a1b0_row2_col3{\n",
       "            background-color:  #521c79;\n",
       "            color:  #f1f1f1;\n",
       "        }#T_9a1b0_row3_col1{\n",
       "            background-color:  #572385;\n",
       "            color:  #f1f1f1;\n",
       "        }</style><table id=\"T_9a1b0_\" ><thead>    <tr>        <th class=\"blank level0\" ></th>        <th class=\"col_heading level0 col0\" >count</th>        <th class=\"col_heading level0 col1\" >unique</th>        <th class=\"col_heading level0 col2\" >top</th>        <th class=\"col_heading level0 col3\" >freq</th>    </tr></thead><tbody>\n",
       "                <tr>\n",
       "                        <th id=\"T_9a1b0_level0_row0\" class=\"row_heading level0 row0\" >INDUS</th>\n",
       "                        <td id=\"T_9a1b0_row0_col0\" class=\"data row0 col0\" >506</td>\n",
       "                        <td id=\"T_9a1b0_row0_col1\" class=\"data row0 col1\" >20</td>\n",
       "                        <td id=\"T_9a1b0_row0_col2\" class=\"data row0 col2\" >18</td>\n",
       "                        <td id=\"T_9a1b0_row0_col3\" class=\"data row0 col3\" >132</td>\n",
       "            </tr>\n",
       "            <tr>\n",
       "                        <th id=\"T_9a1b0_level0_row1\" class=\"row_heading level0 row1\" >CHAS</th>\n",
       "                        <td id=\"T_9a1b0_row1_col0\" class=\"data row1 col0\" >506</td>\n",
       "                        <td id=\"T_9a1b0_row1_col1\" class=\"data row1 col1\" >2</td>\n",
       "                        <td id=\"T_9a1b0_row1_col2\" class=\"data row1 col2\" >0</td>\n",
       "                        <td id=\"T_9a1b0_row1_col3\" class=\"data row1 col3\" >471</td>\n",
       "            </tr>\n",
       "            <tr>\n",
       "                        <th id=\"T_9a1b0_level0_row2\" class=\"row_heading level0 row2\" >RM</th>\n",
       "                        <td id=\"T_9a1b0_row2_col0\" class=\"data row2 col0\" >506</td>\n",
       "                        <td id=\"T_9a1b0_row2_col1\" class=\"data row2 col1\" >6</td>\n",
       "                        <td id=\"T_9a1b0_row2_col2\" class=\"data row2 col2\" >6</td>\n",
       "                        <td id=\"T_9a1b0_row2_col3\" class=\"data row2 col3\" >269</td>\n",
       "            </tr>\n",
       "            <tr>\n",
       "                        <th id=\"T_9a1b0_level0_row3\" class=\"row_heading level0 row3\" >RAD</th>\n",
       "                        <td id=\"T_9a1b0_row3_col0\" class=\"data row3 col0\" >506</td>\n",
       "                        <td id=\"T_9a1b0_row3_col1\" class=\"data row3 col1\" >9</td>\n",
       "                        <td id=\"T_9a1b0_row3_col2\" class=\"data row3 col2\" >24</td>\n",
       "                        <td id=\"T_9a1b0_row3_col3\" class=\"data row3 col3\" >132</td>\n",
       "            </tr>\n",
       "    </tbody></table>"
      ],
      "text/plain": [
       "<pandas.io.formats.style.Styler at 0x20490af6490>"
      ]
     },
     "execution_count": 16,
     "metadata": {},
     "output_type": "execute_result"
    }
   ],
   "source": [
    "# Descriptive stats of discrete data\n",
    "df.describe(include=['category']).T.style.background_gradient(cmap='twilight')"
   ]
  },
  {
   "cell_type": "code",
   "execution_count": 17,
   "id": "cf7b21b5",
   "metadata": {},
   "outputs": [
    {
     "data": {
      "text/html": [
       "<div>\n",
       "<style scoped>\n",
       "    .dataframe tbody tr th:only-of-type {\n",
       "        vertical-align: middle;\n",
       "    }\n",
       "\n",
       "    .dataframe tbody tr th {\n",
       "        vertical-align: top;\n",
       "    }\n",
       "\n",
       "    .dataframe thead th {\n",
       "        text-align: right;\n",
       "    }\n",
       "</style>\n",
       "<table border=\"1\" class=\"dataframe\">\n",
       "  <thead>\n",
       "    <tr style=\"text-align: right;\">\n",
       "      <th></th>\n",
       "      <th>INDUS</th>\n",
       "      <th>CHAS</th>\n",
       "      <th>RM</th>\n",
       "      <th>RAD</th>\n",
       "    </tr>\n",
       "  </thead>\n",
       "  <tbody>\n",
       "    <tr>\n",
       "      <th>0</th>\n",
       "      <td>2</td>\n",
       "      <td>0</td>\n",
       "      <td>6</td>\n",
       "      <td>1</td>\n",
       "    </tr>\n",
       "    <tr>\n",
       "      <th>1</th>\n",
       "      <td>7</td>\n",
       "      <td>0</td>\n",
       "      <td>6</td>\n",
       "      <td>2</td>\n",
       "    </tr>\n",
       "    <tr>\n",
       "      <th>2</th>\n",
       "      <td>7</td>\n",
       "      <td>0</td>\n",
       "      <td>7</td>\n",
       "      <td>2</td>\n",
       "    </tr>\n",
       "    <tr>\n",
       "      <th>3</th>\n",
       "      <td>2</td>\n",
       "      <td>0</td>\n",
       "      <td>6</td>\n",
       "      <td>3</td>\n",
       "    </tr>\n",
       "    <tr>\n",
       "      <th>4</th>\n",
       "      <td>2</td>\n",
       "      <td>0</td>\n",
       "      <td>7</td>\n",
       "      <td>3</td>\n",
       "    </tr>\n",
       "  </tbody>\n",
       "</table>\n",
       "</div>"
      ],
      "text/plain": [
       "  INDUS CHAS RM RAD\n",
       "0     2    0  6   1\n",
       "1     7    0  6   2\n",
       "2     7    0  7   2\n",
       "3     2    0  6   3\n",
       "4     2    0  7   3"
      ]
     },
     "execution_count": 17,
     "metadata": {},
     "output_type": "execute_result"
    }
   ],
   "source": [
    "# Creating a dataframe for discrete features\n",
    "df_discrete = df[discreteFeatures]\n",
    "df_discrete.head()"
   ]
  },
  {
   "cell_type": "code",
   "execution_count": 18,
   "id": "3f1cf97f",
   "metadata": {},
   "outputs": [
    {
     "name": "stdout",
     "output_type": "stream",
     "text": [
      "Cardinality\n",
      " ----------\n",
      "INDUS  :  20\n",
      "CHAS  :  2\n",
      "RM  :  6\n",
      "RAD  :  9\n"
     ]
    }
   ],
   "source": [
    "# Checking cardinality of discrete features\n",
    "print(\"Cardinality\\n\",\"-\"*10)\n",
    "for col in df_discrete:\n",
    "    print(col,\" : \",df_discrete[col].nunique())"
   ]
  },
  {
   "cell_type": "code",
   "execution_count": 19,
   "id": "8db0fe6e",
   "metadata": {},
   "outputs": [
    {
     "data": {
      "image/png": "[encoded data removed]",
      "text/plain": [
       "<Figure size 864x1440 with 8 Axes>"
      ]
     },
     "metadata": {},
     "output_type": "display_data"
    }
   ],
   "source": [
    "# Checking the distribution of discrete features\n",
    "\n",
    "plt.figure(figsize=(12,20), facecolor='white')\n",
    "plotnumber = 1\n",
    "\n",
    "for column in df_discrete:\n",
    "    if plotnumber<= 8:\n",
    "        ax1 = plt.subplot(4,2,plotnumber)\n",
    "        sns.countplot(df_discrete[column])\n",
    "        plt.xticks(fontsize=13)\n",
    "        plt.yticks(fontsize=13)\n",
    "        plt.xlabel(column,fontsize=15)\n",
    "        plt.ylabel('Count', fontsize=15)\n",
    "        \n",
    "        ax2 = plt.subplot(4,2, plotnumber+1)\n",
    "        sns.boxplot(x=df_discrete[column], y=df['MEDV'])\n",
    "        plt.xticks(fontsize=13)\n",
    "        plt.yticks(fontsize=13)\n",
    "        plt.xlabel(column,fontsize=15)\n",
    "        plt.ylabel('MEDV',fontsize=15)\n",
    "    plotnumber+=2\n",
    "plt.tight_layout()"
   ]
  },
  {
   "cell_type": "markdown",
   "id": "0d31ca4e",
   "metadata": {},
   "source": [
    "**Observations**:\n",
    "1. Most of the distribution for 'INDUS' seems to be grouped from 1 to 10 and thereafter we see a scattered pattern with peak at 18. We find three price ranges for houses with \"INDUS\" = 0-3, 4-15, 18-27\n",
    "\n",
    "2. Most of CHAS is dominated by the class \"0\". There seems to be not much difference in the median housing prices for 'CHAS'.\n",
    "\n",
    "3. Most of the houses have either 5 or 6 rooms. Its interesting to note that houses with 3 rooms command higher average price compared to houses with 6 rooms or less.\n",
    "\n",
    "4. Classes from 9 to 23 in RAD seems missing. Chances are that all those might have been clubbed together at 24. Though there is not much difference in the median housing prices for classes 1 to 8 in RAD, there seems to be a considerable difference between class 24 and rest of the RAD.\n",
    "\n",
    "Hence, we can:\n",
    "1. Group INDUS into 3 categories: 0-3, 4-15, 18-27\n",
    "2. Drop CHAS\n",
    "3. Group RAD into 2 catergories: 0-8, 9-24"
   ]
  },
  {
   "cell_type": "code",
   "execution_count": 20,
   "id": "7ea3bbea",
   "metadata": {},
   "outputs": [
    {
     "data": {
      "text/html": [
       "<div>\n",
       "<style scoped>\n",
       "    .dataframe tbody tr th:only-of-type {\n",
       "        vertical-align: middle;\n",
       "    }\n",
       "\n",
       "    .dataframe tbody tr th {\n",
       "        vertical-align: top;\n",
       "    }\n",
       "\n",
       "    .dataframe thead th {\n",
       "        text-align: right;\n",
       "    }\n",
       "</style>\n",
       "<table border=\"1\" class=\"dataframe\">\n",
       "  <thead>\n",
       "    <tr style=\"text-align: right;\">\n",
       "      <th></th>\n",
       "      <th>CRIM</th>\n",
       "      <th>ZN</th>\n",
       "      <th>NOX</th>\n",
       "      <th>AGE</th>\n",
       "      <th>DIS</th>\n",
       "      <th>TAX</th>\n",
       "      <th>PTRATIO</th>\n",
       "      <th>B</th>\n",
       "      <th>LSTAT</th>\n",
       "      <th>MEDV</th>\n",
       "    </tr>\n",
       "  </thead>\n",
       "  <tbody>\n",
       "    <tr>\n",
       "      <th>0</th>\n",
       "      <td>0.00632</td>\n",
       "      <td>18.0</td>\n",
       "      <td>0.538</td>\n",
       "      <td>65.2</td>\n",
       "      <td>4.0900</td>\n",
       "      <td>296.0</td>\n",
       "      <td>15.3</td>\n",
       "      <td>396.90</td>\n",
       "      <td>4.98</td>\n",
       "      <td>24.0</td>\n",
       "    </tr>\n",
       "    <tr>\n",
       "      <th>1</th>\n",
       "      <td>0.02731</td>\n",
       "      <td>0.0</td>\n",
       "      <td>0.469</td>\n",
       "      <td>78.9</td>\n",
       "      <td>4.9671</td>\n",
       "      <td>242.0</td>\n",
       "      <td>17.8</td>\n",
       "      <td>396.90</td>\n",
       "      <td>9.14</td>\n",
       "      <td>21.6</td>\n",
       "    </tr>\n",
       "    <tr>\n",
       "      <th>2</th>\n",
       "      <td>0.02729</td>\n",
       "      <td>0.0</td>\n",
       "      <td>0.469</td>\n",
       "      <td>61.1</td>\n",
       "      <td>4.9671</td>\n",
       "      <td>242.0</td>\n",
       "      <td>17.8</td>\n",
       "      <td>392.83</td>\n",
       "      <td>4.03</td>\n",
       "      <td>34.7</td>\n",
       "    </tr>\n",
       "    <tr>\n",
       "      <th>3</th>\n",
       "      <td>0.03237</td>\n",
       "      <td>0.0</td>\n",
       "      <td>0.458</td>\n",
       "      <td>45.8</td>\n",
       "      <td>6.0622</td>\n",
       "      <td>222.0</td>\n",
       "      <td>18.7</td>\n",
       "      <td>394.63</td>\n",
       "      <td>2.94</td>\n",
       "      <td>33.4</td>\n",
       "    </tr>\n",
       "    <tr>\n",
       "      <th>4</th>\n",
       "      <td>0.06905</td>\n",
       "      <td>0.0</td>\n",
       "      <td>0.458</td>\n",
       "      <td>54.2</td>\n",
       "      <td>6.0622</td>\n",
       "      <td>222.0</td>\n",
       "      <td>18.7</td>\n",
       "      <td>396.90</td>\n",
       "      <td>5.33</td>\n",
       "      <td>36.2</td>\n",
       "    </tr>\n",
       "  </tbody>\n",
       "</table>\n",
       "</div>"
      ],
      "text/plain": [
       "      CRIM    ZN    NOX   AGE     DIS    TAX  PTRATIO       B  LSTAT  MEDV\n",
       "0  0.00632  18.0  0.538  65.2  4.0900  296.0     15.3  396.90   4.98  24.0\n",
       "1  0.02731   0.0  0.469  78.9  4.9671  242.0     17.8  396.90   9.14  21.6\n",
       "2  0.02729   0.0  0.469  61.1  4.9671  242.0     17.8  392.83   4.03  34.7\n",
       "3  0.03237   0.0  0.458  45.8  6.0622  222.0     18.7  394.63   2.94  33.4\n",
       "4  0.06905   0.0  0.458  54.2  6.0622  222.0     18.7  396.90   5.33  36.2"
      ]
     },
     "execution_count": 20,
     "metadata": {},
     "output_type": "execute_result"
    }
   ],
   "source": [
    "# Creating a dataframe for Categorical features\n",
    "df_cont = df[continuousFeatures]\n",
    "df_cont.head()"
   ]
  },
  {
   "cell_type": "code",
   "execution_count": 21,
   "id": "e9d4d24e",
   "metadata": {
    "scrolled": false
   },
   "outputs": [
    {
     "data": {
      "image/png": "[encoded data removed]",
      "text/plain": [
       "<Figure size 720x2880 with 20 Axes>"
      ]
     },
     "metadata": {},
     "output_type": "display_data"
    }
   ],
   "source": [
    "# Checking the distribution of continuous features\n",
    "\n",
    "plt.figure(figsize=(10,40), facecolor='white')\n",
    "plotnumber = 1\n",
    "\n",
    "for column in df_cont:\n",
    "    if plotnumber<= 20:\n",
    "        ax1 = plt.subplot(10,2,plotnumber)\n",
    "        sns.histplot(data=df_cont, x=column, kde=True,color='#EF8C50', edgecolor='black')\n",
    "        plt.xticks(fontsize=13)\n",
    "        plt.yticks(fontsize=13)\n",
    "        plt.xlabel(column,fontsize=15)\n",
    "        plt.ylabel(' ',fontsize=15)\n",
    "        \n",
    "        ax2 = plt.subplot(10,2, plotnumber+1)\n",
    "        plt.scatter(data=df_cont, x=column, y='MEDV', alpha=0.3, color='#6CDEB7', edgecolor='black')\n",
    "        plt.xticks(fontsize=13)\n",
    "        plt.yticks(fontsize=13)\n",
    "        plt.xlabel(column,fontsize=15)\n",
    "        plt.ylabel('MEDV',fontsize=15)\n",
    "    plotnumber+=2\n",
    "plt.tight_layout()"
   ]
  },
  {
   "cell_type": "markdown",
   "id": "7049945c",
   "metadata": {},
   "source": [
    "**Observations**:\n",
    "1. Most of the features are highly skewed.\n",
    "2. Max price of the houses seems to be capped at 50.\n",
    "3. Ignoring max housing price, 'LSTAT' displays good linear relation with the target.\n",
    "4. TAX is bimodal in nature."
   ]
  },
  {
   "cell_type": "code",
   "execution_count": 22,
   "id": "f399a2db",
   "metadata": {},
   "outputs": [],
   "source": [
    "# Separating positively and negatively skewed features\n",
    "\n",
    "positively_skewed = [feat for feat in continuousFeatures if df_cont[feat].skew()>0.7]\n",
    "negatively_skewed = [feat for feat in continuousFeatures if df_cont[feat].skew()<-0.7]"
   ]
  },
  {
   "cell_type": "code",
   "execution_count": 23,
   "id": "5cd7564a",
   "metadata": {},
   "outputs": [
    {
     "name": "stdout",
     "output_type": "stream",
     "text": [
      "Positively skewed features:  ['CRIM', 'ZN', 'NOX', 'DIS', 'LSTAT', 'MEDV']\n",
      "\n",
      "Negatively skewed features:  ['PTRATIO', 'B']\n"
     ]
    }
   ],
   "source": [
    "print(\"Positively skewed features: \", positively_skewed)\n",
    "print(\"\\nNegatively skewed features: \",negatively_skewed)"
   ]
  },
  {
   "cell_type": "code",
   "execution_count": 24,
   "id": "97d5dd6d",
   "metadata": {},
   "outputs": [
    {
     "name": "stdout",
     "output_type": "stream",
     "text": [
      "Outliers in CRIM: 13.04%\n",
      "Outliers in ZN: 13.44%\n",
      "Outliers in NOX: 0.0%\n",
      "Outliers in AGE: 2.77%\n",
      "Outliers in DIS: 0.99%\n",
      "Outliers in TAX: 0.0%\n",
      "Outliers in PTRATIO: 2.96%\n",
      "Outliers in B: 15.22%\n",
      "Outliers in LSTAT: 1.38%\n",
      "Outliers in MEDV: 7.91%\n"
     ]
    }
   ],
   "source": [
    "# Checking for outliers\n",
    "\n",
    "skewed_features = positively_skewed + negatively_skewed\n",
    "outlier_dict={}\n",
    "\n",
    "for feat in continuousFeatures:\n",
    "    if feat in skewed_features:\n",
    "        # Applying IQR for identifying outliers for skewed features\n",
    "        q1 = df_cont[feat].quantile(0.25)\n",
    "        q3 = df_cont[feat].quantile(0.75)\n",
    "        iqr = q3 - q1\n",
    "        upper = q3+(1.5*iqr)\n",
    "        lower = q1-(1.5*iqr)\n",
    "        outlier_count = np.sum(df_cont[feat]>upper)+np.sum(df_cont[feat]<lower)\n",
    "    else:\n",
    "        # Applying 2 standard deviations for normally distributed features\n",
    "        feat_mean = np.mean(df_cont[feat])\n",
    "        feat_stdev = np.std(df_cont[feat])\n",
    "        upper = feat_mean+(2*feat_stdev)\n",
    "        lower = feat_mean-(2*feat_stdev)\n",
    "        outlier_count = np.sum(df_cont[feat]>upper)+np.sum(df_cont[feat]<lower)\n",
    "    outlier_dict[feat]=outlier_count\n",
    "    \n",
    "for feat,count in outlier_dict.items():\n",
    "    print(\"Outliers in {}: {}%\".format(feat, (count*100/df.shape[0]).round(2)))"
   ]
  },
  {
   "cell_type": "code",
   "execution_count": 25,
   "id": "24e133f6",
   "metadata": {},
   "outputs": [
    {
     "data": {
      "image/png": "[encoded data removed]",
      "text/plain": [
       "<Figure size 720x1440 with 10 Axes>"
      ]
     },
     "metadata": {},
     "output_type": "display_data"
    }
   ],
   "source": [
    "# Visualizing outliers\n",
    "\n",
    "plt.figure(figsize=(10,20), facecolor='white')\n",
    "plotnumber = 1\n",
    "\n",
    "for column in df_cont:\n",
    "    if plotnumber<= 10:\n",
    "        ax1 = plt.subplot(5,2,plotnumber)\n",
    "        sns.boxplot(data=df_cont, y=column)\n",
    "        plt.xticks(fontsize=13)\n",
    "        plt.yticks(fontsize=13)\n",
    "        plt.xlabel(column,fontsize=15)\n",
    "        plt.ylabel(' ',fontsize=15)\n",
    "    plotnumber+=1\n",
    "plt.tight_layout()"
   ]
  },
  {
   "cell_type": "markdown",
   "id": "f4e65fc2",
   "metadata": {},
   "source": [
    "**Observations**:\n",
    "1. 'CRIM', 'ZN' and 'B' are heavily influenced by outliers.\n",
    "2. Most other outliers could possibly be managed through transformations.\n",
    "3. 'B' might require discretization."
   ]
  },
  {
   "cell_type": "code",
   "execution_count": 26,
   "id": "144435a8",
   "metadata": {},
   "outputs": [
    {
     "data": {
      "application/vnd.plotly.v1+json": {
       "config": {
        "plotlyServerURL": "https://plot.ly"
       },
       "data": [
        {
         "colorscale": [
          [
           0,
           "#0d0887"
          ],
          [
           0.1111111111111111,
           "#46039f"
          ],
          [
           0.2222222222222222,
           "#7201a8"
          ],
          [
           0.3333333333333333,
           "#9c179e"
          ],
          [
           0.4444444444444444,
           "#bd3786"
          ],
          [
           0.5555555555555556,
           "#d8576b"
          ],
          [
           0.6666666666666666,
           "#ed7953"
          ],
          [
           0.7777777777777778,
           "#fb9f3a"
          ],
          [
           0.8888888888888888,
           "#fdca26"
          ],
          [
           1,
           "#f0f921"
          ]
         ],
         "reversescale": false,
         "showscale": false,
         "type": "heatmap",
         "x": [
          "CRIM",
          "ZN",
          "NOX",
          "AGE",
          "DIS",
          "TAX",
          "PTRATIO",
          "B",
          "LSTAT",
          "MEDV"
         ],
         "y": [
          "CRIM",
          "ZN",
          "NOX",
          "AGE",
          "DIS",
          "TAX",
          "PTRATIO",
          "B",
          "LSTAT",
          "MEDV"
         ],
         "z": [
          [
           0,
           0,
           0,
           0,
           0,
           0,
           0,
           0,
           0,
           0
          ],
          [
           0,
           0,
           0,
           0,
           0.66,
           0,
           0,
           0,
           0,
           0
          ],
          [
           0,
           0,
           0,
           0.73,
           -0.77,
           0.67,
           0,
           0,
           0,
           0
          ],
          [
           0,
           0,
           0.73,
           0,
           -0.75,
           0,
           0,
           0,
           0.6,
           0
          ],
          [
           0,
           0.66,
           -0.77,
           -0.75,
           0,
           0,
           0,
           0,
           0,
           0
          ],
          [
           0,
           0,
           0.67,
           0,
           0,
           0,
           0,
           0,
           0,
           0
          ],
          [
           0,
           0,
           0,
           0,
           0,
           0,
           0,
           0,
           0,
           0
          ],
          [
           0,
           0,
           0,
           0,
           0,
           0,
           0,
           0,
           0,
           0
          ],
          [
           0,
           0,
           0,
           0.6,
           0,
           0,
           0,
           0,
           0,
           -0.74
          ],
          [
           0,
           0,
           0,
           0,
           0,
           0,
           0,
           0,
           -0.74,
           0
          ]
         ]
        }
       ],
       "layout": {
        "annotations": [
         {
          "font": {
           "color": "#000000"
          },
          "showarrow": false,
          "text": "0.0",
          "x": "CRIM",
          "xref": "x",
          "y": "CRIM",
          "yref": "y"
         },
         {
          "font": {
           "color": "#000000"
          },
          "showarrow": false,
          "text": "0.0",
          "x": "ZN",
          "xref": "x",
          "y": "CRIM",
          "yref": "y"
         },
         {
          "font": {
           "color": "#000000"
          },
          "showarrow": false,
          "text": "0.0",
          "x": "NOX",
          "xref": "x",
          "y": "CRIM",
          "yref": "y"
         },
         {
          "font": {
           "color": "#000000"
          },
          "showarrow": false,
          "text": "0.0",
          "x": "AGE",
          "xref": "x",
          "y": "CRIM",
          "yref": "y"
         },
         {
          "font": {
           "color": "#000000"
          },
          "showarrow": false,
          "text": "0.0",
          "x": "DIS",
          "xref": "x",
          "y": "CRIM",
          "yref": "y"
         },
         {
          "font": {
           "color": "#000000"
          },
          "showarrow": false,
          "text": "0.0",
          "x": "TAX",
          "xref": "x",
          "y": "CRIM",
          "yref": "y"
         },
         {
          "font": {
           "color": "#000000"
          },
          "showarrow": false,
          "text": "0.0",
          "x": "PTRATIO",
          "xref": "x",
          "y": "CRIM",
          "yref": "y"
         },
         {
          "font": {
           "color": "#000000"
          },
          "showarrow": false,
          "text": "0.0",
          "x": "B",
          "xref": "x",
          "y": "CRIM",
          "yref": "y"
         },
         {
          "font": {
           "color": "#000000"
          },
          "showarrow": false,
          "text": "0.0",
          "x": "LSTAT",
          "xref": "x",
          "y": "CRIM",
          "yref": "y"
         },
         {
          "font": {
           "color": "#000000"
          },
          "showarrow": false,
          "text": "0.0",
          "x": "MEDV",
          "xref": "x",
          "y": "CRIM",
          "yref": "y"
         },
         {
          "font": {
           "color": "#000000"
          },
          "showarrow": false,
          "text": "0.0",
          "x": "CRIM",
          "xref": "x",
          "y": "ZN",
          "yref": "y"
         },
         {
          "font": {
           "color": "#000000"
          },
          "showarrow": false,
          "text": "0.0",
          "x": "ZN",
          "xref": "x",
          "y": "ZN",
          "yref": "y"
         },
         {
          "font": {
           "color": "#000000"
          },
          "showarrow": false,
          "text": "0.0",
          "x": "NOX",
          "xref": "x",
          "y": "ZN",
          "yref": "y"
         },
         {
          "font": {
           "color": "#000000"
          },
          "showarrow": false,
          "text": "0.0",
          "x": "AGE",
          "xref": "x",
          "y": "ZN",
          "yref": "y"
         },
         {
          "font": {
           "color": "#000000"
          },
          "showarrow": false,
          "text": "0.66",
          "x": "DIS",
          "xref": "x",
          "y": "ZN",
          "yref": "y"
         },
         {
          "font": {
           "color": "#000000"
          },
          "showarrow": false,
          "text": "0.0",
          "x": "TAX",
          "xref": "x",
          "y": "ZN",
          "yref": "y"
         },
         {
          "font": {
           "color": "#000000"
          },
          "showarrow": false,
          "text": "0.0",
          "x": "PTRATIO",
          "xref": "x",
          "y": "ZN",
          "yref": "y"
         },
         {
          "font": {
           "color": "#000000"
          },
          "showarrow": false,
          "text": "0.0",
          "x": "B",
          "xref": "x",
          "y": "ZN",
          "yref": "y"
         },
         {
          "font": {
           "color": "#000000"
          },
          "showarrow": false,
          "text": "0.0",
          "x": "LSTAT",
          "xref": "x",
          "y": "ZN",
          "yref": "y"
         },
         {
          "font": {
           "color": "#000000"
          },
          "showarrow": false,
          "text": "0.0",
          "x": "MEDV",
          "xref": "x",
          "y": "ZN",
          "yref": "y"
         },
         {
          "font": {
           "color": "#000000"
          },
          "showarrow": false,
          "text": "0.0",
          "x": "CRIM",
          "xref": "x",
          "y": "NOX",
          "yref": "y"
         },
         {
          "font": {
           "color": "#000000"
          },
          "showarrow": false,
          "text": "0.0",
          "x": "ZN",
          "xref": "x",
          "y": "NOX",
          "yref": "y"
         },
         {
          "font": {
           "color": "#000000"
          },
          "showarrow": false,
          "text": "0.0",
          "x": "NOX",
          "xref": "x",
          "y": "NOX",
          "yref": "y"
         },
         {
          "font": {
           "color": "#000000"
          },
          "showarrow": false,
          "text": "0.73",
          "x": "AGE",
          "xref": "x",
          "y": "NOX",
          "yref": "y"
         },
         {
          "font": {
           "color": "#FFFFFF"
          },
          "showarrow": false,
          "text": "-0.77",
          "x": "DIS",
          "xref": "x",
          "y": "NOX",
          "yref": "y"
         },
         {
          "font": {
           "color": "#000000"
          },
          "showarrow": false,
          "text": "0.67",
          "x": "TAX",
          "xref": "x",
          "y": "NOX",
          "yref": "y"
         },
         {
          "font": {
           "color": "#000000"
          },
          "showarrow": false,
          "text": "0.0",
          "x": "PTRATIO",
          "xref": "x",
          "y": "NOX",
          "yref": "y"
         },
         {
          "font": {
           "color": "#000000"
          },
          "showarrow": false,
          "text": "0.0",
          "x": "B",
          "xref": "x",
          "y": "NOX",
          "yref": "y"
         },
         {
          "font": {
           "color": "#000000"
          },
          "showarrow": false,
          "text": "0.0",
          "x": "LSTAT",
          "xref": "x",
          "y": "NOX",
          "yref": "y"
         },
         {
          "font": {
           "color": "#000000"
          },
          "showarrow": false,
          "text": "0.0",
          "x": "MEDV",
          "xref": "x",
          "y": "NOX",
          "yref": "y"
         },
         {
          "font": {
           "color": "#000000"
          },
          "showarrow": false,
          "text": "0.0",
          "x": "CRIM",
          "xref": "x",
          "y": "AGE",
          "yref": "y"
         },
         {
          "font": {
           "color": "#000000"
          },
          "showarrow": false,
          "text": "0.0",
          "x": "ZN",
          "xref": "x",
          "y": "AGE",
          "yref": "y"
         },
         {
          "font": {
           "color": "#000000"
          },
          "showarrow": false,
          "text": "0.73",
          "x": "NOX",
          "xref": "x",
          "y": "AGE",
          "yref": "y"
         },
         {
          "font": {
           "color": "#000000"
          },
          "showarrow": false,
          "text": "0.0",
          "x": "AGE",
          "xref": "x",
          "y": "AGE",
          "yref": "y"
         },
         {
          "font": {
           "color": "#FFFFFF"
          },
          "showarrow": false,
          "text": "-0.75",
          "x": "DIS",
          "xref": "x",
          "y": "AGE",
          "yref": "y"
         },
         {
          "font": {
           "color": "#000000"
          },
          "showarrow": false,
          "text": "0.0",
          "x": "TAX",
          "xref": "x",
          "y": "AGE",
          "yref": "y"
         },
         {
          "font": {
           "color": "#000000"
          },
          "showarrow": false,
          "text": "0.0",
          "x": "PTRATIO",
          "xref": "x",
          "y": "AGE",
          "yref": "y"
         },
         {
          "font": {
           "color": "#000000"
          },
          "showarrow": false,
          "text": "0.0",
          "x": "B",
          "xref": "x",
          "y": "AGE",
          "yref": "y"
         },
         {
          "font": {
           "color": "#000000"
          },
          "showarrow": false,
          "text": "0.6",
          "x": "LSTAT",
          "xref": "x",
          "y": "AGE",
          "yref": "y"
         },
         {
          "font": {
           "color": "#000000"
          },
          "showarrow": false,
          "text": "0.0",
          "x": "MEDV",
          "xref": "x",
          "y": "AGE",
          "yref": "y"
         },
         {
          "font": {
           "color": "#000000"
          },
          "showarrow": false,
          "text": "0.0",
          "x": "CRIM",
          "xref": "x",
          "y": "DIS",
          "yref": "y"
         },
         {
          "font": {
           "color": "#000000"
          },
          "showarrow": false,
          "text": "0.66",
          "x": "ZN",
          "xref": "x",
          "y": "DIS",
          "yref": "y"
         },
         {
          "font": {
           "color": "#FFFFFF"
          },
          "showarrow": false,
          "text": "-0.77",
          "x": "NOX",
          "xref": "x",
          "y": "DIS",
          "yref": "y"
         },
         {
          "font": {
           "color": "#FFFFFF"
          },
          "showarrow": false,
          "text": "-0.75",
          "x": "AGE",
          "xref": "x",
          "y": "DIS",
          "yref": "y"
         },
         {
          "font": {
           "color": "#000000"
          },
          "showarrow": false,
          "text": "0.0",
          "x": "DIS",
          "xref": "x",
          "y": "DIS",
          "yref": "y"
         },
         {
          "font": {
           "color": "#000000"
          },
          "showarrow": false,
          "text": "0.0",
          "x": "TAX",
          "xref": "x",
          "y": "DIS",
          "yref": "y"
         },
         {
          "font": {
           "color": "#000000"
          },
          "showarrow": false,
          "text": "0.0",
          "x": "PTRATIO",
          "xref": "x",
          "y": "DIS",
          "yref": "y"
         },
         {
          "font": {
           "color": "#000000"
          },
          "showarrow": false,
          "text": "0.0",
          "x": "B",
          "xref": "x",
          "y": "DIS",
          "yref": "y"
         },
         {
          "font": {
           "color": "#000000"
          },
          "showarrow": false,
          "text": "0.0",
          "x": "LSTAT",
          "xref": "x",
          "y": "DIS",
          "yref": "y"
         },
         {
          "font": {
           "color": "#000000"
          },
          "showarrow": false,
          "text": "0.0",
          "x": "MEDV",
          "xref": "x",
          "y": "DIS",
          "yref": "y"
         },
         {
          "font": {
           "color": "#000000"
          },
          "showarrow": false,
          "text": "0.0",
          "x": "CRIM",
          "xref": "x",
          "y": "TAX",
          "yref": "y"
         },
         {
          "font": {
           "color": "#000000"
          },
          "showarrow": false,
          "text": "0.0",
          "x": "ZN",
          "xref": "x",
          "y": "TAX",
          "yref": "y"
         },
         {
          "font": {
           "color": "#000000"
          },
          "showarrow": false,
          "text": "0.67",
          "x": "NOX",
          "xref": "x",
          "y": "TAX",
          "yref": "y"
         },
         {
          "font": {
           "color": "#000000"
          },
          "showarrow": false,
          "text": "0.0",
          "x": "AGE",
          "xref": "x",
          "y": "TAX",
          "yref": "y"
         },
         {
          "font": {
           "color": "#000000"
          },
          "showarrow": false,
          "text": "0.0",
          "x": "DIS",
          "xref": "x",
          "y": "TAX",
          "yref": "y"
         },
         {
          "font": {
           "color": "#000000"
          },
          "showarrow": false,
          "text": "0.0",
          "x": "TAX",
          "xref": "x",
          "y": "TAX",
          "yref": "y"
         },
         {
          "font": {
           "color": "#000000"
          },
          "showarrow": false,
          "text": "0.0",
          "x": "PTRATIO",
          "xref": "x",
          "y": "TAX",
          "yref": "y"
         },
         {
          "font": {
           "color": "#000000"
          },
          "showarrow": false,
          "text": "0.0",
          "x": "B",
          "xref": "x",
          "y": "TAX",
          "yref": "y"
         },
         {
          "font": {
           "color": "#000000"
          },
          "showarrow": false,
          "text": "0.0",
          "x": "LSTAT",
          "xref": "x",
          "y": "TAX",
          "yref": "y"
         },
         {
          "font": {
           "color": "#000000"
          },
          "showarrow": false,
          "text": "0.0",
          "x": "MEDV",
          "xref": "x",
          "y": "TAX",
          "yref": "y"
         },
         {
          "font": {
           "color": "#000000"
          },
          "showarrow": false,
          "text": "0.0",
          "x": "CRIM",
          "xref": "x",
          "y": "PTRATIO",
          "yref": "y"
         },
         {
          "font": {
           "color": "#000000"
          },
          "showarrow": false,
          "text": "0.0",
          "x": "ZN",
          "xref": "x",
          "y": "PTRATIO",
          "yref": "y"
         },
         {
          "font": {
           "color": "#000000"
          },
          "showarrow": false,
          "text": "0.0",
          "x": "NOX",
          "xref": "x",
          "y": "PTRATIO",
          "yref": "y"
         },
         {
          "font": {
           "color": "#000000"
          },
          "showarrow": false,
          "text": "0.0",
          "x": "AGE",
          "xref": "x",
          "y": "PTRATIO",
          "yref": "y"
         },
         {
          "font": {
           "color": "#000000"
          },
          "showarrow": false,
          "text": "0.0",
          "x": "DIS",
          "xref": "x",
          "y": "PTRATIO",
          "yref": "y"
         },
         {
          "font": {
           "color": "#000000"
          },
          "showarrow": false,
          "text": "0.0",
          "x": "TAX",
          "xref": "x",
          "y": "PTRATIO",
          "yref": "y"
         },
         {
          "font": {
           "color": "#000000"
          },
          "showarrow": false,
          "text": "0.0",
          "x": "PTRATIO",
          "xref": "x",
          "y": "PTRATIO",
          "yref": "y"
         },
         {
          "font": {
           "color": "#000000"
          },
          "showarrow": false,
          "text": "0.0",
          "x": "B",
          "xref": "x",
          "y": "PTRATIO",
          "yref": "y"
         },
         {
          "font": {
           "color": "#000000"
          },
          "showarrow": false,
          "text": "0.0",
          "x": "LSTAT",
          "xref": "x",
          "y": "PTRATIO",
          "yref": "y"
         },
         {
          "font": {
           "color": "#000000"
          },
          "showarrow": false,
          "text": "0.0",
          "x": "MEDV",
          "xref": "x",
          "y": "PTRATIO",
          "yref": "y"
         },
         {
          "font": {
           "color": "#000000"
          },
          "showarrow": false,
          "text": "0.0",
          "x": "CRIM",
          "xref": "x",
          "y": "B",
          "yref": "y"
         },
         {
          "font": {
           "color": "#000000"
          },
          "showarrow": false,
          "text": "0.0",
          "x": "ZN",
          "xref": "x",
          "y": "B",
          "yref": "y"
         },
         {
          "font": {
           "color": "#000000"
          },
          "showarrow": false,
          "text": "0.0",
          "x": "NOX",
          "xref": "x",
          "y": "B",
          "yref": "y"
         },
         {
          "font": {
           "color": "#000000"
          },
          "showarrow": false,
          "text": "0.0",
          "x": "AGE",
          "xref": "x",
          "y": "B",
          "yref": "y"
         },
         {
          "font": {
           "color": "#000000"
          },
          "showarrow": false,
          "text": "0.0",
          "x": "DIS",
          "xref": "x",
          "y": "B",
          "yref": "y"
         },
         {
          "font": {
           "color": "#000000"
          },
          "showarrow": false,
          "text": "0.0",
          "x": "TAX",
          "xref": "x",
          "y": "B",
          "yref": "y"
         },
         {
          "font": {
           "color": "#000000"
          },
          "showarrow": false,
          "text": "0.0",
          "x": "PTRATIO",
          "xref": "x",
          "y": "B",
          "yref": "y"
         },
         {
          "font": {
           "color": "#000000"
          },
          "showarrow": false,
          "text": "0.0",
          "x": "B",
          "xref": "x",
          "y": "B",
          "yref": "y"
         },
         {
          "font": {
           "color": "#000000"
          },
          "showarrow": false,
          "text": "0.0",
          "x": "LSTAT",
          "xref": "x",
          "y": "B",
          "yref": "y"
         },
         {
          "font": {
           "color": "#000000"
          },
          "showarrow": false,
          "text": "0.0",
          "x": "MEDV",
          "xref": "x",
          "y": "B",
          "yref": "y"
         },
         {
          "font": {
           "color": "#000000"
          },
          "showarrow": false,
          "text": "0.0",
          "x": "CRIM",
          "xref": "x",
          "y": "LSTAT",
          "yref": "y"
         },
         {
          "font": {
           "color": "#000000"
          },
          "showarrow": false,
          "text": "0.0",
          "x": "ZN",
          "xref": "x",
          "y": "LSTAT",
          "yref": "y"
         },
         {
          "font": {
           "color": "#000000"
          },
          "showarrow": false,
          "text": "0.0",
          "x": "NOX",
          "xref": "x",
          "y": "LSTAT",
          "yref": "y"
         },
         {
          "font": {
           "color": "#000000"
          },
          "showarrow": false,
          "text": "0.6",
          "x": "AGE",
          "xref": "x",
          "y": "LSTAT",
          "yref": "y"
         },
         {
          "font": {
           "color": "#000000"
          },
          "showarrow": false,
          "text": "0.0",
          "x": "DIS",
          "xref": "x",
          "y": "LSTAT",
          "yref": "y"
         },
         {
          "font": {
           "color": "#000000"
          },
          "showarrow": false,
          "text": "0.0",
          "x": "TAX",
          "xref": "x",
          "y": "LSTAT",
          "yref": "y"
         },
         {
          "font": {
           "color": "#000000"
          },
          "showarrow": false,
          "text": "0.0",
          "x": "PTRATIO",
          "xref": "x",
          "y": "LSTAT",
          "yref": "y"
         },
         {
          "font": {
           "color": "#000000"
          },
          "showarrow": false,
          "text": "0.0",
          "x": "B",
          "xref": "x",
          "y": "LSTAT",
          "yref": "y"
         },
         {
          "font": {
           "color": "#000000"
          },
          "showarrow": false,
          "text": "0.0",
          "x": "LSTAT",
          "xref": "x",
          "y": "LSTAT",
          "yref": "y"
         },
         {
          "font": {
           "color": "#FFFFFF"
          },
          "showarrow": false,
          "text": "-0.74",
          "x": "MEDV",
          "xref": "x",
          "y": "LSTAT",
          "yref": "y"
         },
         {
          "font": {
           "color": "#000000"
          },
          "showarrow": false,
          "text": "0.0",
          "x": "CRIM",
          "xref": "x",
          "y": "MEDV",
          "yref": "y"
         },
         {
          "font": {
           "color": "#000000"
          },
          "showarrow": false,
          "text": "0.0",
          "x": "ZN",
          "xref": "x",
          "y": "MEDV",
          "yref": "y"
         },
         {
          "font": {
           "color": "#000000"
          },
          "showarrow": false,
          "text": "0.0",
          "x": "NOX",
          "xref": "x",
          "y": "MEDV",
          "yref": "y"
         },
         {
          "font": {
           "color": "#000000"
          },
          "showarrow": false,
          "text": "0.0",
          "x": "AGE",
          "xref": "x",
          "y": "MEDV",
          "yref": "y"
         },
         {
          "font": {
           "color": "#000000"
          },
          "showarrow": false,
          "text": "0.0",
          "x": "DIS",
          "xref": "x",
          "y": "MEDV",
          "yref": "y"
         },
         {
          "font": {
           "color": "#000000"
          },
          "showarrow": false,
          "text": "0.0",
          "x": "TAX",
          "xref": "x",
          "y": "MEDV",
          "yref": "y"
         },
         {
          "font": {
           "color": "#000000"
          },
          "showarrow": false,
          "text": "0.0",
          "x": "PTRATIO",
          "xref": "x",
          "y": "MEDV",
          "yref": "y"
         },
         {
          "font": {
           "color": "#000000"
          },
          "showarrow": false,
          "text": "0.0",
          "x": "B",
          "xref": "x",
          "y": "MEDV",
          "yref": "y"
         },
         {
          "font": {
           "color": "#FFFFFF"
          },
          "showarrow": false,
          "text": "-0.74",
          "x": "LSTAT",
          "xref": "x",
          "y": "MEDV",
          "yref": "y"
         },
         {
          "font": {
           "color": "#000000"
          },
          "showarrow": false,
          "text": "0.0",
          "x": "MEDV",
          "xref": "x",
          "y": "MEDV",
          "yref": "y"
         }
        ],
        "template": {
         "data": {
          "bar": [
           {
            "error_x": {
             "color": "#2a3f5f"
            },
            "error_y": {
             "color": "#2a3f5f"
            },
            "marker": {
             "line": {
              "color": "#E5ECF6",
              "width": 0.5
             },
             "pattern": {
              "fillmode": "overlay",
              "size": 10,
              "solidity": 0.2
             }
            },
            "type": "bar"
           }
          ],
          "barpolar": [
           {
            "marker": {
             "line": {
              "color": "#E5ECF6",
              "width": 0.5
             },
             "pattern": {
              "fillmode": "overlay",
              "size": 10,
              "solidity": 0.2
             }
            },
            "type": "barpolar"
           }
          ],
          "carpet": [
           {
            "aaxis": {
             "endlinecolor": "#2a3f5f",
             "gridcolor": "white",
             "linecolor": "white",
             "minorgridcolor": "white",
             "startlinecolor": "#2a3f5f"
            },
            "baxis": {
             "endlinecolor": "#2a3f5f",
             "gridcolor": "white",
             "linecolor": "white",
             "minorgridcolor": "white",
             "startlinecolor": "#2a3f5f"
            },
            "type": "carpet"
           }
          ],
          "choropleth": [
           {
            "colorbar": {
             "outlinewidth": 0,
             "ticks": ""
            },
            "type": "choropleth"
           }
          ],
          "contour": [
           {
            "colorbar": {
             "outlinewidth": 0,
             "ticks": ""
            },
            "colorscale": [
             [
              0,
              "#0d0887"
             ],
             [
              0.1111111111111111,
              "#46039f"
             ],
             [
              0.2222222222222222,
              "#7201a8"
             ],
             [
              0.3333333333333333,
              "#9c179e"
             ],
             [
              0.4444444444444444,
              "#bd3786"
             ],
             [
              0.5555555555555556,
              "#d8576b"
             ],
             [
              0.6666666666666666,
              "#ed7953"
             ],
             [
              0.7777777777777778,
              "#fb9f3a"
             ],
             [
              0.8888888888888888,
              "#fdca26"
             ],
             [
              1,
              "#f0f921"
             ]
            ],
            "type": "contour"
           }
          ],
          "contourcarpet": [
           {
            "colorbar": {
             "outlinewidth": 0,
             "ticks": ""
            },
            "type": "contourcarpet"
           }
          ],
          "heatmap": [
           {
            "colorbar": {
             "outlinewidth": 0,
             "ticks": ""
            },
            "colorscale": [
             [
              0,
              "#0d0887"
             ],
             [
              0.1111111111111111,
              "#46039f"
             ],
             [
              0.2222222222222222,
              "#7201a8"
             ],
             [
              0.3333333333333333,
              "#9c179e"
             ],
             [
              0.4444444444444444,
              "#bd3786"
             ],
             [
              0.5555555555555556,
              "#d8576b"
             ],
             [
              0.6666666666666666,
              "#ed7953"
             ],
             [
              0.7777777777777778,
              "#fb9f3a"
             ],
             [
              0.8888888888888888,
              "#fdca26"
             ],
             [
              1,
              "#f0f921"
             ]
            ],
            "type": "heatmap"
           }
          ],
          "heatmapgl": [
           {
            "colorbar": {
             "outlinewidth": 0,
             "ticks": ""
            },
            "colorscale": [
             [
              0,
              "#0d0887"
             ],
             [
              0.1111111111111111,
              "#46039f"
             ],
             [
              0.2222222222222222,
              "#7201a8"
             ],
             [
              0.3333333333333333,
              "#9c179e"
             ],
             [
              0.4444444444444444,
              "#bd3786"
             ],
             [
              0.5555555555555556,
              "#d8576b"
             ],
             [
              0.6666666666666666,
              "#ed7953"
             ],
             [
              0.7777777777777778,
              "#fb9f3a"
             ],
             [
              0.8888888888888888,
              "#fdca26"
             ],
             [
              1,
              "#f0f921"
             ]
            ],
            "type": "heatmapgl"
           }
          ],
          "histogram": [
           {
            "marker": {
             "pattern": {
              "fillmode": "overlay",
              "size": 10,
              "solidity": 0.2
             }
            },
            "type": "histogram"
           }
          ],
          "histogram2d": [
           {
            "colorbar": {
             "outlinewidth": 0,
             "ticks": ""
            },
            "colorscale": [
             [
              0,
              "#0d0887"
             ],
             [
              0.1111111111111111,
              "#46039f"
             ],
             [
              0.2222222222222222,
              "#7201a8"
             ],
             [
              0.3333333333333333,
              "#9c179e"
             ],
             [
              0.4444444444444444,
              "#bd3786"
             ],
             [
              0.5555555555555556,
              "#d8576b"
             ],
             [
              0.6666666666666666,
              "#ed7953"
             ],
             [
              0.7777777777777778,
              "#fb9f3a"
             ],
             [
              0.8888888888888888,
              "#fdca26"
             ],
             [
              1,
              "#f0f921"
             ]
            ],
            "type": "histogram2d"
           }
          ],
          "histogram2dcontour": [
           {
            "colorbar": {
             "outlinewidth": 0,
             "ticks": ""
            },
            "colorscale": [
             [
              0,
              "#0d0887"
             ],
             [
              0.1111111111111111,
              "#46039f"
             ],
             [
              0.2222222222222222,
              "#7201a8"
             ],
             [
              0.3333333333333333,
              "#9c179e"
             ],
             [
              0.4444444444444444,
              "#bd3786"
             ],
             [
              0.5555555555555556,
              "#d8576b"
             ],
             [
              0.6666666666666666,
              "#ed7953"
             ],
             [
              0.7777777777777778,
              "#fb9f3a"
             ],
             [
              0.8888888888888888,
              "#fdca26"
             ],
             [
              1,
              "#f0f921"
             ]
            ],
            "type": "histogram2dcontour"
           }
          ],
          "mesh3d": [
           {
            "colorbar": {
             "outlinewidth": 0,
             "ticks": ""
            },
            "type": "mesh3d"
           }
          ],
          "parcoords": [
           {
            "line": {
             "colorbar": {
              "outlinewidth": 0,
              "ticks": ""
             }
            },
            "type": "parcoords"
           }
          ],
          "pie": [
           {
            "automargin": true,
            "type": "pie"
           }
          ],
          "scatter": [
           {
            "marker": {
             "colorbar": {
              "outlinewidth": 0,
              "ticks": ""
             }
            },
            "type": "scatter"
           }
          ],
          "scatter3d": [
           {
            "line": {
             "colorbar": {
              "outlinewidth": 0,
              "ticks": ""
             }
            },
            "marker": {
             "colorbar": {
              "outlinewidth": 0,
              "ticks": ""
             }
            },
            "type": "scatter3d"
           }
          ],
          "scattercarpet": [
           {
            "marker": {
             "colorbar": {
              "outlinewidth": 0,
              "ticks": ""
             }
            },
            "type": "scattercarpet"
           }
          ],
          "scattergeo": [
           {
            "marker": {
             "colorbar": {
              "outlinewidth": 0,
              "ticks": ""
             }
            },
            "type": "scattergeo"
           }
          ],
          "scattergl": [
           {
            "marker": {
             "colorbar": {
              "outlinewidth": 0,
              "ticks": ""
             }
            },
            "type": "scattergl"
           }
          ],
          "scattermapbox": [
           {
            "marker": {
             "colorbar": {
              "outlinewidth": 0,
              "ticks": ""
             }
            },
            "type": "scattermapbox"
           }
          ],
          "scatterpolar": [
           {
            "marker": {
             "colorbar": {
              "outlinewidth": 0,
              "ticks": ""
             }
            },
            "type": "scatterpolar"
           }
          ],
          "scatterpolargl": [
           {
            "marker": {
             "colorbar": {
              "outlinewidth": 0,
              "ticks": ""
             }
            },
            "type": "scatterpolargl"
           }
          ],
          "scatterternary": [
           {
            "marker": {
             "colorbar": {
              "outlinewidth": 0,
              "ticks": ""
             }
            },
            "type": "scatterternary"
           }
          ],
          "surface": [
           {
            "colorbar": {
             "outlinewidth": 0,
             "ticks": ""
            },
            "colorscale": [
             [
              0,
              "#0d0887"
             ],
             [
              0.1111111111111111,
              "#46039f"
             ],
             [
              0.2222222222222222,
              "#7201a8"
             ],
             [
              0.3333333333333333,
              "#9c179e"
             ],
             [
              0.4444444444444444,
              "#bd3786"
             ],
             [
              0.5555555555555556,
              "#d8576b"
             ],
             [
              0.6666666666666666,
              "#ed7953"
             ],
             [
              0.7777777777777778,
              "#fb9f3a"
             ],
             [
              0.8888888888888888,
              "#fdca26"
             ],
             [
              1,
              "#f0f921"
             ]
            ],
            "type": "surface"
           }
          ],
          "table": [
           {
            "cells": {
             "fill": {
              "color": "#EBF0F8"
             },
             "line": {
              "color": "white"
             }
            },
            "header": {
             "fill": {
              "color": "#C8D4E3"
             },
             "line": {
              "color": "white"
             }
            },
            "type": "table"
           }
          ]
         },
         "layout": {
          "annotationdefaults": {
           "arrowcolor": "#2a3f5f",
           "arrowhead": 0,
           "arrowwidth": 1
          },
          "autotypenumbers": "strict",
          "coloraxis": {
           "colorbar": {
            "outlinewidth": 0,
            "ticks": ""
           }
          },
          "colorscale": {
           "diverging": [
            [
             0,
             "#8e0152"
            ],
            [
             0.1,
             "#c51b7d"
            ],
            [
             0.2,
             "#de77ae"
            ],
            [
             0.3,
             "#f1b6da"
            ],
            [
             0.4,
             "#fde0ef"
            ],
            [
             0.5,
             "#f7f7f7"
            ],
            [
             0.6,
             "#e6f5d0"
            ],
            [
             0.7,
             "#b8e186"
            ],
            [
             0.8,
             "#7fbc41"
            ],
            [
             0.9,
             "#4d9221"
            ],
            [
             1,
             "#276419"
            ]
           ],
           "sequential": [
            [
             0,
             "#0d0887"
            ],
            [
             0.1111111111111111,
             "#46039f"
            ],
            [
             0.2222222222222222,
             "#7201a8"
            ],
            [
             0.3333333333333333,
             "#9c179e"
            ],
            [
             0.4444444444444444,
             "#bd3786"
            ],
            [
             0.5555555555555556,
             "#d8576b"
            ],
            [
             0.6666666666666666,
             "#ed7953"
            ],
            [
             0.7777777777777778,
             "#fb9f3a"
            ],
            [
             0.8888888888888888,
             "#fdca26"
            ],
            [
             1,
             "#f0f921"
            ]
           ],
           "sequentialminus": [
            [
             0,
             "#0d0887"
            ],
            [
             0.1111111111111111,
             "#46039f"
            ],
            [
             0.2222222222222222,
             "#7201a8"
            ],
            [
             0.3333333333333333,
             "#9c179e"
            ],
            [
             0.4444444444444444,
             "#bd3786"
            ],
            [
             0.5555555555555556,
             "#d8576b"
            ],
            [
             0.6666666666666666,
             "#ed7953"
            ],
            [
             0.7777777777777778,
             "#fb9f3a"
            ],
            [
             0.8888888888888888,
             "#fdca26"
            ],
            [
             1,
             "#f0f921"
            ]
           ]
          },
          "colorway": [
           "#636efa",
           "#EF553B",
           "#00cc96",
           "#ab63fa",
           "#FFA15A",
           "#19d3f3",
           "#FF6692",
           "#B6E880",
           "#FF97FF",
           "#FECB52"
          ],
          "font": {
           "color": "#2a3f5f"
          },
          "geo": {
           "bgcolor": "white",
           "lakecolor": "white",
           "landcolor": "#E5ECF6",
           "showlakes": true,
           "showland": true,
           "subunitcolor": "white"
          },
          "hoverlabel": {
           "align": "left"
          },
          "hovermode": "closest",
          "mapbox": {
           "style": "light"
          },
          "paper_bgcolor": "white",
          "plot_bgcolor": "#E5ECF6",
          "polar": {
           "angularaxis": {
            "gridcolor": "white",
            "linecolor": "white",
            "ticks": ""
           },
           "bgcolor": "#E5ECF6",
           "radialaxis": {
            "gridcolor": "white",
            "linecolor": "white",
            "ticks": ""
           }
          },
          "scene": {
           "xaxis": {
            "backgroundcolor": "#E5ECF6",
            "gridcolor": "white",
            "gridwidth": 2,
            "linecolor": "white",
            "showbackground": true,
            "ticks": "",
            "zerolinecolor": "white"
           },
           "yaxis": {
            "backgroundcolor": "#E5ECF6",
            "gridcolor": "white",
            "gridwidth": 2,
            "linecolor": "white",
            "showbackground": true,
            "ticks": "",
            "zerolinecolor": "white"
           },
           "zaxis": {
            "backgroundcolor": "#E5ECF6",
            "gridcolor": "white",
            "gridwidth": 2,
            "linecolor": "white",
            "showbackground": true,
            "ticks": "",
            "zerolinecolor": "white"
           }
          },
          "shapedefaults": {
           "line": {
            "color": "#2a3f5f"
           }
          },
          "ternary": {
           "aaxis": {
            "gridcolor": "white",
            "linecolor": "white",
            "ticks": ""
           },
           "baxis": {
            "gridcolor": "white",
            "linecolor": "white",
            "ticks": ""
           },
           "bgcolor": "#E5ECF6",
           "caxis": {
            "gridcolor": "white",
            "linecolor": "white",
            "ticks": ""
           }
          },
          "title": {
           "x": 0.05
          },
          "xaxis": {
           "automargin": true,
           "gridcolor": "white",
           "linecolor": "white",
           "ticks": "",
           "title": {
            "standoff": 15
           },
           "zerolinecolor": "white",
           "zerolinewidth": 2
          },
          "yaxis": {
           "automargin": true,
           "gridcolor": "white",
           "linecolor": "white",
           "ticks": "",
           "title": {
            "standoff": 15
           },
           "zerolinecolor": "white",
           "zerolinewidth": 2
          }
         }
        },
        "xaxis": {
         "dtick": 1,
         "gridcolor": "rgb(0, 0, 0)",
         "side": "top",
         "ticks": ""
        },
        "yaxis": {
         "dtick": 1,
         "ticks": "",
         "ticksuffix": "  "
        }
       }
      },
      "text/html": [
       "<div>                            <div id=\"be608d90-9bd7-4370-9814-bf2ba1568ba2\" class=\"plotly-graph-div\" style=\"height:525px; width:100%;\"></div>            <script type=\"text/javascript\">                require([\"plotly\"], function(Plotly) {                    window.PLOTLYENV=window.PLOTLYENV || {};                                    if (document.getElementById(\"be608d90-9bd7-4370-9814-bf2ba1568ba2\")) {                    Plotly.newPlot(                        \"be608d90-9bd7-4370-9814-bf2ba1568ba2\",                        [{\"colorscale\":[[0.0,\"#0d0887\"],[0.1111111111111111,\"#46039f\"],[0.2222222222222222,\"#7201a8\"],[0.3333333333333333,\"#9c179e\"],[0.4444444444444444,\"#bd3786\"],[0.5555555555555556,\"#d8576b\"],[0.6666666666666666,\"#ed7953\"],[0.7777777777777778,\"#fb9f3a\"],[0.8888888888888888,\"#fdca26\"],[1.0,\"#f0f921\"]],\"reversescale\":false,\"showscale\":false,\"type\":\"heatmap\",\"x\":[\"CRIM\",\"ZN\",\"NOX\",\"AGE\",\"DIS\",\"TAX\",\"PTRATIO\",\"B\",\"LSTAT\",\"MEDV\"],\"y\":[\"CRIM\",\"ZN\",\"NOX\",\"AGE\",\"DIS\",\"TAX\",\"PTRATIO\",\"B\",\"LSTAT\",\"MEDV\"],\"z\":[[0.0,0.0,0.0,0.0,0.0,0.0,0.0,0.0,0.0,0.0],[0.0,0.0,0.0,0.0,0.66,0.0,0.0,0.0,0.0,0.0],[0.0,0.0,0.0,0.73,-0.77,0.67,0.0,0.0,0.0,0.0],[0.0,0.0,0.73,0.0,-0.75,0.0,0.0,0.0,0.6,0.0],[0.0,0.66,-0.77,-0.75,0.0,0.0,0.0,0.0,0.0,0.0],[0.0,0.0,0.67,0.0,0.0,0.0,0.0,0.0,0.0,0.0],[0.0,0.0,0.0,0.0,0.0,0.0,0.0,0.0,0.0,0.0],[0.0,0.0,0.0,0.0,0.0,0.0,0.0,0.0,0.0,0.0],[0.0,0.0,0.0,0.6,0.0,0.0,0.0,0.0,0.0,-0.74],[0.0,0.0,0.0,0.0,0.0,0.0,0.0,0.0,-0.74,0.0]]}],                        {\"annotations\":[{\"font\":{\"color\":\"#000000\"},\"showarrow\":false,\"text\":\"0.0\",\"x\":\"CRIM\",\"xref\":\"x\",\"y\":\"CRIM\",\"yref\":\"y\"},{\"font\":{\"color\":\"#000000\"},\"showarrow\":false,\"text\":\"0.0\",\"x\":\"ZN\",\"xref\":\"x\",\"y\":\"CRIM\",\"yref\":\"y\"},{\"font\":{\"color\":\"#000000\"},\"showarrow\":false,\"text\":\"0.0\",\"x\":\"NOX\",\"xref\":\"x\",\"y\":\"CRIM\",\"yref\":\"y\"},{\"font\":{\"color\":\"#000000\"},\"showarrow\":false,\"text\":\"0.0\",\"x\":\"AGE\",\"xref\":\"x\",\"y\":\"CRIM\",\"yref\":\"y\"},{\"font\":{\"color\":\"#000000\"},\"showarrow\":false,\"text\":\"0.0\",\"x\":\"DIS\",\"xref\":\"x\",\"y\":\"CRIM\",\"yref\":\"y\"},{\"font\":{\"color\":\"#000000\"},\"showarrow\":false,\"text\":\"0.0\",\"x\":\"TAX\",\"xref\":\"x\",\"y\":\"CRIM\",\"yref\":\"y\"},{\"font\":{\"color\":\"#000000\"},\"showarrow\":false,\"text\":\"0.0\",\"x\":\"PTRATIO\",\"xref\":\"x\",\"y\":\"CRIM\",\"yref\":\"y\"},{\"font\":{\"color\":\"#000000\"},\"showarrow\":false,\"text\":\"0.0\",\"x\":\"B\",\"xref\":\"x\",\"y\":\"CRIM\",\"yref\":\"y\"},{\"font\":{\"color\":\"#000000\"},\"showarrow\":false,\"text\":\"0.0\",\"x\":\"LSTAT\",\"xref\":\"x\",\"y\":\"CRIM\",\"yref\":\"y\"},{\"font\":{\"color\":\"#000000\"},\"showarrow\":false,\"text\":\"0.0\",\"x\":\"MEDV\",\"xref\":\"x\",\"y\":\"CRIM\",\"yref\":\"y\"},{\"font\":{\"color\":\"#000000\"},\"showarrow\":false,\"text\":\"0.0\",\"x\":\"CRIM\",\"xref\":\"x\",\"y\":\"ZN\",\"yref\":\"y\"},{\"font\":{\"color\":\"#000000\"},\"showarrow\":false,\"text\":\"0.0\",\"x\":\"ZN\",\"xref\":\"x\",\"y\":\"ZN\",\"yref\":\"y\"},{\"font\":{\"color\":\"#000000\"},\"showarrow\":false,\"text\":\"0.0\",\"x\":\"NOX\",\"xref\":\"x\",\"y\":\"ZN\",\"yref\":\"y\"},{\"font\":{\"color\":\"#000000\"},\"showarrow\":false,\"text\":\"0.0\",\"x\":\"AGE\",\"xref\":\"x\",\"y\":\"ZN\",\"yref\":\"y\"},{\"font\":{\"color\":\"#000000\"},\"showarrow\":false,\"text\":\"0.66\",\"x\":\"DIS\",\"xref\":\"x\",\"y\":\"ZN\",\"yref\":\"y\"},{\"font\":{\"color\":\"#000000\"},\"showarrow\":false,\"text\":\"0.0\",\"x\":\"TAX\",\"xref\":\"x\",\"y\":\"ZN\",\"yref\":\"y\"},{\"font\":{\"color\":\"#000000\"},\"showarrow\":false,\"text\":\"0.0\",\"x\":\"PTRATIO\",\"xref\":\"x\",\"y\":\"ZN\",\"yref\":\"y\"},{\"font\":{\"color\":\"#000000\"},\"showarrow\":false,\"text\":\"0.0\",\"x\":\"B\",\"xref\":\"x\",\"y\":\"ZN\",\"yref\":\"y\"},{\"font\":{\"color\":\"#000000\"},\"showarrow\":false,\"text\":\"0.0\",\"x\":\"LSTAT\",\"xref\":\"x\",\"y\":\"ZN\",\"yref\":\"y\"},{\"font\":{\"color\":\"#000000\"},\"showarrow\":false,\"text\":\"0.0\",\"x\":\"MEDV\",\"xref\":\"x\",\"y\":\"ZN\",\"yref\":\"y\"},{\"font\":{\"color\":\"#000000\"},\"showarrow\":false,\"text\":\"0.0\",\"x\":\"CRIM\",\"xref\":\"x\",\"y\":\"NOX\",\"yref\":\"y\"},{\"font\":{\"color\":\"#000000\"},\"showarrow\":false,\"text\":\"0.0\",\"x\":\"ZN\",\"xref\":\"x\",\"y\":\"NOX\",\"yref\":\"y\"},{\"font\":{\"color\":\"#000000\"},\"showarrow\":false,\"text\":\"0.0\",\"x\":\"NOX\",\"xref\":\"x\",\"y\":\"NOX\",\"yref\":\"y\"},{\"font\":{\"color\":\"#000000\"},\"showarrow\":false,\"text\":\"0.73\",\"x\":\"AGE\",\"xref\":\"x\",\"y\":\"NOX\",\"yref\":\"y\"},{\"font\":{\"color\":\"#FFFFFF\"},\"showarrow\":false,\"text\":\"-0.77\",\"x\":\"DIS\",\"xref\":\"x\",\"y\":\"NOX\",\"yref\":\"y\"},{\"font\":{\"color\":\"#000000\"},\"showarrow\":false,\"text\":\"0.67\",\"x\":\"TAX\",\"xref\":\"x\",\"y\":\"NOX\",\"yref\":\"y\"},{\"font\":{\"color\":\"#000000\"},\"showarrow\":false,\"text\":\"0.0\",\"x\":\"PTRATIO\",\"xref\":\"x\",\"y\":\"NOX\",\"yref\":\"y\"},{\"font\":{\"color\":\"#000000\"},\"showarrow\":false,\"text\":\"0.0\",\"x\":\"B\",\"xref\":\"x\",\"y\":\"NOX\",\"yref\":\"y\"},{\"font\":{\"color\":\"#000000\"},\"showarrow\":false,\"text\":\"0.0\",\"x\":\"LSTAT\",\"xref\":\"x\",\"y\":\"NOX\",\"yref\":\"y\"},{\"font\":{\"color\":\"#000000\"},\"showarrow\":false,\"text\":\"0.0\",\"x\":\"MEDV\",\"xref\":\"x\",\"y\":\"NOX\",\"yref\":\"y\"},{\"font\":{\"color\":\"#000000\"},\"showarrow\":false,\"text\":\"0.0\",\"x\":\"CRIM\",\"xref\":\"x\",\"y\":\"AGE\",\"yref\":\"y\"},{\"font\":{\"color\":\"#000000\"},\"showarrow\":false,\"text\":\"0.0\",\"x\":\"ZN\",\"xref\":\"x\",\"y\":\"AGE\",\"yref\":\"y\"},{\"font\":{\"color\":\"#000000\"},\"showarrow\":false,\"text\":\"0.73\",\"x\":\"NOX\",\"xref\":\"x\",\"y\":\"AGE\",\"yref\":\"y\"},{\"font\":{\"color\":\"#000000\"},\"showarrow\":false,\"text\":\"0.0\",\"x\":\"AGE\",\"xref\":\"x\",\"y\":\"AGE\",\"yref\":\"y\"},{\"font\":{\"color\":\"#FFFFFF\"},\"showarrow\":false,\"text\":\"-0.75\",\"x\":\"DIS\",\"xref\":\"x\",\"y\":\"AGE\",\"yref\":\"y\"},{\"font\":{\"color\":\"#000000\"},\"showarrow\":false,\"text\":\"0.0\",\"x\":\"TAX\",\"xref\":\"x\",\"y\":\"AGE\",\"yref\":\"y\"},{\"font\":{\"color\":\"#000000\"},\"showarrow\":false,\"text\":\"0.0\",\"x\":\"PTRATIO\",\"xref\":\"x\",\"y\":\"AGE\",\"yref\":\"y\"},{\"font\":{\"color\":\"#000000\"},\"showarrow\":false,\"text\":\"0.0\",\"x\":\"B\",\"xref\":\"x\",\"y\":\"AGE\",\"yref\":\"y\"},{\"font\":{\"color\":\"#000000\"},\"showarrow\":false,\"text\":\"0.6\",\"x\":\"LSTAT\",\"xref\":\"x\",\"y\":\"AGE\",\"yref\":\"y\"},{\"font\":{\"color\":\"#000000\"},\"showarrow\":false,\"text\":\"0.0\",\"x\":\"MEDV\",\"xref\":\"x\",\"y\":\"AGE\",\"yref\":\"y\"},{\"font\":{\"color\":\"#000000\"},\"showarrow\":false,\"text\":\"0.0\",\"x\":\"CRIM\",\"xref\":\"x\",\"y\":\"DIS\",\"yref\":\"y\"},{\"font\":{\"color\":\"#000000\"},\"showarrow\":false,\"text\":\"0.66\",\"x\":\"ZN\",\"xref\":\"x\",\"y\":\"DIS\",\"yref\":\"y\"},{\"font\":{\"color\":\"#FFFFFF\"},\"showarrow\":false,\"text\":\"-0.77\",\"x\":\"NOX\",\"xref\":\"x\",\"y\":\"DIS\",\"yref\":\"y\"},{\"font\":{\"color\":\"#FFFFFF\"},\"showarrow\":false,\"text\":\"-0.75\",\"x\":\"AGE\",\"xref\":\"x\",\"y\":\"DIS\",\"yref\":\"y\"},{\"font\":{\"color\":\"#000000\"},\"showarrow\":false,\"text\":\"0.0\",\"x\":\"DIS\",\"xref\":\"x\",\"y\":\"DIS\",\"yref\":\"y\"},{\"font\":{\"color\":\"#000000\"},\"showarrow\":false,\"text\":\"0.0\",\"x\":\"TAX\",\"xref\":\"x\",\"y\":\"DIS\",\"yref\":\"y\"},{\"font\":{\"color\":\"#000000\"},\"showarrow\":false,\"text\":\"0.0\",\"x\":\"PTRATIO\",\"xref\":\"x\",\"y\":\"DIS\",\"yref\":\"y\"},{\"font\":{\"color\":\"#000000\"},\"showarrow\":false,\"text\":\"0.0\",\"x\":\"B\",\"xref\":\"x\",\"y\":\"DIS\",\"yref\":\"y\"},{\"font\":{\"color\":\"#000000\"},\"showarrow\":false,\"text\":\"0.0\",\"x\":\"LSTAT\",\"xref\":\"x\",\"y\":\"DIS\",\"yref\":\"y\"},{\"font\":{\"color\":\"#000000\"},\"showarrow\":false,\"text\":\"0.0\",\"x\":\"MEDV\",\"xref\":\"x\",\"y\":\"DIS\",\"yref\":\"y\"},{\"font\":{\"color\":\"#000000\"},\"showarrow\":false,\"text\":\"0.0\",\"x\":\"CRIM\",\"xref\":\"x\",\"y\":\"TAX\",\"yref\":\"y\"},{\"font\":{\"color\":\"#000000\"},\"showarrow\":false,\"text\":\"0.0\",\"x\":\"ZN\",\"xref\":\"x\",\"y\":\"TAX\",\"yref\":\"y\"},{\"font\":{\"color\":\"#000000\"},\"showarrow\":false,\"text\":\"0.67\",\"x\":\"NOX\",\"xref\":\"x\",\"y\":\"TAX\",\"yref\":\"y\"},{\"font\":{\"color\":\"#000000\"},\"showarrow\":false,\"text\":\"0.0\",\"x\":\"AGE\",\"xref\":\"x\",\"y\":\"TAX\",\"yref\":\"y\"},{\"font\":{\"color\":\"#000000\"},\"showarrow\":false,\"text\":\"0.0\",\"x\":\"DIS\",\"xref\":\"x\",\"y\":\"TAX\",\"yref\":\"y\"},{\"font\":{\"color\":\"#000000\"},\"showarrow\":false,\"text\":\"0.0\",\"x\":\"TAX\",\"xref\":\"x\",\"y\":\"TAX\",\"yref\":\"y\"},{\"font\":{\"color\":\"#000000\"},\"showarrow\":false,\"text\":\"0.0\",\"x\":\"PTRATIO\",\"xref\":\"x\",\"y\":\"TAX\",\"yref\":\"y\"},{\"font\":{\"color\":\"#000000\"},\"showarrow\":false,\"text\":\"0.0\",\"x\":\"B\",\"xref\":\"x\",\"y\":\"TAX\",\"yref\":\"y\"},{\"font\":{\"color\":\"#000000\"},\"showarrow\":false,\"text\":\"0.0\",\"x\":\"LSTAT\",\"xref\":\"x\",\"y\":\"TAX\",\"yref\":\"y\"},{\"font\":{\"color\":\"#000000\"},\"showarrow\":false,\"text\":\"0.0\",\"x\":\"MEDV\",\"xref\":\"x\",\"y\":\"TAX\",\"yref\":\"y\"},{\"font\":{\"color\":\"#000000\"},\"showarrow\":false,\"text\":\"0.0\",\"x\":\"CRIM\",\"xref\":\"x\",\"y\":\"PTRATIO\",\"yref\":\"y\"},{\"font\":{\"color\":\"#000000\"},\"showarrow\":false,\"text\":\"0.0\",\"x\":\"ZN\",\"xref\":\"x\",\"y\":\"PTRATIO\",\"yref\":\"y\"},{\"font\":{\"color\":\"#000000\"},\"showarrow\":false,\"text\":\"0.0\",\"x\":\"NOX\",\"xref\":\"x\",\"y\":\"PTRATIO\",\"yref\":\"y\"},{\"font\":{\"color\":\"#000000\"},\"showarrow\":false,\"text\":\"0.0\",\"x\":\"AGE\",\"xref\":\"x\",\"y\":\"PTRATIO\",\"yref\":\"y\"},{\"font\":{\"color\":\"#000000\"},\"showarrow\":false,\"text\":\"0.0\",\"x\":\"DIS\",\"xref\":\"x\",\"y\":\"PTRATIO\",\"yref\":\"y\"},{\"font\":{\"color\":\"#000000\"},\"showarrow\":false,\"text\":\"0.0\",\"x\":\"TAX\",\"xref\":\"x\",\"y\":\"PTRATIO\",\"yref\":\"y\"},{\"font\":{\"color\":\"#000000\"},\"showarrow\":false,\"text\":\"0.0\",\"x\":\"PTRATIO\",\"xref\":\"x\",\"y\":\"PTRATIO\",\"yref\":\"y\"},{\"font\":{\"color\":\"#000000\"},\"showarrow\":false,\"text\":\"0.0\",\"x\":\"B\",\"xref\":\"x\",\"y\":\"PTRATIO\",\"yref\":\"y\"},{\"font\":{\"color\":\"#000000\"},\"showarrow\":false,\"text\":\"0.0\",\"x\":\"LSTAT\",\"xref\":\"x\",\"y\":\"PTRATIO\",\"yref\":\"y\"},{\"font\":{\"color\":\"#000000\"},\"showarrow\":false,\"text\":\"0.0\",\"x\":\"MEDV\",\"xref\":\"x\",\"y\":\"PTRATIO\",\"yref\":\"y\"},{\"font\":{\"color\":\"#000000\"},\"showarrow\":false,\"text\":\"0.0\",\"x\":\"CRIM\",\"xref\":\"x\",\"y\":\"B\",\"yref\":\"y\"},{\"font\":{\"color\":\"#000000\"},\"showarrow\":false,\"text\":\"0.0\",\"x\":\"ZN\",\"xref\":\"x\",\"y\":\"B\",\"yref\":\"y\"},{\"font\":{\"color\":\"#000000\"},\"showarrow\":false,\"text\":\"0.0\",\"x\":\"NOX\",\"xref\":\"x\",\"y\":\"B\",\"yref\":\"y\"},{\"font\":{\"color\":\"#000000\"},\"showarrow\":false,\"text\":\"0.0\",\"x\":\"AGE\",\"xref\":\"x\",\"y\":\"B\",\"yref\":\"y\"},{\"font\":{\"color\":\"#000000\"},\"showarrow\":false,\"text\":\"0.0\",\"x\":\"DIS\",\"xref\":\"x\",\"y\":\"B\",\"yref\":\"y\"},{\"font\":{\"color\":\"#000000\"},\"showarrow\":false,\"text\":\"0.0\",\"x\":\"TAX\",\"xref\":\"x\",\"y\":\"B\",\"yref\":\"y\"},{\"font\":{\"color\":\"#000000\"},\"showarrow\":false,\"text\":\"0.0\",\"x\":\"PTRATIO\",\"xref\":\"x\",\"y\":\"B\",\"yref\":\"y\"},{\"font\":{\"color\":\"#000000\"},\"showarrow\":false,\"text\":\"0.0\",\"x\":\"B\",\"xref\":\"x\",\"y\":\"B\",\"yref\":\"y\"},{\"font\":{\"color\":\"#000000\"},\"showarrow\":false,\"text\":\"0.0\",\"x\":\"LSTAT\",\"xref\":\"x\",\"y\":\"B\",\"yref\":\"y\"},{\"font\":{\"color\":\"#000000\"},\"showarrow\":false,\"text\":\"0.0\",\"x\":\"MEDV\",\"xref\":\"x\",\"y\":\"B\",\"yref\":\"y\"},{\"font\":{\"color\":\"#000000\"},\"showarrow\":false,\"text\":\"0.0\",\"x\":\"CRIM\",\"xref\":\"x\",\"y\":\"LSTAT\",\"yref\":\"y\"},{\"font\":{\"color\":\"#000000\"},\"showarrow\":false,\"text\":\"0.0\",\"x\":\"ZN\",\"xref\":\"x\",\"y\":\"LSTAT\",\"yref\":\"y\"},{\"font\":{\"color\":\"#000000\"},\"showarrow\":false,\"text\":\"0.0\",\"x\":\"NOX\",\"xref\":\"x\",\"y\":\"LSTAT\",\"yref\":\"y\"},{\"font\":{\"color\":\"#000000\"},\"showarrow\":false,\"text\":\"0.6\",\"x\":\"AGE\",\"xref\":\"x\",\"y\":\"LSTAT\",\"yref\":\"y\"},{\"font\":{\"color\":\"#000000\"},\"showarrow\":false,\"text\":\"0.0\",\"x\":\"DIS\",\"xref\":\"x\",\"y\":\"LSTAT\",\"yref\":\"y\"},{\"font\":{\"color\":\"#000000\"},\"showarrow\":false,\"text\":\"0.0\",\"x\":\"TAX\",\"xref\":\"x\",\"y\":\"LSTAT\",\"yref\":\"y\"},{\"font\":{\"color\":\"#000000\"},\"showarrow\":false,\"text\":\"0.0\",\"x\":\"PTRATIO\",\"xref\":\"x\",\"y\":\"LSTAT\",\"yref\":\"y\"},{\"font\":{\"color\":\"#000000\"},\"showarrow\":false,\"text\":\"0.0\",\"x\":\"B\",\"xref\":\"x\",\"y\":\"LSTAT\",\"yref\":\"y\"},{\"font\":{\"color\":\"#000000\"},\"showarrow\":false,\"text\":\"0.0\",\"x\":\"LSTAT\",\"xref\":\"x\",\"y\":\"LSTAT\",\"yref\":\"y\"},{\"font\":{\"color\":\"#FFFFFF\"},\"showarrow\":false,\"text\":\"-0.74\",\"x\":\"MEDV\",\"xref\":\"x\",\"y\":\"LSTAT\",\"yref\":\"y\"},{\"font\":{\"color\":\"#000000\"},\"showarrow\":false,\"text\":\"0.0\",\"x\":\"CRIM\",\"xref\":\"x\",\"y\":\"MEDV\",\"yref\":\"y\"},{\"font\":{\"color\":\"#000000\"},\"showarrow\":false,\"text\":\"0.0\",\"x\":\"ZN\",\"xref\":\"x\",\"y\":\"MEDV\",\"yref\":\"y\"},{\"font\":{\"color\":\"#000000\"},\"showarrow\":false,\"text\":\"0.0\",\"x\":\"NOX\",\"xref\":\"x\",\"y\":\"MEDV\",\"yref\":\"y\"},{\"font\":{\"color\":\"#000000\"},\"showarrow\":false,\"text\":\"0.0\",\"x\":\"AGE\",\"xref\":\"x\",\"y\":\"MEDV\",\"yref\":\"y\"},{\"font\":{\"color\":\"#000000\"},\"showarrow\":false,\"text\":\"0.0\",\"x\":\"DIS\",\"xref\":\"x\",\"y\":\"MEDV\",\"yref\":\"y\"},{\"font\":{\"color\":\"#000000\"},\"showarrow\":false,\"text\":\"0.0\",\"x\":\"TAX\",\"xref\":\"x\",\"y\":\"MEDV\",\"yref\":\"y\"},{\"font\":{\"color\":\"#000000\"},\"showarrow\":false,\"text\":\"0.0\",\"x\":\"PTRATIO\",\"xref\":\"x\",\"y\":\"MEDV\",\"yref\":\"y\"},{\"font\":{\"color\":\"#000000\"},\"showarrow\":false,\"text\":\"0.0\",\"x\":\"B\",\"xref\":\"x\",\"y\":\"MEDV\",\"yref\":\"y\"},{\"font\":{\"color\":\"#FFFFFF\"},\"showarrow\":false,\"text\":\"-0.74\",\"x\":\"LSTAT\",\"xref\":\"x\",\"y\":\"MEDV\",\"yref\":\"y\"},{\"font\":{\"color\":\"#000000\"},\"showarrow\":false,\"text\":\"0.0\",\"x\":\"MEDV\",\"xref\":\"x\",\"y\":\"MEDV\",\"yref\":\"y\"}],\"template\":{\"data\":{\"bar\":[{\"error_x\":{\"color\":\"#2a3f5f\"},\"error_y\":{\"color\":\"#2a3f5f\"},\"marker\":{\"line\":{\"color\":\"#E5ECF6\",\"width\":0.5},\"pattern\":{\"fillmode\":\"overlay\",\"size\":10,\"solidity\":0.2}},\"type\":\"bar\"}],\"barpolar\":[{\"marker\":{\"line\":{\"color\":\"#E5ECF6\",\"width\":0.5},\"pattern\":{\"fillmode\":\"overlay\",\"size\":10,\"solidity\":0.2}},\"type\":\"barpolar\"}],\"carpet\":[{\"aaxis\":{\"endlinecolor\":\"#2a3f5f\",\"gridcolor\":\"white\",\"linecolor\":\"white\",\"minorgridcolor\":\"white\",\"startlinecolor\":\"#2a3f5f\"},\"baxis\":{\"endlinecolor\":\"#2a3f5f\",\"gridcolor\":\"white\",\"linecolor\":\"white\",\"minorgridcolor\":\"white\",\"startlinecolor\":\"#2a3f5f\"},\"type\":\"carpet\"}],\"choropleth\":[{\"colorbar\":{\"outlinewidth\":0,\"ticks\":\"\"},\"type\":\"choropleth\"}],\"contour\":[{\"colorbar\":{\"outlinewidth\":0,\"ticks\":\"\"},\"colorscale\":[[0.0,\"#0d0887\"],[0.1111111111111111,\"#46039f\"],[0.2222222222222222,\"#7201a8\"],[0.3333333333333333,\"#9c179e\"],[0.4444444444444444,\"#bd3786\"],[0.5555555555555556,\"#d8576b\"],[0.6666666666666666,\"#ed7953\"],[0.7777777777777778,\"#fb9f3a\"],[0.8888888888888888,\"#fdca26\"],[1.0,\"#f0f921\"]],\"type\":\"contour\"}],\"contourcarpet\":[{\"colorbar\":{\"outlinewidth\":0,\"ticks\":\"\"},\"type\":\"contourcarpet\"}],\"heatmap\":[{\"colorbar\":{\"outlinewidth\":0,\"ticks\":\"\"},\"colorscale\":[[0.0,\"#0d0887\"],[0.1111111111111111,\"#46039f\"],[0.2222222222222222,\"#7201a8\"],[0.3333333333333333,\"#9c179e\"],[0.4444444444444444,\"#bd3786\"],[0.5555555555555556,\"#d8576b\"],[0.6666666666666666,\"#ed7953\"],[0.7777777777777778,\"#fb9f3a\"],[0.8888888888888888,\"#fdca26\"],[1.0,\"#f0f921\"]],\"type\":\"heatmap\"}],\"heatmapgl\":[{\"colorbar\":{\"outlinewidth\":0,\"ticks\":\"\"},\"colorscale\":[[0.0,\"#0d0887\"],[0.1111111111111111,\"#46039f\"],[0.2222222222222222,\"#7201a8\"],[0.3333333333333333,\"#9c179e\"],[0.4444444444444444,\"#bd3786\"],[0.5555555555555556,\"#d8576b\"],[0.6666666666666666,\"#ed7953\"],[0.7777777777777778,\"#fb9f3a\"],[0.8888888888888888,\"#fdca26\"],[1.0,\"#f0f921\"]],\"type\":\"heatmapgl\"}],\"histogram\":[{\"marker\":{\"pattern\":{\"fillmode\":\"overlay\",\"size\":10,\"solidity\":0.2}},\"type\":\"histogram\"}],\"histogram2d\":[{\"colorbar\":{\"outlinewidth\":0,\"ticks\":\"\"},\"colorscale\":[[0.0,\"#0d0887\"],[0.1111111111111111,\"#46039f\"],[0.2222222222222222,\"#7201a8\"],[0.3333333333333333,\"#9c179e\"],[0.4444444444444444,\"#bd3786\"],[0.5555555555555556,\"#d8576b\"],[0.6666666666666666,\"#ed7953\"],[0.7777777777777778,\"#fb9f3a\"],[0.8888888888888888,\"#fdca26\"],[1.0,\"#f0f921\"]],\"type\":\"histogram2d\"}],\"histogram2dcontour\":[{\"colorbar\":{\"outlinewidth\":0,\"ticks\":\"\"},\"colorscale\":[[0.0,\"#0d0887\"],[0.1111111111111111,\"#46039f\"],[0.2222222222222222,\"#7201a8\"],[0.3333333333333333,\"#9c179e\"],[0.4444444444444444,\"#bd3786\"],[0.5555555555555556,\"#d8576b\"],[0.6666666666666666,\"#ed7953\"],[0.7777777777777778,\"#fb9f3a\"],[0.8888888888888888,\"#fdca26\"],[1.0,\"#f0f921\"]],\"type\":\"histogram2dcontour\"}],\"mesh3d\":[{\"colorbar\":{\"outlinewidth\":0,\"ticks\":\"\"},\"type\":\"mesh3d\"}],\"parcoords\":[{\"line\":{\"colorbar\":{\"outlinewidth\":0,\"ticks\":\"\"}},\"type\":\"parcoords\"}],\"pie\":[{\"automargin\":true,\"type\":\"pie\"}],\"scatter\":[{\"marker\":{\"colorbar\":{\"outlinewidth\":0,\"ticks\":\"\"}},\"type\":\"scatter\"}],\"scatter3d\":[{\"line\":{\"colorbar\":{\"outlinewidth\":0,\"ticks\":\"\"}},\"marker\":{\"colorbar\":{\"outlinewidth\":0,\"ticks\":\"\"}},\"type\":\"scatter3d\"}],\"scattercarpet\":[{\"marker\":{\"colorbar\":{\"outlinewidth\":0,\"ticks\":\"\"}},\"type\":\"scattercarpet\"}],\"scattergeo\":[{\"marker\":{\"colorbar\":{\"outlinewidth\":0,\"ticks\":\"\"}},\"type\":\"scattergeo\"}],\"scattergl\":[{\"marker\":{\"colorbar\":{\"outlinewidth\":0,\"ticks\":\"\"}},\"type\":\"scattergl\"}],\"scattermapbox\":[{\"marker\":{\"colorbar\":{\"outlinewidth\":0,\"ticks\":\"\"}},\"type\":\"scattermapbox\"}],\"scatterpolar\":[{\"marker\":{\"colorbar\":{\"outlinewidth\":0,\"ticks\":\"\"}},\"type\":\"scatterpolar\"}],\"scatterpolargl\":[{\"marker\":{\"colorbar\":{\"outlinewidth\":0,\"ticks\":\"\"}},\"type\":\"scatterpolargl\"}],\"scatterternary\":[{\"marker\":{\"colorbar\":{\"outlinewidth\":0,\"ticks\":\"\"}},\"type\":\"scatterternary\"}],\"surface\":[{\"colorbar\":{\"outlinewidth\":0,\"ticks\":\"\"},\"colorscale\":[[0.0,\"#0d0887\"],[0.1111111111111111,\"#46039f\"],[0.2222222222222222,\"#7201a8\"],[0.3333333333333333,\"#9c179e\"],[0.4444444444444444,\"#bd3786\"],[0.5555555555555556,\"#d8576b\"],[0.6666666666666666,\"#ed7953\"],[0.7777777777777778,\"#fb9f3a\"],[0.8888888888888888,\"#fdca26\"],[1.0,\"#f0f921\"]],\"type\":\"surface\"}],\"table\":[{\"cells\":{\"fill\":{\"color\":\"#EBF0F8\"},\"line\":{\"color\":\"white\"}},\"header\":{\"fill\":{\"color\":\"#C8D4E3\"},\"line\":{\"color\":\"white\"}},\"type\":\"table\"}]},\"layout\":{\"annotationdefaults\":{\"arrowcolor\":\"#2a3f5f\",\"arrowhead\":0,\"arrowwidth\":1},\"autotypenumbers\":\"strict\",\"coloraxis\":{\"colorbar\":{\"outlinewidth\":0,\"ticks\":\"\"}},\"colorscale\":{\"diverging\":[[0,\"#8e0152\"],[0.1,\"#c51b7d\"],[0.2,\"#de77ae\"],[0.3,\"#f1b6da\"],[0.4,\"#fde0ef\"],[0.5,\"#f7f7f7\"],[0.6,\"#e6f5d0\"],[0.7,\"#b8e186\"],[0.8,\"#7fbc41\"],[0.9,\"#4d9221\"],[1,\"#276419\"]],\"sequential\":[[0.0,\"#0d0887\"],[0.1111111111111111,\"#46039f\"],[0.2222222222222222,\"#7201a8\"],[0.3333333333333333,\"#9c179e\"],[0.4444444444444444,\"#bd3786\"],[0.5555555555555556,\"#d8576b\"],[0.6666666666666666,\"#ed7953\"],[0.7777777777777778,\"#fb9f3a\"],[0.8888888888888888,\"#fdca26\"],[1.0,\"#f0f921\"]],\"sequentialminus\":[[0.0,\"#0d0887\"],[0.1111111111111111,\"#46039f\"],[0.2222222222222222,\"#7201a8\"],[0.3333333333333333,\"#9c179e\"],[0.4444444444444444,\"#bd3786\"],[0.5555555555555556,\"#d8576b\"],[0.6666666666666666,\"#ed7953\"],[0.7777777777777778,\"#fb9f3a\"],[0.8888888888888888,\"#fdca26\"],[1.0,\"#f0f921\"]]},\"colorway\":[\"#636efa\",\"#EF553B\",\"#00cc96\",\"#ab63fa\",\"#FFA15A\",\"#19d3f3\",\"#FF6692\",\"#B6E880\",\"#FF97FF\",\"#FECB52\"],\"font\":{\"color\":\"#2a3f5f\"},\"geo\":{\"bgcolor\":\"white\",\"lakecolor\":\"white\",\"landcolor\":\"#E5ECF6\",\"showlakes\":true,\"showland\":true,\"subunitcolor\":\"white\"},\"hoverlabel\":{\"align\":\"left\"},\"hovermode\":\"closest\",\"mapbox\":{\"style\":\"light\"},\"paper_bgcolor\":\"white\",\"plot_bgcolor\":\"#E5ECF6\",\"polar\":{\"angularaxis\":{\"gridcolor\":\"white\",\"linecolor\":\"white\",\"ticks\":\"\"},\"bgcolor\":\"#E5ECF6\",\"radialaxis\":{\"gridcolor\":\"white\",\"linecolor\":\"white\",\"ticks\":\"\"}},\"scene\":{\"xaxis\":{\"backgroundcolor\":\"#E5ECF6\",\"gridcolor\":\"white\",\"gridwidth\":2,\"linecolor\":\"white\",\"showbackground\":true,\"ticks\":\"\",\"zerolinecolor\":\"white\"},\"yaxis\":{\"backgroundcolor\":\"#E5ECF6\",\"gridcolor\":\"white\",\"gridwidth\":2,\"linecolor\":\"white\",\"showbackground\":true,\"ticks\":\"\",\"zerolinecolor\":\"white\"},\"zaxis\":{\"backgroundcolor\":\"#E5ECF6\",\"gridcolor\":\"white\",\"gridwidth\":2,\"linecolor\":\"white\",\"showbackground\":true,\"ticks\":\"\",\"zerolinecolor\":\"white\"}},\"shapedefaults\":{\"line\":{\"color\":\"#2a3f5f\"}},\"ternary\":{\"aaxis\":{\"gridcolor\":\"white\",\"linecolor\":\"white\",\"ticks\":\"\"},\"baxis\":{\"gridcolor\":\"white\",\"linecolor\":\"white\",\"ticks\":\"\"},\"bgcolor\":\"#E5ECF6\",\"caxis\":{\"gridcolor\":\"white\",\"linecolor\":\"white\",\"ticks\":\"\"}},\"title\":{\"x\":0.05},\"xaxis\":{\"automargin\":true,\"gridcolor\":\"white\",\"linecolor\":\"white\",\"ticks\":\"\",\"title\":{\"standoff\":15},\"zerolinecolor\":\"white\",\"zerolinewidth\":2},\"yaxis\":{\"automargin\":true,\"gridcolor\":\"white\",\"linecolor\":\"white\",\"ticks\":\"\",\"title\":{\"standoff\":15},\"zerolinecolor\":\"white\",\"zerolinewidth\":2}}},\"xaxis\":{\"dtick\":1,\"gridcolor\":\"rgb(0, 0, 0)\",\"side\":\"top\",\"ticks\":\"\"},\"yaxis\":{\"dtick\":1,\"ticks\":\"\",\"ticksuffix\":\"  \"}},                        {\"responsive\": true}                    ).then(function(){\n",
       "                            \n",
       "var gd = document.getElementById('be608d90-9bd7-4370-9814-bf2ba1568ba2');\n",
       "var x = new MutationObserver(function (mutations, observer) {{\n",
       "        var display = window.getComputedStyle(gd).display;\n",
       "        if (!display || display === 'none') {{\n",
       "            console.log([gd, 'removed!']);\n",
       "            Plotly.purge(gd);\n",
       "            observer.disconnect();\n",
       "        }}\n",
       "}});\n",
       "\n",
       "// Listen for the removal of the full notebook cells\n",
       "var notebookContainer = gd.closest('#notebook-container');\n",
       "if (notebookContainer) {{\n",
       "    x.observe(notebookContainer, {childList: true});\n",
       "}}\n",
       "\n",
       "// Listen for the clearing of the current output cell\n",
       "var outputEl = gd.closest('.output');\n",
       "if (outputEl) {{\n",
       "    x.observe(outputEl, {childList: true});\n",
       "}}\n",
       "\n",
       "                        })                };                });            </script>        </div>"
      ]
     },
     "metadata": {},
     "output_type": "display_data"
    }
   ],
   "source": [
    "# Visualizing continuous feature correlation with heatmap\n",
    "\n",
    "# Creating correlation dataframe\n",
    "df_corr = df_cont.corr().round(2)\n",
    "corr_filter = (df_corr == 1) | (abs(df_corr)<0.6)\n",
    "df_corr[corr_filter] = 0\n",
    "\n",
    "# Creating numpy array of correlation matrix\n",
    "arr = np.array(df_corr)\n",
    "\n",
    "# Plotting the heatmap\n",
    "fig = ff.create_annotated_heatmap(arr, x=continuousFeatures, y=continuousFeatures)\n",
    "fig.show()"
   ]
  },
  {
   "cell_type": "markdown",
   "id": "ed12665f",
   "metadata": {},
   "source": [
    "**Observations**:\n",
    "1. DIS is highly correlated with ZN\n",
    "2. TAX is highly correlated with NOX\n",
    "3. AGE is highly correlated with NOX\n",
    "4. LSTAT is highly correlated with AGE"
   ]
  },
  {
   "cell_type": "code",
   "execution_count": 27,
   "id": "7e5ce8db",
   "metadata": {},
   "outputs": [
    {
     "name": "stdout",
     "output_type": "stream",
     "text": [
      "\n",
      "Features with high multicollinearity based on VIF: \n",
      " ['NOX', 'AGE', 'DIS', 'TAX', 'PTRATIO', 'B', 'LSTAT', 'MEDV']\n"
     ]
    },
    {
     "data": {
      "text/html": [
       "<div>\n",
       "<style scoped>\n",
       "    .dataframe tbody tr th:only-of-type {\n",
       "        vertical-align: middle;\n",
       "    }\n",
       "\n",
       "    .dataframe tbody tr th {\n",
       "        vertical-align: top;\n",
       "    }\n",
       "\n",
       "    .dataframe thead th {\n",
       "        text-align: right;\n",
       "    }\n",
       "</style>\n",
       "<table border=\"1\" class=\"dataframe\">\n",
       "  <thead>\n",
       "    <tr style=\"text-align: right;\">\n",
       "      <th></th>\n",
       "      <th>Features</th>\n",
       "      <th>VIF</th>\n",
       "    </tr>\n",
       "  </thead>\n",
       "  <tbody>\n",
       "    <tr>\n",
       "      <th>0</th>\n",
       "      <td>CRIM</td>\n",
       "      <td>1.930985</td>\n",
       "    </tr>\n",
       "    <tr>\n",
       "      <th>1</th>\n",
       "      <td>ZN</td>\n",
       "      <td>2.805175</td>\n",
       "    </tr>\n",
       "    <tr>\n",
       "      <th>2</th>\n",
       "      <td>NOX</td>\n",
       "      <td>56.885916</td>\n",
       "    </tr>\n",
       "    <tr>\n",
       "      <th>3</th>\n",
       "      <td>AGE</td>\n",
       "      <td>20.606296</td>\n",
       "    </tr>\n",
       "    <tr>\n",
       "      <th>4</th>\n",
       "      <td>DIS</td>\n",
       "      <td>12.943699</td>\n",
       "    </tr>\n",
       "    <tr>\n",
       "      <th>5</th>\n",
       "      <td>TAX</td>\n",
       "      <td>19.345194</td>\n",
       "    </tr>\n",
       "    <tr>\n",
       "      <th>6</th>\n",
       "      <td>PTRATIO</td>\n",
       "      <td>68.067516</td>\n",
       "    </tr>\n",
       "    <tr>\n",
       "      <th>7</th>\n",
       "      <td>B</td>\n",
       "      <td>20.557594</td>\n",
       "    </tr>\n",
       "    <tr>\n",
       "      <th>8</th>\n",
       "      <td>LSTAT</td>\n",
       "      <td>12.376570</td>\n",
       "    </tr>\n",
       "    <tr>\n",
       "      <th>9</th>\n",
       "      <td>MEDV</td>\n",
       "      <td>13.422032</td>\n",
       "    </tr>\n",
       "  </tbody>\n",
       "</table>\n",
       "</div>"
      ],
      "text/plain": [
       "  Features        VIF\n",
       "0     CRIM   1.930985\n",
       "1       ZN   2.805175\n",
       "2      NOX  56.885916\n",
       "3      AGE  20.606296\n",
       "4      DIS  12.943699\n",
       "5      TAX  19.345194\n",
       "6  PTRATIO  68.067516\n",
       "7        B  20.557594\n",
       "8    LSTAT  12.376570\n",
       "9     MEDV  13.422032"
      ]
     },
     "execution_count": 27,
     "metadata": {},
     "output_type": "execute_result"
    }
   ],
   "source": [
    "# Calculating Variance Inflation Factor\n",
    "from statsmodels.stats.outliers_influence import variance_inflation_factor\n",
    "\n",
    "vif = pd.DataFrame()\n",
    "\n",
    "vif['Features'] = df_cont.columns\n",
    "vif['VIF'] = [variance_inflation_factor(df_cont.values,i) for i in range(df_cont.shape[1])]\n",
    "\n",
    "# Selecting features based on linearity and VIF < 5\n",
    "selected_features = [vif.loc[i,'Features'] for i,k in enumerate(list(vif['VIF'].unique())) if k>5]\n",
    "print(\"\\nFeatures with high multicollinearity based on VIF: \\n\", selected_features)\n",
    "\n",
    "vif"
   ]
  },
  {
   "cell_type": "code",
   "execution_count": 28,
   "id": "53777011",
   "metadata": {},
   "outputs": [
    {
     "data": {
      "image/png": "[encoded data removed]",
      "text/plain": [
       "<Figure size 504x504 with 1 Axes>"
      ]
     },
     "metadata": {},
     "output_type": "display_data"
    }
   ],
   "source": [
    "fig = plt.figure(figsize=(7,7))\n",
    "sns.barplot(data=vif.sort_values('VIF',ascending=False), y='Features', x='VIF')\n",
    "plt.xlabel('VIF', fontsize=15)\n",
    "plt.ylabel('Features', fontsize=15)\n",
    "plt.title('Variance Inflation Factor', fontsize=20)\n",
    "plt.show()"
   ]
  },
  {
   "cell_type": "markdown",
   "id": "d0f8ea97",
   "metadata": {},
   "source": [
    "**Observation**:\n",
    "1. PTRATIO and NOX have high VIF and should be considered for dropping."
   ]
  },
  {
   "cell_type": "markdown",
   "id": "b85d3b15",
   "metadata": {},
   "source": [
    "## Data preprocessing and Model evaluation"
   ]
  },
  {
   "cell_type": "code",
   "execution_count": 29,
   "id": "2e03ed4f",
   "metadata": {},
   "outputs": [],
   "source": [
    "# Changing dtypes\n",
    "def change_dtypes(df):\n",
    "    dtype_feat = ['INDUS', 'RM', 'RAD']\n",
    "    for feat in dtype_feat:\n",
    "        df[feat] = df[feat].astype('int')\n",
    "        df[feat] = df[feat].astype('category')\n",
    "    return df"
   ]
  },
  {
   "cell_type": "code",
   "execution_count": 30,
   "id": "c1a398ba",
   "metadata": {},
   "outputs": [],
   "source": [
    "# Binarizing 'RAD'\n",
    "def binarize(df):\n",
    "    df['RAD'] = np.where(df['RAD']==24, 1, 0)\n",
    "    df['ZN'] = np.where(df['ZN']==0, 0, 1)\n",
    "    df['B'] = np.where(df['B']<380, 0, 1)\n",
    "    return df"
   ]
  },
  {
   "cell_type": "code",
   "execution_count": 31,
   "id": "f17f4fd1",
   "metadata": {},
   "outputs": [],
   "source": [
    "# Function for Box-Cox transform\n",
    "def boxcox(df):\n",
    "    from scipy import stats\n",
    "    feat_list = ['CRIM', 'DIS', 'LSTAT']\n",
    "    for feat in feat_list:\n",
    "        df[feat], _ = stats.boxcox(df[feat])\n",
    "    return df"
   ]
  },
  {
   "cell_type": "code",
   "execution_count": 32,
   "id": "81b308a6",
   "metadata": {},
   "outputs": [],
   "source": [
    "# Function for One hot encoding\n",
    "def ohe(df):\n",
    "    df_indus = pd.get_dummies(df['INDUS'], prefix='INDUS', drop_first=True)\n",
    "    df_rm = pd.get_dummies(df['RM'], prefix='RM', drop_first=True)\n",
    "    df = pd.concat([df, df_indus, df_rm], axis=1)\n",
    "    return df"
   ]
  },
  {
   "cell_type": "code",
   "execution_count": 33,
   "id": "c159f41e",
   "metadata": {},
   "outputs": [],
   "source": [
    "# Function for dropping columns\n",
    "def drop_cols(df):\n",
    "    df = df.drop(columns=['CHAS', 'NOX', 'PTRATIO', 'INDUS', 'RM'])\n",
    "    return df"
   ]
  },
  {
   "cell_type": "code",
   "execution_count": 34,
   "id": "3f2d2c6e",
   "metadata": {},
   "outputs": [],
   "source": [
    "x_trf = (X.\n",
    "         pipe(change_dtypes).\n",
    "         pipe(binarize).\n",
    "         pipe(boxcox).\n",
    "         pipe(ohe).\n",
    "         pipe(drop_cols))"
   ]
  },
  {
   "cell_type": "code",
   "execution_count": 35,
   "id": "9435dd12",
   "metadata": {},
   "outputs": [
    {
     "data": {
      "text/plain": [
       "Index(['CRIM', 'ZN', 'AGE', 'DIS', 'RAD', 'TAX', 'B', 'LSTAT', 'INDUS_1',\n",
       "       'INDUS_2', 'INDUS_3', 'INDUS_4', 'INDUS_5', 'INDUS_6', 'INDUS_7',\n",
       "       'INDUS_8', 'INDUS_9', 'INDUS_10', 'INDUS_11', 'INDUS_12', 'INDUS_13',\n",
       "       'INDUS_15', 'INDUS_18', 'INDUS_19', 'INDUS_21', 'INDUS_25', 'INDUS_27',\n",
       "       'RM_4', 'RM_5', 'RM_6', 'RM_7', 'RM_8'],\n",
       "      dtype='object')"
      ]
     },
     "execution_count": 35,
     "metadata": {},
     "output_type": "execute_result"
    }
   ],
   "source": [
    "x_trf.columns"
   ]
  },
  {
   "cell_type": "code",
   "execution_count": 36,
   "id": "921b5f25",
   "metadata": {},
   "outputs": [],
   "source": [
    "from sklearn.model_selection import train_test_split\n",
    "\n",
    "X_train, X_test, y_train, y_test = train_test_split(x_trf, y, test_size=0.25, random_state=42)"
   ]
  },
  {
   "cell_type": "code",
   "execution_count": 40,
   "id": "8a56f7e6",
   "metadata": {},
   "outputs": [
    {
     "data": {
      "text/plain": [
       "(379, 32)"
      ]
     },
     "execution_count": 40,
     "metadata": {},
     "output_type": "execute_result"
    }
   ],
   "source": [
    "X_train.shape"
   ]
  },
  {
   "cell_type": "code",
   "execution_count": 37,
   "id": "f0078a01",
   "metadata": {},
   "outputs": [],
   "source": [
    "from sklearn.preprocessing import StandardScaler\n",
    "\n",
    "scaler = StandardScaler()\n",
    "\n",
    "X_train_scaled = scaler.fit_transform(X_train)\n",
    "X_test_scaled = scaler.transform(X_test)"
   ]
  },
  {
   "cell_type": "code",
   "execution_count": 39,
   "id": "97fd7703",
   "metadata": {},
   "outputs": [],
   "source": [
    "# Saving the scaler to the local file system\n",
    "scaler_filename = 'standard_scaler.pickle'\n",
    "pickle.dump(scaler, open(scaler_filename, 'wb'))"
   ]
  },
  {
   "cell_type": "markdown",
   "id": "4767c878",
   "metadata": {},
   "source": [
    "## Linear Regression"
   ]
  },
  {
   "cell_type": "code",
   "execution_count": null,
   "id": "11cc62e8",
   "metadata": {},
   "outputs": [],
   "source": [
    "from sklearn.metrics import r2_score, mean_squared_error"
   ]
  },
  {
   "cell_type": "code",
   "execution_count": null,
   "id": "a6f05a12",
   "metadata": {},
   "outputs": [],
   "source": [
    "#Defining a function to calculate adjusted R2\n",
    "\n",
    "def adj_r2(x,y,model):\n",
    "    r2 = model.score(x,y) # calculating r2\n",
    "    n = x.shape[0] # observations in dataset\n",
    "    p = x.shape[1] # features in dataset\n",
    "    adjusted_r2 = 1-(1-r2)*(n-1)/(n-p-1)\n",
    "    return adjusted_r2"
   ]
  },
  {
   "cell_type": "code",
   "execution_count": null,
   "id": "fcf27030",
   "metadata": {},
   "outputs": [],
   "source": [
    "from sklearn.linear_model import LinearRegression\n",
    "\n",
    "model_LR  = LinearRegression()\n",
    "\n",
    "model_LR.fit(X_train_scaled, y_train)"
   ]
  },
  {
   "cell_type": "code",
   "execution_count": null,
   "id": "0c25dd20",
   "metadata": {},
   "outputs": [],
   "source": [
    "model_LR.score(X_train_scaled, y_train)"
   ]
  },
  {
   "cell_type": "code",
   "execution_count": null,
   "id": "db812f2c",
   "metadata": {},
   "outputs": [],
   "source": [
    "model_LR.score(X_test_scaled, y_test)"
   ]
  },
  {
   "cell_type": "code",
   "execution_count": null,
   "id": "997adbcc",
   "metadata": {},
   "outputs": [],
   "source": [
    "adj_r2(X_train_scaled, y_train, model_LR)"
   ]
  },
  {
   "cell_type": "code",
   "execution_count": null,
   "id": "17ad67de",
   "metadata": {},
   "outputs": [],
   "source": [
    "y_pred = model_LR.predict(X_test_scaled)"
   ]
  },
  {
   "cell_type": "code",
   "execution_count": null,
   "id": "83d8523b",
   "metadata": {},
   "outputs": [],
   "source": [
    "r2_LR = r2_score(y_test, y_pred)\n",
    "print(\"R2 score: \", r2_LR)"
   ]
  },
  {
   "cell_type": "code",
   "execution_count": null,
   "id": "2127bb52",
   "metadata": {},
   "outputs": [],
   "source": [
    "adj_r2_LR = adj_r2(X_test_scaled, y_test, model_LR)\n",
    "print(\"Adjusted R2: \", adj_r2_LR)"
   ]
  },
  {
   "cell_type": "code",
   "execution_count": null,
   "id": "581e1fbd",
   "metadata": {},
   "outputs": [],
   "source": [
    "rmse_LR = np.sqrt(mean_squared_error(y_test, y_pred))\n",
    "print(\"RMSE: \", rmse_LR)"
   ]
  },
  {
   "cell_type": "code",
   "execution_count": null,
   "id": "fe1938da",
   "metadata": {},
   "outputs": [],
   "source": [
    "performance = {}\n",
    "\n",
    "performance['Linear Regression'] = [r2_LR, adj_r2_LR, rmse_LR]"
   ]
  },
  {
   "cell_type": "code",
   "execution_count": null,
   "id": "5c632fe0",
   "metadata": {},
   "outputs": [],
   "source": [
    "from sklearn.linear_model import Ridge, Lasso, ElasticNet, RidgeCV, LassoCV, ElasticNetCV"
   ]
  },
  {
   "cell_type": "markdown",
   "id": "aa79b4bd",
   "metadata": {},
   "source": [
    "## Lasso Regression"
   ]
  },
  {
   "cell_type": "code",
   "execution_count": null,
   "id": "802b6a63",
   "metadata": {},
   "outputs": [],
   "source": [
    "lasso_cv = LassoCV(alphas=None,\n",
    "                  cv=10,\n",
    "                  max_iter=100000,\n",
    "                  normalize=True)\n",
    "\n",
    "lasso_cv.fit(X_train_scaled, y_train)"
   ]
  },
  {
   "cell_type": "code",
   "execution_count": null,
   "id": "d9db32e4",
   "metadata": {},
   "outputs": [],
   "source": [
    "alpha = lasso_cv.alpha_\n",
    "alpha"
   ]
  },
  {
   "cell_type": "code",
   "execution_count": null,
   "id": "5c93d60e",
   "metadata": {},
   "outputs": [],
   "source": [
    "model_Lasso = Lasso(alpha)\n",
    "\n",
    "model_Lasso.fit(X_train_scaled, y_train)"
   ]
  },
  {
   "cell_type": "code",
   "execution_count": null,
   "id": "06090edb",
   "metadata": {},
   "outputs": [],
   "source": [
    "r2_lasso = model_Lasso.score(X_test_scaled, y_test)\n",
    "print(\"R2 score: \", r2_lasso)"
   ]
  },
  {
   "cell_type": "code",
   "execution_count": null,
   "id": "0f7f2eac",
   "metadata": {},
   "outputs": [],
   "source": [
    "adj_r2_Lasso = adj_r2(X_test_scaled, y_test, model_Lasso)\n",
    "print(\"Adjusted R2: \", adj_r2_Lasso)"
   ]
  },
  {
   "cell_type": "code",
   "execution_count": null,
   "id": "2960ee66",
   "metadata": {},
   "outputs": [],
   "source": [
    "y_pred_lasso = model_Lasso.predict(X_test_scaled)"
   ]
  },
  {
   "cell_type": "code",
   "execution_count": null,
   "id": "fd52979a",
   "metadata": {},
   "outputs": [],
   "source": [
    "rmse_lasso = np.sqrt(mean_squared_error(y_test, y_pred_lasso))\n",
    "print(\"RMSE :\", rmse_lasso)"
   ]
  },
  {
   "cell_type": "code",
   "execution_count": null,
   "id": "4b25d431",
   "metadata": {},
   "outputs": [],
   "source": [
    "performance['Lasso Regression'] = [r2_lasso, adj_r2_Lasso, rmse_lasso]"
   ]
  },
  {
   "cell_type": "markdown",
   "id": "256665cd",
   "metadata": {},
   "source": [
    "## Ridge Regression"
   ]
  },
  {
   "cell_type": "code",
   "execution_count": null,
   "id": "92f95f2b",
   "metadata": {},
   "outputs": [],
   "source": [
    "alphas = np.random.uniform(low=0, high=10, size=(50))\n",
    "\n",
    "ridge_cv = RidgeCV(alphas=alphas,\n",
    "                  cv=10,\n",
    "                  normalize=True)\n",
    "\n",
    "ridge_cv.fit(X_train_scaled, y_train)"
   ]
  },
  {
   "cell_type": "code",
   "execution_count": null,
   "id": "9a51da27",
   "metadata": {},
   "outputs": [],
   "source": [
    "ridge_cv.alpha_"
   ]
  },
  {
   "cell_type": "code",
   "execution_count": null,
   "id": "5e5c086b",
   "metadata": {},
   "outputs": [],
   "source": [
    "model_Ridge = Ridge(alpha = ridge_cv.alpha_)\n",
    "\n",
    "model_Ridge.fit(X_train_scaled, y_train)"
   ]
  },
  {
   "cell_type": "code",
   "execution_count": null,
   "id": "34902188",
   "metadata": {},
   "outputs": [],
   "source": [
    "r2_Ridge = model_Ridge.score(X_test_scaled, y_test)\n",
    "print(\"R2 score: \", r2_Ridge)"
   ]
  },
  {
   "cell_type": "code",
   "execution_count": null,
   "id": "c9a0390e",
   "metadata": {},
   "outputs": [],
   "source": [
    "adj_r2_Ridge = adj_r2(X_test_scaled, y_test, model_Ridge)\n",
    "print(\"Adjusted R2: \", adj_r2_Ridge)"
   ]
  },
  {
   "cell_type": "code",
   "execution_count": null,
   "id": "a77715ab",
   "metadata": {},
   "outputs": [],
   "source": [
    "y_pred_Ridge = model_Ridge.predict(X_test_scaled)"
   ]
  },
  {
   "cell_type": "code",
   "execution_count": null,
   "id": "635ac492",
   "metadata": {},
   "outputs": [],
   "source": [
    "rmse_Ridge = np.sqrt(mean_squared_error(y_test, y_pred_Ridge))\n",
    "print(\"RMSE :\", rmse_Ridge)"
   ]
  },
  {
   "cell_type": "code",
   "execution_count": null,
   "id": "c5b8081c",
   "metadata": {},
   "outputs": [],
   "source": [
    "performance['Ridge Regression'] = [r2_Ridge, adj_r2_Ridge, rmse_Ridge]"
   ]
  },
  {
   "cell_type": "markdown",
   "id": "36562769",
   "metadata": {},
   "source": [
    "## Elastic Net"
   ]
  },
  {
   "cell_type": "code",
   "execution_count": null,
   "id": "0d1b9fa8",
   "metadata": {},
   "outputs": [],
   "source": [
    "elastic_cv = ElasticNetCV(alphas=None,\n",
    "                         cv=10)\n",
    "\n",
    "elastic_cv.fit(X_train_scaled, y_train)"
   ]
  },
  {
   "cell_type": "code",
   "execution_count": null,
   "id": "96ec44fe",
   "metadata": {},
   "outputs": [],
   "source": [
    "elastic_cv.alpha_"
   ]
  },
  {
   "cell_type": "code",
   "execution_count": null,
   "id": "ebc3e0d5",
   "metadata": {},
   "outputs": [],
   "source": [
    "elastic_cv.l1_ratio"
   ]
  },
  {
   "cell_type": "code",
   "execution_count": null,
   "id": "b84b9ea7",
   "metadata": {},
   "outputs": [],
   "source": [
    "model_ElasticNet = ElasticNet(alpha = elastic_cv.alpha_,\n",
    "                             l1_ratio = 0.5)\n",
    "\n",
    "model_ElasticNet.fit(X_train_scaled, y_train)"
   ]
  },
  {
   "cell_type": "code",
   "execution_count": null,
   "id": "9b5cc384",
   "metadata": {},
   "outputs": [],
   "source": [
    "r2_ElasticNet = model_ElasticNet.score(X_test_scaled, y_test)\n",
    "print(\"R2 score: \", r2_ElasticNet)"
   ]
  },
  {
   "cell_type": "code",
   "execution_count": null,
   "id": "59868ff6",
   "metadata": {},
   "outputs": [],
   "source": [
    "adj_r2_ElasticNet = adj_r2(X_test_scaled, y_test, model_ElasticNet)\n",
    "print(\"Adjusted R2: \", adj_r2_ElasticNet)"
   ]
  },
  {
   "cell_type": "code",
   "execution_count": null,
   "id": "5d022feb",
   "metadata": {},
   "outputs": [],
   "source": [
    "y_pred_ElasticNet = model_ElasticNet.predict(X_test_scaled)"
   ]
  },
  {
   "cell_type": "code",
   "execution_count": null,
   "id": "97bc17df",
   "metadata": {},
   "outputs": [],
   "source": [
    "rmse_ElasticNet = np.sqrt(mean_squared_error(y_test, y_pred_ElasticNet))\n",
    "print(\"RMSE :\", rmse_ElasticNet)"
   ]
  },
  {
   "cell_type": "code",
   "execution_count": null,
   "id": "673e80fc",
   "metadata": {},
   "outputs": [],
   "source": [
    "performance['ElasticNet Regression'] = [r2_ElasticNet, adj_r2_ElasticNet, rmse_ElasticNet]"
   ]
  },
  {
   "cell_type": "markdown",
   "id": "f1b1e692",
   "metadata": {},
   "source": [
    "## K Fold Cross validation"
   ]
  },
  {
   "cell_type": "code",
   "execution_count": null,
   "id": "3cbb06e0",
   "metadata": {},
   "outputs": [],
   "source": [
    "X1 = X.copy()\n",
    "y1 = y.copy()\n",
    "\n",
    "scaler1 = StandardScaler()\n",
    "\n",
    "X1_scaled = scaler1.fit_transform(X1)"
   ]
  },
  {
   "cell_type": "code",
   "execution_count": null,
   "id": "99f92461",
   "metadata": {},
   "outputs": [],
   "source": [
    "from sklearn.model_selection import KFold, cross_val_score"
   ]
  },
  {
   "cell_type": "code",
   "execution_count": null,
   "id": "72e03b09",
   "metadata": {},
   "outputs": [],
   "source": [
    "folds = KFold(n_splits=10, shuffle = True, random_state=100)\n",
    "\n",
    "scores = cross_val_score(model_LR, X1_scaled, y1, scoring='r2', cv=folds)\n",
    "\n",
    "print(scores)\n",
    "print(\"\\nR2: \", np.median(scores))"
   ]
  },
  {
   "cell_type": "code",
   "execution_count": null,
   "id": "782a353f",
   "metadata": {},
   "outputs": [],
   "source": [
    "folds = KFold(n_splits=10, shuffle = True, random_state=100)\n",
    "\n",
    "scores = cross_val_score(model_LR, X1_scaled, y1, scoring='neg_mean_squared_error', cv=folds)\n",
    "\n",
    "print(-scores)\n",
    "print(\"\\nRMSE: \", np.sqrt(np.median(-scores)))"
   ]
  },
  {
   "cell_type": "code",
   "execution_count": null,
   "id": "1bdeda36",
   "metadata": {},
   "outputs": [],
   "source": [
    "performance_df = pd.DataFrame(performance, index=['R2','Adjusted R2', 'RMSE']).T\n",
    "performance_df"
   ]
  },
  {
   "cell_type": "markdown",
   "id": "875b372c",
   "metadata": {},
   "source": [
    "### On Elastic Net"
   ]
  },
  {
   "cell_type": "code",
   "execution_count": null,
   "id": "b9b9c616",
   "metadata": {},
   "outputs": [],
   "source": [
    "folds1 = KFold(n_splits=10, shuffle = True, random_state=100)\n",
    "\n",
    "scores1 = cross_val_score(model_ElasticNet, X1_scaled, y1, scoring='r2', cv=folds)\n",
    "\n",
    "print(scores1)\n",
    "print(\"\\nR2: \", np.median(scores1))"
   ]
  },
  {
   "cell_type": "code",
   "execution_count": null,
   "id": "281faa23",
   "metadata": {},
   "outputs": [],
   "source": [
    "scores = cross_val_score(model_ElasticNet,X1_scaled, y1, scoring='neg_mean_squared_error', cv=folds)\n",
    "\n",
    "print(-scores)\n",
    "print(\"\\nRMSE: \", np.sqrt(np.median(-scores)))"
   ]
  },
  {
   "cell_type": "code",
   "execution_count": null,
   "id": "8b46d1f1",
   "metadata": {},
   "outputs": [],
   "source": [
    "# Saving the model to the local file system\n",
    "import pickle\n",
    "filename = 'linear_regression_model.pickle'\n",
    "pickle.dump(model_ElasticNet, open(filename, 'wb'))"
   ]
  },
  {
   "cell_type": "code",
   "execution_count": null,
   "id": "503b7c32",
   "metadata": {},
   "outputs": [],
   "source": [
    "for i in ['RAD', 'INDUS', 'RM']:\n",
    "    df[i] = df[i].astype('int')\n",
    "    df[i] = df[i].astype('category')"
   ]
  },
  {
   "cell_type": "code",
   "execution_count": null,
   "id": "03ab6a80",
   "metadata": {},
   "outputs": [],
   "source": []
  }
 ],
 "metadata": {
  "kernelspec": {
   "display_name": "Python 3",
   "language": "python",
   "name": "python3"
  },
  "language_info": {
   "codemirror_mode": {
    "name": "ipython",
    "version": 3
   },
   "file_extension": ".py",
   "mimetype": "text/x-python",
   "name": "python",
   "nbconvert_exporter": "python",
   "pygments_lexer": "ipython3",
   "version": "3.8.8"
  }
 },
 "nbformat": 4,
 "nbformat_minor": 5
}
