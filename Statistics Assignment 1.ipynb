{
 "cells": [
  {
   "cell_type": "markdown",
   "id": "b85d088d",
   "metadata": {},
   "source": [
    "### Problem 1"
   ]
  },
  {
   "cell_type": "code",
   "execution_count": 138,
   "id": "15158765",
   "metadata": {},
   "outputs": [],
   "source": [
    "a = [6,7, 5, 7, 7, 8, 7, 6, 9, 7, 4, 10, 6, 8, 8, 9, 5, 6, 4, 8]"
   ]
  },
  {
   "cell_type": "code",
   "execution_count": 139,
   "id": "993f773b",
   "metadata": {},
   "outputs": [],
   "source": [
    "#Function for mean\n",
    "def mean_lst(lst):\n",
    "    sum = 0\n",
    "    for i in lst:\n",
    "        sum += i\n",
    "    return sum/len(lst)"
   ]
  },
  {
   "cell_type": "code",
   "execution_count": 140,
   "id": "306aee5a",
   "metadata": {},
   "outputs": [],
   "source": [
    "#Function for standard deviation\n",
    "def std_dev_lst(lst):\n",
    "    sum = 0\n",
    "    for item in lst:\n",
    "        sum += (item - mean_lst(lst))**2\n",
    "    return (sum/(len(lst)-1))**0.5"
   ]
  },
  {
   "cell_type": "code",
   "execution_count": 141,
   "id": "b74885ea",
   "metadata": {},
   "outputs": [],
   "source": [
    "#Function for median\n",
    "def median_lst(lst):\n",
    "    x = sorted(lst)\n",
    "    a = len(x)\n",
    "    b = int(a/2)\n",
    "    c = int((a-1)/2)\n",
    "    if a%2 == 0:\n",
    "        return 0.5*(x[b] + x[b-1])\n",
    "    return x[c]"
   ]
  },
  {
   "cell_type": "code",
   "execution_count": 142,
   "id": "a7effaf9",
   "metadata": {},
   "outputs": [],
   "source": [
    "#Function for mode\n",
    "def mode_lst(lst):\n",
    "    x = sorted(lst)\n",
    "    dict_x = {}\n",
    "    for i in set(lst):\n",
    "        k = str(i)\n",
    "        v = lst.count(i)\n",
    "        dict_x.update({k:v})\n",
    "    for k,v in dict_x.items():\n",
    "        if v == max(dict_x.values()):\n",
    "            return k"
   ]
  },
  {
   "cell_type": "code",
   "execution_count": 143,
   "id": "0477f92a",
   "metadata": {},
   "outputs": [
    {
     "name": "stdout",
     "output_type": "stream",
     "text": [
      "Mean: 6.85\n",
      "Median:  7.0\n",
      "Mode:  7\n",
      "Standard deviation:  1.6311119875071343\n"
     ]
    }
   ],
   "source": [
    "print(\"Mean:\",mean_lst(a))\n",
    "print(\"Median: \", median_lst(a))\n",
    "print(\"Mode: \", mode_lst(a))\n",
    "print(\"Standard deviation: \", std_dev_lst(a))"
   ]
  },
  {
   "cell_type": "markdown",
   "id": "76124532",
   "metadata": {},
   "source": [
    "### Problem 2"
   ]
  },
  {
   "cell_type": "code",
   "execution_count": 144,
   "id": "f3ca325d",
   "metadata": {},
   "outputs": [],
   "source": [
    "calls = [28, 122, 217, 130, 120, 86, 80, 90, 140, 120, 70, 40, 145, 113, 90, 68, 174, 194, 170,100, 75, 104, 97, 75, 123, \n",
    "         100, 75, 104, 97, 75, 123, 100, 89, 120, 109]"
   ]
  },
  {
   "cell_type": "code",
   "execution_count": 145,
   "id": "20a3b181",
   "metadata": {},
   "outputs": [
    {
     "name": "stdout",
     "output_type": "stream",
     "text": [
      "Mean:  107.51428571428572\n",
      "Median:  100\n",
      "Mode:  75\n",
      "Standard Deviation:  39.33892805484412\n"
     ]
    }
   ],
   "source": [
    "import statistics as st\n",
    "\n",
    "print(\"Mean: \", st.mean(calls))\n",
    "print(\"Median: \", st.median(calls))\n",
    "print(\"Mode: \", st.mode(calls))\n",
    "print(\"Standard Deviation: \", st.stdev(calls))"
   ]
  },
  {
   "cell_type": "markdown",
   "id": "197f6b20",
   "metadata": {},
   "source": [
    "### Problem 3"
   ]
  },
  {
   "cell_type": "code",
   "execution_count": 146,
   "id": "01761484",
   "metadata": {},
   "outputs": [
    {
     "data": {
      "text/plain": [
       "[0.0, 0.15, 0.8, 0.75, 0.4, 0.05]"
      ]
     },
     "execution_count": 146,
     "metadata": {},
     "output_type": "execute_result"
    }
   ],
   "source": [
    "x = [0,1,2,3,4,5]\n",
    "f_x = [0.09, 0.15, 0.40, 0.25, 0.10, 0.01]\n",
    "\n",
    "workouts = [x[i]*f_x[i] for i in range(len(x))]\n",
    "workouts"
   ]
  },
  {
   "cell_type": "code",
   "execution_count": 147,
   "id": "56fa7090",
   "metadata": {},
   "outputs": [
    {
     "name": "stdout",
     "output_type": "stream",
     "text": [
      "Mean:  0.35833333333333334\n"
     ]
    }
   ],
   "source": [
    "print(\"Mean: \", st.mean(workouts))"
   ]
  },
  {
   "cell_type": "code",
   "execution_count": 148,
   "id": "a1baeb63",
   "metadata": {},
   "outputs": [
    {
     "name": "stdout",
     "output_type": "stream",
     "text": [
      "Variance:  0.12341666666666667\n"
     ]
    }
   ],
   "source": [
    "print(\"Variance: \", st.variance(workouts))"
   ]
  },
  {
   "cell_type": "markdown",
   "id": "ff5848d1",
   "metadata": {},
   "source": [
    "### Problem 4"
   ]
  },
  {
   "cell_type": "markdown",
   "id": "5b9f08b4",
   "metadata": {},
   "source": [
    "d = diameter\n",
    "target d = 12.5\n",
    "P(d>12.6)\n",
    "d"
   ]
  },
  {
   "cell_type": "code",
   "execution_count": 362,
   "id": "a483b3f3",
   "metadata": {},
   "outputs": [],
   "source": [
    "import numpy as np\n",
    "\n",
    "# Probability density function given\n",
    "# pdf = 20*np.exp(-20*(d-12.5))"
   ]
  },
  {
   "cell_type": "code",
   "execution_count": 367,
   "id": "d2b9d917",
   "metadata": {},
   "outputs": [
    {
     "data": {
      "text/plain": [
       "[213729491630489.25, 20.0, 2.706705664732273]"
      ]
     },
     "execution_count": 367,
     "metadata": {},
     "output_type": "execute_result"
    }
   ],
   "source": [
    "x = [11,12.5,12.6]\n",
    "y = [20*np.exp(-20*(d-12.5)) for d in x]\n",
    "y"
   ]
  },
  {
   "cell_type": "markdown",
   "id": "beefff4b",
   "metadata": {},
   "source": [
    "### Problem 5"
   ]
  },
  {
   "cell_type": "code",
   "execution_count": 152,
   "id": "e679824f",
   "metadata": {},
   "outputs": [],
   "source": [
    "import numpy as np\n",
    "\n",
    "#Function for factorial\n",
    "def fact(x):\n",
    "    fact = 1\n",
    "    for i in range(1, x+1):\n",
    "        fact = fact * i\n",
    "    return fact  "
   ]
  },
  {
   "cell_type": "code",
   "execution_count": 153,
   "id": "0f67b51f",
   "metadata": {},
   "outputs": [],
   "source": [
    "#Function for combination\n",
    "def comb(n,r):\n",
    "    return fact(n) / (fact(r) * fact(n-r))"
   ]
  },
  {
   "cell_type": "code",
   "execution_count": 154,
   "id": "3de1e3fe",
   "metadata": {},
   "outputs": [],
   "source": [
    "#Function for probability calculation\n",
    "def prob_faulty(total, faulty_rate, non_faulty_rate):\n",
    "    return [comb(total, total-i) * (faulty_rate ** i) * (non_faulty_rate ** (total-i)) for i in range(total+1) ]"
   ]
  },
  {
   "cell_type": "code",
   "execution_count": 155,
   "id": "7f42a552",
   "metadata": {},
   "outputs": [
    {
     "data": {
      "text/plain": [
       "[0.11764899999999996,\n",
       " 0.30252599999999985,\n",
       " 0.3241349999999999,\n",
       " 0.18521999999999994,\n",
       " 0.05953499999999999,\n",
       " 0.010205999999999996,\n",
       " 0.0007289999999999998]"
      ]
     },
     "execution_count": 155,
     "metadata": {},
     "output_type": "execute_result"
    }
   ],
   "source": [
    "total_prob_faulty = prob_faulty(total=6, faulty_rate=0.3, non_faulty_rate=0.7)\n",
    "total_prob_faulty"
   ]
  },
  {
   "cell_type": "code",
   "execution_count": 156,
   "id": "ff65a6bf",
   "metadata": {},
   "outputs": [
    {
     "name": "stdout",
     "output_type": "stream",
     "text": [
      "Probability of 2 faulty LED in sample:  0.3241349999999999\n"
     ]
    }
   ],
   "source": [
    "print(\"Probability of 2 faulty LED in sample: \", total_prob_faulty[2]) "
   ]
  },
  {
   "cell_type": "code",
   "execution_count": 157,
   "id": "55d09423",
   "metadata": {},
   "outputs": [
    {
     "name": "stdout",
     "output_type": "stream",
     "text": [
      "The average value in the process:  0.14285714285714282\n"
     ]
    }
   ],
   "source": [
    "tpf = np.array(total_prob_faulty)\n",
    "print(\"The average value in the process: \",np.mean(tpf))"
   ]
  },
  {
   "cell_type": "code",
   "execution_count": 158,
   "id": "ae9a3365",
   "metadata": {},
   "outputs": [
    {
     "name": "stdout",
     "output_type": "stream",
     "text": [
      "The standard deviation associated with the process:  0.12278039731095808\n"
     ]
    }
   ],
   "source": [
    "print(\"The standard deviation associated with the process: \", np.std(tpf))\n"
   ]
  },
  {
   "cell_type": "markdown",
   "id": "d2b1aa5d",
   "metadata": {},
   "source": [
    "### Problem 6"
   ]
  },
  {
   "cell_type": "code",
   "execution_count": 159,
   "id": "2ea8eb9c",
   "metadata": {},
   "outputs": [],
   "source": [
    "#Function for probability calculation\n",
    "def prob_solve_correct(total, nc_rate, c_rate, num):\n",
    "    return comb(total, num) * (nc_rate ** num) * (c_rate ** (total-num))"
   ]
  },
  {
   "cell_type": "code",
   "execution_count": 160,
   "id": "c7cdbd57",
   "metadata": {},
   "outputs": [],
   "source": [
    "cr_gaurav = 0.75 # Correction rate for Gaurav\n",
    "ncr_gaurav = 0.25 # Non-correction rate for Gaurav\n",
    "\n",
    "cr_barakha = 0.45 # Correction rate for Barakha\n",
    "ncr_barakha = 0.55 # Non-correction rate for Barakha\n",
    "\n",
    "n_gaurav = 8 #Average questions per day for Gaurav\n",
    "n_barakha = 12 #Average questions per day for Barakha\n",
    "\n",
    "questions = [4,5,6]"
   ]
  },
  {
   "cell_type": "code",
   "execution_count": 161,
   "id": "7ce2ac65",
   "metadata": {},
   "outputs": [],
   "source": [
    "# Calculating the probabilities\n",
    "result_gaurav = [prob_solve_correct(total = n_gaurav, nc_rate = ncr_gaurav, c_rate = cr_gaurav, num = q) for q in questions]\n",
    "\n",
    "result_barakha = [prob_solve_correct(total = n_barakha, nc_rate = ncr_barakha, c_rate = cr_barakha, num = q) for q in questions]"
   ]
  },
  {
   "cell_type": "code",
   "execution_count": 162,
   "id": "88612d47",
   "metadata": {},
   "outputs": [
    {
     "name": "stdout",
     "output_type": "stream",
     "text": [
      "Probability of Gaurav solving 5 questions is:  0.0230712890625\n",
      "\n",
      "Probability of Barakha solving 5 questions is:  0.14894510176070516\n"
     ]
    }
   ],
   "source": [
    "# Probability of both of them solving 5 questions\n",
    "\n",
    "print(\"Probability of Gaurav solving 5 questions is: \", result_gaurav[1])\n",
    "print(\"\\nProbability of Barakha solving 5 questions is: \", result_barakha[1])"
   ]
  },
  {
   "cell_type": "code",
   "execution_count": 163,
   "id": "27825e58",
   "metadata": {},
   "outputs": [
    {
     "name": "stdout",
     "output_type": "stream",
     "text": [
      "Probability of Gaurav solving 4 questions is:  0.086517333984375\n",
      "\n",
      "Probability of Barakha solving 4 questions is:  0.07616510885490604\n"
     ]
    }
   ],
   "source": [
    "# In case of 4 questions\n",
    "\n",
    "print(\"Probability of Gaurav solving 4 questions is: \", result_gaurav[0])\n",
    "print(\"\\nProbability of Barakha solving 4 questions is: \", result_barakha[0])"
   ]
  },
  {
   "cell_type": "code",
   "execution_count": 164,
   "id": "62062529",
   "metadata": {},
   "outputs": [
    {
     "name": "stdout",
     "output_type": "stream",
     "text": [
      "Probability of Gaurav solving 6 questions is:  0.00384521484375\n",
      "\n",
      "Probability of Barakha solving 6 questions is:  0.21238468214026476\n"
     ]
    }
   ],
   "source": [
    "# In case of 6 questions\n",
    "\n",
    "print(\"Probability of Gaurav solving 6 questions is: \", result_gaurav[2])\n",
    "print(\"\\nProbability of Barakha solving 6 questions is: \", result_barakha[2])"
   ]
  },
  {
   "cell_type": "markdown",
   "id": "8e2df0d3",
   "metadata": {},
   "source": [
    "#### Inference\n",
    "\n",
    ">Though Gautam and Barakha can solve 4 questions with almost same accuracy, Gautam fails to solve more than 4 questions without correction. \n",
    "\n",
    ">Gautam cannot solve 6 or more qusetions without correction. \n",
    "\n",
    ">Whereas Barakha can solve more questions with greater accuracy. Her accuracy keeps increasing as she solves more number of questions.\n"
   ]
  },
  {
   "cell_type": "code",
   "execution_count": 165,
   "id": "e0dd39a5",
   "metadata": {},
   "outputs": [],
   "source": [
    "#For visualization\n",
    "\n",
    "import pandas as pd\n",
    "\n",
    "name_g = [\"Gaurav\", \"Gaurav\", \"Gaurav\"]\n",
    "name_b = [\"Barakha\", \"Barakha\", \"Barakha\"]"
   ]
  },
  {
   "cell_type": "code",
   "execution_count": 166,
   "id": "7defac0f",
   "metadata": {},
   "outputs": [],
   "source": [
    "dict_g = {\"Name\":name_g, \"Questions\":questions, \"Probability\":result_gaurav}\n",
    "dict_b = {\"Name\":name_b, \"Questions\":questions, \"Probability\":result_barakha}\n",
    "\n",
    "df_g = pd.DataFrame(data=dict_g, columns=['Name', 'Questions','Probability'])\n",
    "\n",
    "df_b = pd.DataFrame(data=dict_b, columns=['Name', 'Questions', 'Probability'])"
   ]
  },
  {
   "cell_type": "code",
   "execution_count": 167,
   "id": "474982d6",
   "metadata": {
    "scrolled": true
   },
   "outputs": [
    {
     "data": {
      "text/html": [
       "<div>\n",
       "<style scoped>\n",
       "    .dataframe tbody tr th:only-of-type {\n",
       "        vertical-align: middle;\n",
       "    }\n",
       "\n",
       "    .dataframe tbody tr th {\n",
       "        vertical-align: top;\n",
       "    }\n",
       "\n",
       "    .dataframe thead th {\n",
       "        text-align: right;\n",
       "    }\n",
       "</style>\n",
       "<table border=\"1\" class=\"dataframe\">\n",
       "  <thead>\n",
       "    <tr style=\"text-align: right;\">\n",
       "      <th></th>\n",
       "      <th>Name</th>\n",
       "      <th>Questions</th>\n",
       "      <th>Probability</th>\n",
       "    </tr>\n",
       "  </thead>\n",
       "  <tbody>\n",
       "    <tr>\n",
       "      <th>0</th>\n",
       "      <td>Gaurav</td>\n",
       "      <td>4</td>\n",
       "      <td>0.086517</td>\n",
       "    </tr>\n",
       "    <tr>\n",
       "      <th>1</th>\n",
       "      <td>Gaurav</td>\n",
       "      <td>5</td>\n",
       "      <td>0.023071</td>\n",
       "    </tr>\n",
       "    <tr>\n",
       "      <th>2</th>\n",
       "      <td>Gaurav</td>\n",
       "      <td>6</td>\n",
       "      <td>0.003845</td>\n",
       "    </tr>\n",
       "    <tr>\n",
       "      <th>3</th>\n",
       "      <td>Barakha</td>\n",
       "      <td>4</td>\n",
       "      <td>0.076165</td>\n",
       "    </tr>\n",
       "    <tr>\n",
       "      <th>4</th>\n",
       "      <td>Barakha</td>\n",
       "      <td>5</td>\n",
       "      <td>0.148945</td>\n",
       "    </tr>\n",
       "    <tr>\n",
       "      <th>5</th>\n",
       "      <td>Barakha</td>\n",
       "      <td>6</td>\n",
       "      <td>0.212385</td>\n",
       "    </tr>\n",
       "  </tbody>\n",
       "</table>\n",
       "</div>"
      ],
      "text/plain": [
       "      Name  Questions  Probability\n",
       "0   Gaurav          4     0.086517\n",
       "1   Gaurav          5     0.023071\n",
       "2   Gaurav          6     0.003845\n",
       "3  Barakha          4     0.076165\n",
       "4  Barakha          5     0.148945\n",
       "5  Barakha          6     0.212385"
      ]
     },
     "execution_count": 167,
     "metadata": {},
     "output_type": "execute_result"
    }
   ],
   "source": [
    "df = pd.concat([df_g, df_b], ignore_index=True)\n",
    "df"
   ]
  },
  {
   "cell_type": "code",
   "execution_count": 168,
   "id": "be703623",
   "metadata": {},
   "outputs": [
    {
     "data": {
      "image/png": "[encoded data removed]",
      "text/plain": [
       "<Figure size 504x504 with 1 Axes>"
      ]
     },
     "metadata": {},
     "output_type": "display_data"
    }
   ],
   "source": [
    "import matplotlib.pyplot as plt\n",
    "import seaborn as sns\n",
    "sns.set_style('white')\n",
    "sns.set(font_scale=1.25)\n",
    "\n",
    "fig, ax = plt.subplots(figsize=(7,7))\n",
    "ax = sns.barplot(data=df,x='Questions', y='Probability', hue='Name')\n",
    "plt.show()"
   ]
  },
  {
   "cell_type": "markdown",
   "id": "82646c76",
   "metadata": {},
   "source": [
    "Two main governing factors affecting their ability to solve questions correctly are:\n",
    "\n",
    "1. Restricting the number of questions to practice in a day.\n",
    "2. Focussing more on merely solving the questions than solving them with accuracy.\n"
   ]
  },
  {
   "cell_type": "markdown",
   "id": "4ef362e4",
   "metadata": {},
   "source": [
    "### Problem 7"
   ]
  },
  {
   "cell_type": "markdown",
   "id": "152e6615",
   "metadata": {},
   "source": [
    "customer rate = 72 per hour \n",
    "              = 4.8 ~ 5 customers per 4 min"
   ]
  },
  {
   "cell_type": "code",
   "execution_count": 169,
   "id": "ef4c44ea",
   "metadata": {},
   "outputs": [],
   "source": [
    "import numpy as np\n",
    "\n",
    "# Poisson probability function\n",
    "def poisson_prob(n, k):\n",
    "    return (np.exp(-n))*(n**k)/fact(k)"
   ]
  },
  {
   "cell_type": "code",
   "execution_count": 170,
   "id": "264ab7a1",
   "metadata": {},
   "outputs": [
    {
     "name": "stdout",
     "output_type": "stream",
     "text": [
      "Probability of 5 customers arriving in 4 minutes:  0.1754673697678507\n"
     ]
    }
   ],
   "source": [
    "# Probability of 5 customers arriving in 4 minutes\n",
    "p5 = poisson_prob(5,5)\n",
    "print(\"Probability of 5 customers arriving in 4 minutes: \", p5)"
   ]
  },
  {
   "cell_type": "code",
   "execution_count": 171,
   "id": "6a044e19",
   "metadata": {},
   "outputs": [
    {
     "name": "stdout",
     "output_type": "stream",
     "text": [
      "Probability of not more than 3 customers arriving in 4 minutes:  0.2650259152973617\n"
     ]
    }
   ],
   "source": [
    "# Probability of not more than 3 customers arriving in 4 minutes\n",
    "#Probability of 0 customers\n",
    "p0 = poisson_prob(5,0)\n",
    "\n",
    "#Probability of 1 customers\n",
    "p1 = poisson_prob(5,1)\n",
    "\n",
    "#Probability of 2 customers\n",
    "p2 = poisson_prob(5,2)\n",
    "\n",
    "#Probability of 3 customers\n",
    "p3 = poisson_prob(5,3)\n",
    "\n",
    "p = p0+p1+p2+p3\n",
    "\n",
    "print(\"Probability of not more than 3 customers arriving in 4 minutes: \", p)"
   ]
  },
  {
   "cell_type": "code",
   "execution_count": 172,
   "id": "4be41572",
   "metadata": {},
   "outputs": [
    {
     "name": "stdout",
     "output_type": "stream",
     "text": [
      "Probability of more than 3 customers arriving in 4 minutes:  0.7349740847026383\n"
     ]
    }
   ],
   "source": [
    "# Probability of more than 3 customers arriving in 4 minutes\n",
    "print(\"Probability of more than 3 customers arriving in 4 minutes: \", 1-p)"
   ]
  },
  {
   "cell_type": "code",
   "execution_count": 173,
   "id": "e20ac8d1",
   "metadata": {},
   "outputs": [
    {
     "data": {
      "image/png": "[encoded data removed]",
      "text/plain": [
       "<Figure size 576x504 with 1 Axes>"
      ]
     },
     "metadata": {},
     "output_type": "display_data"
    }
   ],
   "source": [
    "import matplotlib.pyplot as plt\n",
    "import seaborn as sns\n",
    "sns.set_style('dark')\n",
    "sns.set(font_scale=1.25)\n",
    "\n",
    "lst = [p, 1-p, p5]\n",
    "lst_k = \"3 or less,> 3,> 5\".split(\",\")\n",
    "\n",
    "fig, ax = plt.subplots(figsize=(8,7))\n",
    "ax = sns.barplot(x=lst_k, y=lst, )\n",
    "ax.set_xlabel(\"Number of customers\")\n",
    "ax.set_ylabel(\"Probability of arrival\")\n",
    "plt.show()"
   ]
  },
  {
   "cell_type": "markdown",
   "id": "8631fefb",
   "metadata": {},
   "source": [
    "### Problem 8"
   ]
  },
  {
   "cell_type": "markdown",
   "id": "6522d8df",
   "metadata": {},
   "source": [
    "77 words per min = 4620 words per hour\n",
    "\n",
    "6 error per hour\n",
    "\n",
    "Therefore error rate = 6 errors in 4620 words \n",
    "\n",
    ">Error rate for 455 words = 0.6"
   ]
  },
  {
   "cell_type": "code",
   "execution_count": 175,
   "id": "0dc57b6d",
   "metadata": {},
   "outputs": [
    {
     "name": "stdout",
     "output_type": "stream",
     "text": [
      "Probability of 2 errors in 455 words:  0.09878609449692477\n",
      "\n",
      "Lambda for 2 errors in 455 words:  3.3333333333333335\n"
     ]
    }
   ],
   "source": [
    "# For 455 words,\n",
    "\n",
    "n=0.6\n",
    "k=2\n",
    "\n",
    "# Probability of 2 errors\n",
    "print(\"Probability of 2 errors in 455 words: \",poisson_prob(n=n, k=k))\n",
    "#Lambda for 2 errors\n",
    "print(\"\\nLambda for 2 errors in 455 words: \", k/n)"
   ]
  },
  {
   "cell_type": "markdown",
   "id": "4d18a2fd",
   "metadata": {},
   "source": [
    ">Error rate for 1000 words = 1.32"
   ]
  },
  {
   "cell_type": "code",
   "execution_count": 177,
   "id": "62588e32",
   "metadata": {},
   "outputs": [
    {
     "name": "stdout",
     "output_type": "stream",
     "text": [
      "Probability of 2 errors in 1000 words:  0.23272827507264884\n",
      "\n",
      "Lambda for 2 errors in 1000 words:  1.5151515151515151\n"
     ]
    }
   ],
   "source": [
    "# For 1000 words,\n",
    "\n",
    "n=1.32\n",
    "k=2\n",
    "\n",
    "# Probability of 2 errors\n",
    "print(\"Probability of 2 errors in 1000 words: \",poisson_prob(n=n, k=k))\n",
    "#Lambda for 2 errors\n",
    "print(\"\\nLambda for 2 errors in 1000 words: \", k/n)"
   ]
  },
  {
   "cell_type": "markdown",
   "id": "f41acdb1",
   "metadata": {},
   "source": [
    ">Error rate for 255 words = 0.386"
   ]
  },
  {
   "cell_type": "code",
   "execution_count": 179,
   "id": "0d80cce6",
   "metadata": {},
   "outputs": [
    {
     "name": "stdout",
     "output_type": "stream",
     "text": [
      "Probability of 2 errors in 1000 words:  0.050641544622132564\n",
      "\n",
      "Lambda for 2 errors in 1000 words:  5.181347150259067\n"
     ]
    }
   ],
   "source": [
    "# For 255 words,\n",
    "\n",
    "n=0.386\n",
    "k=2\n",
    "\n",
    "# Probability of 2 errors\n",
    "print(\"Probability of 2 errors in 255 words: \",poisson_prob(n=n, k=k))\n",
    "#Lambda for 2 errors\n",
    "print(\"\\nLambda for 2 errors in 255 words: \", k/n)"
   ]
  },
  {
   "cell_type": "code",
   "execution_count": 180,
   "id": "4d30a982",
   "metadata": {},
   "outputs": [],
   "source": [
    "words = ['255','455','1000']\n",
    "lambdas = [5.181347150259067, 3.3333333333333335, 1.5151515151515151]\n",
    "prob = [ 0.050641544622132564, 0.09878609449692477, 0.23272827507264884]"
   ]
  },
  {
   "cell_type": "markdown",
   "id": "2edf853b",
   "metadata": {},
   "source": [
    ">As number of words increases, the corresponding lambda value decreases by almost same value.\n",
    "\n",
    ">Decrease in lambda results in a corresponding increase in the probability. \n",
    "\n",
    ">Conversly, an increase in lambda results in a decrease in probability mass function."
   ]
  },
  {
   "cell_type": "code",
   "execution_count": 197,
   "id": "67f79b63",
   "metadata": {},
   "outputs": [
    {
     "data": {
      "image/png": "[encoded data removed]",
      "text/plain": [
       "<Figure size 576x504 with 1 Axes>"
      ]
     },
     "metadata": {},
     "output_type": "display_data"
    }
   ],
   "source": [
    "import matplotlib.pyplot as plt\n",
    "import seaborn as sns\n",
    "sns.set_style('dark')\n",
    "sns.set(font_scale=1.25)\n",
    "\n",
    "fig, ax = plt.subplots(figsize=(8,7))\n",
    "ax = sns.barplot(x=lambdas, y=prob, hue=words)\n",
    "ax.set_xlabel(\"Lambda values\")\n",
    "ax.set_ylabel(\"Probability\")\n",
    "ax.set_title(\"Probability Mass Function\")\n",
    "ax.legend(title=\"Word count\")\n",
    "plt.show()"
   ]
  },
  {
   "cell_type": "markdown",
   "id": "9b7c1003",
   "metadata": {},
   "source": [
    "### Problem 9"
   ]
  },
  {
   "cell_type": "markdown",
   "id": "2dffb7f4",
   "metadata": {},
   "source": [
    "Question 4 repeated as question 9"
   ]
  },
  {
   "cell_type": "markdown",
   "id": "ef7b7010",
   "metadata": {},
   "source": [
    "### Problem 10"
   ]
  },
  {
   "cell_type": "code",
   "execution_count": 210,
   "id": "9815c86e",
   "metadata": {},
   "outputs": [
    {
     "name": "stdout",
     "output_type": "stream",
     "text": [
      "P(Z>1.26):  0.10383468112130045\n"
     ]
    }
   ],
   "source": [
    "import numpy as np\n",
    "import scipy.stats as st\n",
    "\n",
    "#P(Z>1.26)\n",
    "print(\"P(Z>1.26): \", 1-st.norm.cdf(1.26))"
   ]
  },
  {
   "cell_type": "code",
   "execution_count": 211,
   "id": "808895f2",
   "metadata": {},
   "outputs": [
    {
     "name": "stdout",
     "output_type": "stream",
     "text": [
      "P(Z<-0.86):  0.1948945212518084\n"
     ]
    }
   ],
   "source": [
    "#P(Z<-0.86)\n",
    "print(\"P(Z<-0.86): \", 1-st.norm.sf(-0.86))"
   ]
  },
  {
   "cell_type": "code",
   "execution_count": 213,
   "id": "1261a212",
   "metadata": {},
   "outputs": [
    {
     "name": "stdout",
     "output_type": "stream",
     "text": [
      "P(Z>-1.37):  0.914656549178033\n"
     ]
    }
   ],
   "source": [
    "#P(Z>-1.37)\n",
    "print(\"P(Z>-1.37): \", 1 - st.norm.cdf(-1.37))"
   ]
  },
  {
   "cell_type": "code",
   "execution_count": 297,
   "id": "9956c459",
   "metadata": {},
   "outputs": [
    {
     "name": "stdout",
     "output_type": "stream",
     "text": [
      "P(-1.25<Z<0.37):  0.5386589811336914\n"
     ]
    }
   ],
   "source": [
    "#P(-1.25<Z<0.37)\n",
    "print(\"P(-1.25<Z<0.37): \", 1-st.norm.cdf(-1.25) - st.norm.sf(0.37))"
   ]
  },
  {
   "cell_type": "code",
   "execution_count": 216,
   "id": "9a6d6dd8",
   "metadata": {},
   "outputs": [
    {
     "name": "stdout",
     "output_type": "stream",
     "text": [
      "P(Z<= -4.6):  2.1124547025028537e-06\n"
     ]
    }
   ],
   "source": [
    "#P(Z<= -4.6)\n",
    "print(\"P(Z<= -4.6): \", st.norm.cdf(-4.6))"
   ]
  },
  {
   "cell_type": "code",
   "execution_count": 229,
   "id": "39b81db9",
   "metadata": {},
   "outputs": [
    {
     "name": "stdout",
     "output_type": "stream",
     "text": [
      "Value of z when P(Z>z)=0.05:  1.6448536269514722\n"
     ]
    }
   ],
   "source": [
    "#z when P(Z>z)=0.05\n",
    "\n",
    "# 1 - st.norm.cdf(z) = 0.05\n",
    "# st.norm.cdf(z) = 0.95\n",
    "# therefore, z = st.norm.ppf(0.95)\n",
    "\n",
    "print(\"Value of z when P(Z>z)=0.05: \", st.norm.ppf(0.95))"
   ]
  },
  {
   "cell_type": "code",
   "execution_count": 264,
   "id": "86cab265",
   "metadata": {},
   "outputs": [
    {
     "name": "stdout",
     "output_type": "stream",
     "text": [
      "Value of z when P(-z<Z<z)=0.99:  -2.575829303548901\n"
     ]
    }
   ],
   "source": [
    "# z when P(-z<Z<z)=0.99\n",
    "\n",
    "# P(-z<Z,z) = 1 - ( P(Z<=-z) + P(Z>=z) )\n",
    "# 0.99 = 1 - 2* abs( P(Z<=-z) )\n",
    "# P(Z<=-z) = 0.005\n",
    "# z for P(Z<=-z) = 0.005 => z = st.norm.ppf(0.005)\n",
    "\n",
    "print(\"Value of z when P(-z<Z<z)=0.99: \", st.norm.ppf(0.005))"
   ]
  },
  {
   "cell_type": "markdown",
   "id": "7c82b9e6",
   "metadata": {},
   "source": [
    "### Problem 11"
   ]
  },
  {
   "cell_type": "markdown",
   "id": "b2e1f443",
   "metadata": {},
   "source": [
    "**Given:**\n",
    "\n",
    "mean = 10\n",
    "\n",
    "var = 4\n",
    "therefore, sd = 2"
   ]
  },
  {
   "cell_type": "code",
   "execution_count": 273,
   "id": "1c6242aa",
   "metadata": {},
   "outputs": [],
   "source": [
    "import scipy.stats as st\n",
    "\n",
    "#Function for standardisation\n",
    "def z_scaler(x,mean=10,sd=2):\n",
    "    return (x-mean)/sd"
   ]
  },
  {
   "cell_type": "code",
   "execution_count": 274,
   "id": "de7cbb49",
   "metadata": {},
   "outputs": [
    {
     "name": "stdout",
     "output_type": "stream",
     "text": [
      "x1, x2, x3:  1.5 -0.5 0.5\n"
     ]
    }
   ],
   "source": [
    "mean = 10\n",
    "sd = 2\n",
    "x1 = z_scaler(13)\n",
    "x2 = z_scaler(9)\n",
    "x3 = z_scaler(11)\n",
    "print(\"x1, x2, x3: \", x1,x2,x3)"
   ]
  },
  {
   "cell_type": "code",
   "execution_count": 275,
   "id": "86b35656",
   "metadata": {},
   "outputs": [
    {
     "name": "stdout",
     "output_type": "stream",
     "text": [
      "Probability of current measurement exceeding 13mA:  0.06680720126885809\n"
     ]
    }
   ],
   "source": [
    "# Probability of current measurement exceeding 13mA = P(Z>1.5)\n",
    "print(\"Probability of current measurement exceeding 13mA: \", 1-st.norm.cdf(1.5))"
   ]
  },
  {
   "cell_type": "code",
   "execution_count": 276,
   "id": "489055f1",
   "metadata": {},
   "outputs": [
    {
     "name": "stdout",
     "output_type": "stream",
     "text": [
      "Probability of current measurement between 9mA and 11mA:  0.38292492254802624\n"
     ]
    }
   ],
   "source": [
    "# Probability of current measurement between 9mA and 11mA = P(9<Z<11) = (1-P(Z<=9)) - P(Z>=11)\n",
    "# In scaled terms => (1-P(Z<=-0.5)) - P(Z>=0.5)\n",
    "\n",
    "print(\"Probability of current measurement between 9mA and 11mA: \", (1-st.norm.cdf(-0.5)) - (st.norm.sf(0.5)))"
   ]
  },
  {
   "cell_type": "code",
   "execution_count": 294,
   "id": "e683e87f",
   "metadata": {},
   "outputs": [
    {
     "name": "stdout",
     "output_type": "stream",
     "text": [
      "Current measurement for a probability of 0.98 is: 11.67 mA\n"
     ]
    }
   ],
   "source": [
    "# Current measurement for a probability of 0.98 = z for P(Z<=0.98)\n",
    "z = st.norm.cdf(0.98)\n",
    "current = (z*sd)+mean\n",
    "print(f\"Current measurement for a probability of 0.98 is: {current:.2f} mA\")"
   ]
  },
  {
   "cell_type": "markdown",
   "id": "d26b6be4",
   "metadata": {},
   "source": [
    "### Problem 12"
   ]
  },
  {
   "cell_type": "code",
   "execution_count": 303,
   "id": "092344e9",
   "metadata": {},
   "outputs": [],
   "source": [
    "u = 0.2508\n",
    "stdv = 0.0005\n",
    "s_low = 0.2485\n",
    "s_high = 0.2515\n",
    "new_mean = 0.2500"
   ]
  },
  {
   "cell_type": "code",
   "execution_count": 304,
   "id": "49320009",
   "metadata": {},
   "outputs": [],
   "source": [
    "import scipy.stats as st\n",
    "\n",
    "s_low = z_scaler(s_low, u, stdv)\n",
    "s_high = z_scaler(s_high, u, stdv)"
   ]
  },
  {
   "cell_type": "code",
   "execution_count": 312,
   "id": "ae4c1087",
   "metadata": {},
   "outputs": [
    {
     "name": "stdout",
     "output_type": "stream",
     "text": [
      "Proportion of shafts in sync with the specifications is: 91.92%\n"
     ]
    }
   ],
   "source": [
    "# Proportion of shafts in sync with the specifications = P(s_low =< Z <= s_high)\n",
    "# P(Z>=s_low) - (1-P(Z<=s_high)\n",
    "print(f\"Proportion of shafts in sync with the specifications is: {(st.norm.sf(s_low) - (1 - st.norm.cdf(s_high)))*100:.2f}%\")"
   ]
  },
  {
   "cell_type": "code",
   "execution_count": 313,
   "id": "07d5ad61",
   "metadata": {},
   "outputs": [
    {
     "name": "stdout",
     "output_type": "stream",
     "text": [
      "Proportion of shafts in sync with the specifications is: 100.00%\n"
     ]
    }
   ],
   "source": [
    "# When mean is centered to 0.2500\n",
    "\n",
    "u = 0.2500\n",
    "s_low = z_scaler(s_low, u, stdv)\n",
    "s_high = z_scaler(s_high, u, stdv)\n",
    "\n",
    "\n",
    "# Proportion of shafts in sync with the specifications = P(s_low =< Z <= s_high)\n",
    "# P(Z>=s_low) - (1-P(Z<=s_high)\n",
    "print(f\"Proportion of shafts in sync with the specifications is: {(st.norm.sf(s_low) - (1 - st.norm.cdf(s_high)))*100:.2f}%\")"
   ]
  },
  {
   "cell_type": "markdown",
   "id": "b526a225",
   "metadata": {},
   "source": [
    "#### Conclusion:\n",
    ">Reducing the diameter of the piston shaft will make it sync more with the specifications."
   ]
  }
 ],
 "metadata": {
  "kernelspec": {
   "display_name": "Python 3",
   "language": "python",
   "name": "python3"
  },
  "language_info": {
   "codemirror_mode": {
    "name": "ipython",
    "version": 3
   },
   "file_extension": ".py",
   "mimetype": "text/x-python",
   "name": "python",
   "nbconvert_exporter": "python",
   "pygments_lexer": "ipython3",
   "version": "3.8.8"
  }
 },
 "nbformat": 4,
 "nbformat_minor": 5
}
