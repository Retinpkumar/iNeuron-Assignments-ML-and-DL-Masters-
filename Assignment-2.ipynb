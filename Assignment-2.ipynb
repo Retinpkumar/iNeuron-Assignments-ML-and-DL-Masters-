{
 "cells": [
  {
   "cell_type": "code",
   "execution_count": 1,
   "metadata": {},
   "outputs": [
    {
     "name": "stdout",
     "output_type": "stream",
     "text": [
      "*\n",
      "**\n",
      "***\n",
      "****\n",
      "*****\n",
      "****\n",
      "***\n",
      "**\n",
      "*\n"
     ]
    }
   ],
   "source": [
    "# Question 1\n",
    "i=0\n",
    "while i < 5:\n",
    "    print(\"*\" * (i+1))\n",
    "    i += 1\n",
    "while i > 1:\n",
    "    i -= 1\n",
    "    print(\"*\" * i)"
   ]
  },
  {
   "cell_type": "code",
   "execution_count": 2,
   "metadata": {},
   "outputs": [
    {
     "name": "stdout",
     "output_type": "stream",
     "text": [
      "Enter a word: Apple\n",
      "The reversed word is:  elppA\n"
     ]
    }
   ],
   "source": [
    "# Question 2\n",
    "word = input(\"Enter a word: \")\n",
    "print(\"The reversed word is: \", word[::-1])"
   ]
  }
 ],
 "metadata": {
  "kernelspec": {
   "display_name": "Python 3",
   "language": "python",
   "name": "python3"
  },
  "language_info": {
   "codemirror_mode": {
    "name": "ipython",
    "version": 3
   },
   "file_extension": ".py",
   "mimetype": "text/x-python",
   "name": "python",
   "nbconvert_exporter": "python",
   "pygments_lexer": "ipython3",
   "version": "3.8.5"
  }
 },
 "nbformat": 4,
 "nbformat_minor": 4
}
