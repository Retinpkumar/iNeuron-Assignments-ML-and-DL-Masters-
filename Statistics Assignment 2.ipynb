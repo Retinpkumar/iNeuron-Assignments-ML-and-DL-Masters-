{
 "cells": [
  {
   "cell_type": "code",
   "execution_count": 1,
   "id": "7323ba77",
   "metadata": {},
   "outputs": [],
   "source": [
    "# Importing dependancies\n",
    "import numpy as np\n",
    "import scipy.stats as st\n",
    "import pandas as pd"
   ]
  },
  {
   "cell_type": "markdown",
   "id": "e4028f88",
   "metadata": {},
   "source": [
    "### Problem 1"
   ]
  },
  {
   "cell_type": "markdown",
   "id": "8ecc85d2",
   "metadata": {},
   "source": [
    ">1. 𝐻0: 𝜇 = 25, 𝐻1: 𝜇 ≠ 25\n",
    "\n",
    "This hypothesis testing problem is correct as the null hypothesis confirms the equality and alternate hypothesis gives the alternate in two directions. This is a two tailed test.\n",
    "\n",
    ">2. 𝐻0: 𝜎 > 10, 𝐻1: 𝜎 = 10\n",
    "\n",
    "This hypothesis testing problem is incorrect as the alternate hypothesis fails to provide the right alternate to the null hypothesis.\n",
    "\n",
    ">3. 𝐻0: 𝑥 = 50, 𝐻1: 𝑥 ≠ 50\n",
    "\n",
    "This hypothesis testing problem is correct as the null hypothesis confirms the equality and alternate hypothesis gives the alternate in two directions. This is a two tailed test.\n",
    "\n",
    ">4. 𝐻0: 𝑝 = 0.1, 𝐻1: 𝑝 = 0.5\n",
    "\n",
    "This hypothesis testing problem is incorrect as the alternate hypothesis fails to provide the right alternate to the null hypothesis.\n",
    "\n",
    "\n",
    ">5. 𝐻0: 𝑠 = 30, 𝐻1: 𝑠 > 30\n",
    "\n",
    "This hypothesis testing problem is correct and is a right tailed test as the alternate hypothesis provides a right sided alternate to the null hypothesis.\n"
   ]
  },
  {
   "cell_type": "markdown",
   "id": "7d3d42df",
   "metadata": {},
   "source": [
    "### Problem 2"
   ]
  },
  {
   "cell_type": "code",
   "execution_count": 2,
   "id": "8bbfaec2",
   "metadata": {},
   "outputs": [
    {
     "name": "stdout",
     "output_type": "stream",
     "text": [
      "z-critical:  1.6448536269514729\n",
      "z-test:  1.7777777777777715\n"
     ]
    }
   ],
   "source": [
    "pop_mean = 52 #population mean\n",
    "pop_sd = 4.5 #population standard deviation\n",
    "samp_n = 100 #sample size\n",
    "samp_mean = 52.8 #sample mean\n",
    "alpha = 0.05\n",
    "\n",
    "#Since sample size>30 and population variance is known, we can perform a Z-test to test the hypothesis.\n",
    "\n",
    "#H0: The average cost of textbooks is equal to 52.8\n",
    "#H1: The average cost of textbooks is greater than 52.8\n",
    "\n",
    "#This is a right tailed test.\n",
    "\n",
    "z_critical = st.norm.isf(alpha)\n",
    "\n",
    "std_error = pop_sd/(samp_n**0.5)\n",
    "z_test = (samp_mean-pop_mean)/std_error\n",
    "\n",
    "print(\"z-critical: \", z_critical)\n",
    "print(\"z-test: \", z_test)"
   ]
  },
  {
   "cell_type": "markdown",
   "id": "d693604d",
   "metadata": {},
   "source": [
    ">Since z_test > z_critical for our right tailed test at 5% level of significance, we reject the null hypothesis.\n",
    "Therefore we can conclude that there is sufficient evidence to prove that the average cost of textbooks is greater than 52.8"
   ]
  },
  {
   "cell_type": "markdown",
   "id": "072ca615",
   "metadata": {},
   "source": [
    "### Problem 3"
   ]
  },
  {
   "cell_type": "code",
   "execution_count": 3,
   "id": "c494bdb2",
   "metadata": {},
   "outputs": [
    {
     "name": "stdout",
     "output_type": "stream",
     "text": [
      "z-critical:  2.3263478740408408\n",
      "z-test:  -1.3258252147247767\n"
     ]
    }
   ],
   "source": [
    "pop_mean = 34 #population mean\n",
    "pop_sd = 8 #population standard deviation\n",
    "samp_n = 50 #sample size\n",
    "samp_mean = 32.5 #sample mean\n",
    "alpha = 0.01\n",
    "\n",
    "#Since sample size>30 and population variance is known, we can perform a Z-test to test the hypothesis.\n",
    "\n",
    "#H0: The average concentration of pollutants in Genesee River is less than or equal to 34ppm\n",
    "#H1: The average concentration of pollutants in Genesee River is greater than 34ppm\n",
    "\n",
    "#This is a right tailed test.\n",
    "\n",
    "z_critical = st.norm.isf(alpha)\n",
    "\n",
    "std_error = pop_sd/(samp_n**0.5)\n",
    "z_test = (samp_mean-pop_mean)/std_error\n",
    "\n",
    "print(\"z-critical: \", z_critical)\n",
    "print(\"z-test: \", z_test)"
   ]
  },
  {
   "cell_type": "markdown",
   "id": "6f519a5f",
   "metadata": {},
   "source": [
    ">Since z_test < z_critical for a right tailed test at 1% significance level, we fail to reject the null hypothesis.\n",
    "Therefore we can conclude that there is insufficient evidence to prove that the average concentration of pollutants in Genesee River is greater than 34ppm."
   ]
  },
  {
   "cell_type": "markdown",
   "id": "faa48f69",
   "metadata": {},
   "source": [
    "### Problem 4"
   ]
  },
  {
   "cell_type": "code",
   "execution_count": 4,
   "id": "e57550e0",
   "metadata": {},
   "outputs": [
    {
     "name": "stdout",
     "output_type": "stream",
     "text": [
      "t-critical: ±2.079613844727662\n",
      "t-test -2.070747228595759\n"
     ]
    }
   ],
   "source": [
    "pop_mean = 1135 #population mean\n",
    "samp_n = 22 #sample size\n",
    "alpha = 0.05\n",
    "data = [1008,812,1117,1323,1308,1415,831,1021,1287,851,930,730,699,872,913,944,954,987,1695,995,1003,994]\n",
    "\n",
    "samp_mean = np.mean(data) #sample mean\n",
    "samp_sd = np.std(data) # sample standard deviation\n",
    "\n",
    "#Since sample size<30 and population variance is unknown, we can perform a T-test to test the hypothesis.\n",
    "\n",
    "# H0: The average spending on dental expenditures by a family of 4 in the US is equal to $1135\n",
    "# H1: The average spending on dental expenditures by a family of 4 in the US is not equal to $1135\n",
    "\n",
    "# This is a two tailed test.\n",
    "\n",
    "df = samp_n-1 # Degrees of freedom\n",
    "t_critical= st.t.ppf(1-(alpha/2),df)\n",
    "\n",
    "\n",
    "std_error = samp_sd/(samp_n**0.5)\n",
    "\n",
    "t_test = (samp_mean-pop_mean)/std_error\n",
    "print(f\"t-critical: ±{t_critical}\")\n",
    "print(\"t-test\", t_test)"
   ]
  },
  {
   "cell_type": "markdown",
   "id": "0c942a42",
   "metadata": {},
   "source": [
    ">Since t_test for our two tailed test at 5% level of significance lies within the confidence interval, we fail to reject the null hypothesis. \n",
    "\n",
    ">Therefore we can conclude that there is insufficient evidence to prove that the average spending on dental expenditures by a family of 4 in the US is not equal to $1135."
   ]
  },
  {
   "cell_type": "markdown",
   "id": "fbb00791",
   "metadata": {},
   "source": [
    "### Problem 5"
   ]
  },
  {
   "cell_type": "code",
   "execution_count": 5,
   "id": "1e9bf04e",
   "metadata": {},
   "outputs": [
    {
     "name": "stdout",
     "output_type": "stream",
     "text": [
      "z-critical:  1.6448536269514729\n",
      "z-test:  1.42\n"
     ]
    }
   ],
   "source": [
    "pop_mean = 48432 #population mean\n",
    "samp_n = 400 #sample size\n",
    "samp_mean = 48574 #sample mean\n",
    "samp_sd = 2000 #sample standard deviation\n",
    "\n",
    "alpha = 0.05 # We test for a 5% significance level\n",
    "\n",
    "#Since sample size>30 and population variance is unknown, we will perform a Z-test to test the hypothesis.\n",
    "\n",
    "#H0: The average annual family income on Metropolis is equal to $48,432\n",
    "#H1: The average annual family income on Metropolis is greater than $48,432\n",
    "\n",
    "#This is a right tailed test.\n",
    "\n",
    "z_critical = st.norm.isf(alpha)\n",
    "\n",
    "std_error = samp_sd/(samp_n**0.5)\n",
    "z_test = (samp_mean-pop_mean)/std_error\n",
    "\n",
    "print(\"z-critical: \", z_critical)\n",
    "print(\"z-test: \", z_test)"
   ]
  },
  {
   "cell_type": "markdown",
   "id": "1674ff94",
   "metadata": {},
   "source": [
    ">Since z_test < z_critical for a right tailed test at 5% significance level, we fail to reject the null hypothesis.\n",
    "Therefore we can conclude that there is insufficient evidence to prove that the average annual family income on Metropolis is greater than $48,432."
   ]
  },
  {
   "cell_type": "markdown",
   "id": "8a06c18f",
   "metadata": {},
   "source": [
    "### Problem 6"
   ]
  },
  {
   "cell_type": "code",
   "execution_count": 6,
   "id": "59472b65",
   "metadata": {},
   "outputs": [
    {
     "name": "stdout",
     "output_type": "stream",
     "text": [
      "t-critical:  -1.7340636066175354\n",
      "t_score:  -2.06118477175179\n"
     ]
    }
   ],
   "source": [
    "pop_mean = 32.28 #population mean\n",
    "samp_n = 19 #sample size\n",
    "samp_mean = 31.67 #sample mean\n",
    "samp_sd = 1.29 #sample standard deviation\n",
    "alpha = 0.05\n",
    "\n",
    "#Since sample size<30 and population variance is unknown, we will perform a T-test to test the hypothesis.\n",
    "\n",
    "#H0: The average price per square foot for warehouses in the United States is equal to $32.28\n",
    "#H1: The average price per square foot for warehouses in the United States is less than $32.28\n",
    "\n",
    "#This is a left tailed test.\n",
    "\n",
    "df = samp_n-1 # Degrees of freedom\n",
    "t_critical = -(st.t.ppf(1-alpha,df))\n",
    "\n",
    "std_error = samp_sd/(samp_n**0.5)\n",
    "\n",
    "t_test = (samp_mean-pop_mean)/std_error\n",
    "print(\"t-critical: \", t_critical)\n",
    "print(\"t_score: \", t_test)"
   ]
  },
  {
   "cell_type": "markdown",
   "id": "5e836bbf",
   "metadata": {},
   "source": [
    ">Since t_test < t_critical for a left tailed test at 5% significance level, we reject the null hypothesis.\n",
    "Therefore we can conclude that there is sufficient evidence to prove that the average price per square foot for warehouses in the United States is less than $32.28"
   ]
  },
  {
   "cell_type": "markdown",
   "id": "87ff2057",
   "metadata": {},
   "source": [
    "### Problem 7"
   ]
  },
  {
   "cell_type": "code",
   "execution_count": null,
   "id": "f5c8d995",
   "metadata": {},
   "outputs": [],
   "source": []
  },
  {
   "cell_type": "markdown",
   "id": "0604dc94",
   "metadata": {},
   "source": [
    "### Problem 8"
   ]
  },
  {
   "cell_type": "code",
   "execution_count": 7,
   "id": "f198c2e8",
   "metadata": {},
   "outputs": [
    {
     "name": "stdout",
     "output_type": "stream",
     "text": [
      "t-score:  5.333333333333333\n"
     ]
    }
   ],
   "source": [
    "pop_mean = 10 #population mean\n",
    "samp_n = 16 #sample size\n",
    "samp_mean = 12 #sample mean\n",
    "samp_sd = 1.5 #sample standard deviation\n",
    "\n",
    "std_error = samp_sd/(samp_n**0.5)\n",
    "\n",
    "t_score = (samp_mean-pop_mean)/std_error\n",
    "print(\"t-score: \",t_score)"
   ]
  },
  {
   "cell_type": "markdown",
   "id": "d3ce640c",
   "metadata": {},
   "source": [
    "### Problem 9"
   ]
  },
  {
   "cell_type": "code",
   "execution_count": 8,
   "id": "dd8efc83",
   "metadata": {
    "scrolled": true
   },
   "outputs": [
    {
     "name": "stdout",
     "output_type": "stream",
     "text": [
      "t-score:  2.602480294995493\n"
     ]
    }
   ],
   "source": [
    "samp_n = 16 #sample size\n",
    "df = samp_n-1\n",
    "alpha = 0.01\n",
    "#This is a left tailed test\n",
    "t_score = st.t.ppf(1-alpha,df)\n",
    "print(\"t-score: \",t_score)"
   ]
  },
  {
   "cell_type": "markdown",
   "id": "dc9e9975",
   "metadata": {},
   "source": [
    "### Problem 10"
   ]
  },
  {
   "cell_type": "markdown",
   "id": "d67661c2",
   "metadata": {},
   "source": [
    "samp_n = 25 #sample size\n",
    "\n",
    "samp_mean = 60 #sample mean\n",
    "\n",
    "samp_sd = 4 #sample standard deviation\n",
    "\n",
    "alpha = 0.05/2 = 0.025\n",
    "\n",
    "df=samp_n-1\n",
    "\n",
    "2.064 < t_critical < 2.492 # from t-table\n"
   ]
  },
  {
   "cell_type": "code",
   "execution_count": 9,
   "id": "4de945e8",
   "metadata": {},
   "outputs": [
    {
     "name": "stdout",
     "output_type": "stream",
     "text": [
      "Probability that -t0.05<t<t0.10 is: 51.97% < P(t) < 53.94%\n"
     ]
    }
   ],
   "source": [
    "p1 = st.t.cdf(-0.05, df=24)\n",
    "p2 = st.t.sf(0.1, df=24)\n",
    "\n",
    "print(f\"Probability that -t0.05<t<t0.10 is: {(1-p1)*100:0.2f}% < P(t) < {(1-p2)*100:0.2f}%\")"
   ]
  },
  {
   "cell_type": "markdown",
   "id": "79800350",
   "metadata": {},
   "source": [
    "### Problem 11"
   ]
  },
  {
   "cell_type": "code",
   "execution_count": 10,
   "id": "68e0c725",
   "metadata": {},
   "outputs": [
    {
     "name": "stdout",
     "output_type": "stream",
     "text": [
      "Z-score:  -7.926428526759299\n",
      "Z-critical: ±-0.509972518195238\n"
     ]
    }
   ],
   "source": [
    "n1 = 1200 # size for population1\n",
    "x1 = 452 # mean for population1\n",
    "s1 = 212 # standard deviation for population1\n",
    "n2 = 800 # size for population2\n",
    "x2 = 523 # mean for population2\n",
    "s2 = 185 # standard deviation for population2\n",
    "\n",
    "# H0: Number of poeple travelling from Bangalore to Chennai is same as the number of people travelling from Bangalore to Hosur\n",
    "# in a week.\n",
    "# H1: Number of poeple travelling from Bangalore to Chennai is different from the number of people travelling from Bangalore to\n",
    "# Hosur in a week\n",
    "\n",
    "std_error = (((s1**2)/n1) + ((s2**2)/n2))**0.5\n",
    "\n",
    "# Assuming our Null hypothesis to be true, sample means for both the population is assumed to be same.\n",
    "\n",
    "z_score = (x1-x2)/std_error\n",
    "\n",
    "# Since this is a two tailed test, we need to find left and right critical region\n",
    "\n",
    "alpha = 0.05 # For 5% significance level\n",
    "\n",
    "z_critical = st.norm.cdf(alpha/2)\n",
    "\n",
    "print(\"Z-score: \", z_score)\n",
    "print(f\"Z-critical: ±{-z_critical}\")"
   ]
  },
  {
   "cell_type": "markdown",
   "id": "eab803ea",
   "metadata": {},
   "source": [
    ">Since Z-score < Z-critical-left, we reject the null hypothesis.\n",
    "Therefore we can conclude that there is sufficient evidence to prove that the number of poeple travelling from Bangalore to \n",
    "Chennai is different from the number of people travelling from Bangalore to Hosur in a week."
   ]
  },
  {
   "cell_type": "markdown",
   "id": "5bed6885",
   "metadata": {},
   "source": [
    "### Problem 12"
   ]
  },
  {
   "cell_type": "code",
   "execution_count": 11,
   "id": "07586a8d",
   "metadata": {},
   "outputs": [
    {
     "name": "stdout",
     "output_type": "stream",
     "text": [
      "Z-score:  5.025702668336442\n",
      "Z-critical: ±0.509972518195238\n"
     ]
    }
   ],
   "source": [
    "n1 = 100 # size for population1\n",
    "x1 = 308 # mean for population1\n",
    "s1 = 84 # standard deviation for population1\n",
    "n2 = 100 # size for population2\n",
    "x2 = 254 # mean for population2\n",
    "s2 = 67 # standard deviation for population2\n",
    "\n",
    "#H0: Number of people preferring Duracell battery is the same as number of people preferring Energizer battery.\n",
    "#H1: Number of people preferring Duracell battery is different from number of people preferring Energizer battery.\n",
    "\n",
    "std_error = (((s1**2)/n1) + ((s2**2)/n2))**0.5\n",
    "\n",
    "# Assuming our Null hypothesis to be true, sample means for both the population is assumed to be same.\n",
    "\n",
    "z_score = (x1-x2)/std_error\n",
    "\n",
    "# Since this is a two tailed test, we need to find left and right critical region\n",
    "\n",
    "alpha = 0.05 # For 5% significance level\n",
    "\n",
    "z_critical = st.norm.cdf(alpha/2)\n",
    "\n",
    "print(\"Z-score: \", z_score)\n",
    "print(f\"Z-critical: ±{z_critical}\")"
   ]
  },
  {
   "cell_type": "markdown",
   "id": "4997364b",
   "metadata": {},
   "source": [
    ">Since the z-score lies within the confidence interval, we fail to reject the null hypothesis. \n",
    "Therefore we can conlcude that there is insufficient evidence to prove that the number of people preferring Duracell battery is different from number of people preferring Energizer battery."
   ]
  },
  {
   "cell_type": "markdown",
   "id": "c3cfe589",
   "metadata": {},
   "source": [
    "### Problem 13"
   ]
  },
  {
   "cell_type": "code",
   "execution_count": 12,
   "id": "265f72ef",
   "metadata": {},
   "outputs": [
    {
     "name": "stdout",
     "output_type": "stream",
     "text": [
      "t_score: 2.1965113720074068, \n",
      "t_critical: ±2.0796138447276626\n"
     ]
    }
   ],
   "source": [
    "n1 = 14 # size for population1\n",
    "x1 = 0.317 # mean for population1\n",
    "s1 = 0.12 # standard deviation for population1\n",
    "n2 = 9 # size for population2\n",
    "x2 = 0.21 # mean for population2\n",
    "s2 = 0.11 # standard deviation for population2\n",
    "\n",
    "#H0: Average percentage increase in the price of sugar is same when it is sold at two different prices\n",
    "#H1: Average percentage increase in the price of sugar differs when it is sold at two different prices\n",
    "\n",
    "std_error = (((s1**2)/n1) + ((s2**2)/n2))**0.5\n",
    "\n",
    "# Assuming our Null hypothesis to be true, sample means for both the population is assumed to be same.\n",
    "\n",
    "t_score = (x1-x2)/std_error #Since sample size <30, we use t-statistic for testing\n",
    "\n",
    "# Since this is a two tailed test, we need to find left and right critical region.\n",
    "\n",
    "alpha = 0.05\n",
    "df = n1+n2-2\n",
    "t_critical = st.t.isf(alpha/2, df=df)\n",
    "print(f\"t_score: {t_score}, \\nt_critical: ±{t_critical}\")"
   ]
  },
  {
   "cell_type": "markdown",
   "id": "ba97207f",
   "metadata": {},
   "source": [
    ">Since the t_score lies in the right critical region, we reject our null hypothesis.\n",
    "Therefore we can conclude that there is sufficient evidence to prove that the average percentage increase in the price of sugar differs when it is sold at two different prices."
   ]
  },
  {
   "cell_type": "markdown",
   "id": "d059c189",
   "metadata": {},
   "source": [
    "### Problem 14"
   ]
  },
  {
   "cell_type": "code",
   "execution_count": 13,
   "id": "d5610c6a",
   "metadata": {},
   "outputs": [
    {
     "name": "stdout",
     "output_type": "stream",
     "text": [
      "t_score: -0.9341299576730813, \n",
      "t_critical: 1.708140761251899\n"
     ]
    }
   ],
   "source": [
    "n1 = 15 # size for population1\n",
    "x1 = 6598 # mean for population1\n",
    "s1 = 844 # standard deviation for population1\n",
    "n2 = 12 # size for population2\n",
    "x2 = 6870 # mean for population2\n",
    "s2 = 669 # standard deviation for population2\n",
    "\n",
    "# H0: Small price reduction is not enough to increase the sales of compact disk players\n",
    "# H1: A small price reduction is enough to increase the sales of compact disk players\n",
    "\n",
    "std_error = (((s1**2)/n1) + ((s2**2)/n2))**0.5\n",
    "\n",
    "# Assuming our Null hypothesis to be true, sample means for both the population is assumed to be same.\n",
    "\n",
    "t_score = (x1-x2)/std_error #Since sample size <30, we use t-statistic for testing\n",
    "\n",
    "# Since we are testing for increase in sales, this is a right tailed test.\n",
    "\n",
    "alpha = 0.05\n",
    "df = n1+n2-2\n",
    "t_critical = st.t.isf(alpha, df=df)\n",
    "print(f\"t_score: {t_score}, \\nt_critical: {t_critical}\")"
   ]
  },
  {
   "cell_type": "markdown",
   "id": "e74f3ae7",
   "metadata": {},
   "source": [
    ">Since t_score lies within the confidence interval, we fail to reject the null hypothesis.\n",
    "Therefore we can conclude that there is insuffficient evidence to prove that a small price reduction is enough to increase the sales of compact disk players."
   ]
  },
  {
   "cell_type": "markdown",
   "id": "1cda1f93",
   "metadata": {},
   "source": [
    "### Problem 15"
   ]
  },
  {
   "cell_type": "code",
   "execution_count": 14,
   "id": "09902c3e",
   "metadata": {
    "scrolled": true
   },
   "outputs": [
    {
     "name": "stdout",
     "output_type": "stream",
     "text": [
      "z_score: 0.0, \n",
      "z_critical: ±1.9599639845400545\n"
     ]
    }
   ],
   "source": [
    "n1 = 1000 # size for population1\n",
    "x1 = 53 # mean for population1\n",
    "p1 = 0.53\n",
    "n2 = 100 # size for population2\n",
    "x2 = 43 # mean for population2\n",
    "p2 = 0.53\n",
    "\n",
    "# H0: Bank's share of the car loan market in 1980 and 1985 are the same.\n",
    "# H1: Bank's share of the car loan market in 1980 and 1985 are not the same.\n",
    "\n",
    "p = ((p1*n1)+(p2*n2)) / (n1+n2) #Pooled sample proportion\n",
    "\n",
    "std_error = (p*(1-p)*(n1+n2)/(n1*n2))\n",
    "\n",
    "# Assuming our Null hypothesis to be true, sample means for both the population is assumed to be same.\n",
    "\n",
    "z_score = (p1-p2)/std_error #Since sample size >30, we use z-statistic for testing\n",
    "\n",
    "#This is a two tailed test.\n",
    "alpha = 0.05\n",
    "df = n1+n2-2\n",
    "z_critical = st.norm.isf(alpha/2)\n",
    "print(f\"z_score: {z_score}, \\nz_critical: ±{z_critical}\")"
   ]
  },
  {
   "cell_type": "markdown",
   "id": "6f619d60",
   "metadata": {},
   "source": [
    ">Since z_score lies within the confidence interval, we fail to reject the null hypothesis.\n",
    "Therefore we can conclude that there is insufficient evidence to prove that Bank's share of the car loan market in 1980 and 1985 are not the same."
   ]
  },
  {
   "cell_type": "markdown",
   "id": "8ddc0f29",
   "metadata": {},
   "source": [
    "### Problem 16"
   ]
  },
  {
   "cell_type": "code",
   "execution_count": 15,
   "id": "5a902c9e",
   "metadata": {},
   "outputs": [
    {
     "name": "stdout",
     "output_type": "stream",
     "text": [
      "z_score: 218.2952182952183, \n",
      "z_critical: 1.6448536269514729\n"
     ]
    }
   ],
   "source": [
    "n1 = 300 # size for population1\n",
    "x1 = 120 # mean for population1\n",
    "p1 = 0.40\n",
    "n2 = 700 # size for population2\n",
    "x2 = 140 # mean for population2\n",
    "p2 = 0.20\n",
    "\n",
    "# H0: population proportion of traveler’s check buyers who buy at least $2500 in checks when sweepstakes prizes are offered \n",
    "# are at least 10% higher than the proportion of such buyers when no sweepstakes are on.\n",
    "# H1: not H0\n",
    "\n",
    "p = ((p1*n1)+(p2*n2)) / (n1+n2) #Pooled sample proportion\n",
    "\n",
    "std_error = (p*(1-p)*(n1+n2)/(n1*n2))\n",
    "\n",
    "# Assuming our Null hypothesis to be true, sample means for both the population is assumed to be same.\n",
    "\n",
    "z_score = (p1-p2)/std_error #Since sample size >30, we use z-statistic for testing\n",
    "\n",
    "\n",
    "alpha = 0.05\n",
    "df = n1+n2-2\n",
    "z_critical = st.norm.isf(alpha)\n",
    "print(f\"z_score: {z_score}, \\nz_critical: {z_critical}\")"
   ]
  },
  {
   "cell_type": "markdown",
   "id": "087c067b",
   "metadata": {},
   "source": [
    "### Problem 17"
   ]
  },
  {
   "cell_type": "code",
   "execution_count": 16,
   "id": "ec615086",
   "metadata": {},
   "outputs": [],
   "source": [
    "n = 132\n",
    "num = [1,2,3,4,5,6]\n",
    "freq = [16,20,25,14,29,28]\n",
    "#df = p-1"
   ]
  },
  {
   "cell_type": "markdown",
   "id": "f6c5d355",
   "metadata": {},
   "source": [
    "### Problem 18"
   ]
  },
  {
   "cell_type": "code",
   "execution_count": 17,
   "id": "7f80656a",
   "metadata": {},
   "outputs": [
    {
     "name": "stdout",
     "output_type": "stream",
     "text": [
      "Chi-score: 1309.8066201674956, \n",
      "Chi-critical: 3.8414588206941285\n"
     ]
    }
   ],
   "source": [
    "n_pop = 1000000\n",
    "n = 10000\n",
    "men_voted = 2792\n",
    "men_not_voted = 1486\n",
    "women_voted = 3591\n",
    "women_not_voted = 2131\n",
    "\n",
    "#H0: Gender and voting are dependant.\n",
    "#H1: Gender and voting are independant.\n",
    "\n",
    "men_obs = men_voted\n",
    "men_exp = men_voted + men_not_voted\n",
    "\n",
    "women_obs = women_voted\n",
    "women_exp = women_voted + women_not_voted\n",
    "\n",
    "chi_score = (((men_obs - men_exp)**2)/men_exp) + (((women_obs - women_exp)**2)/women_exp)\n",
    "\n",
    "df = 1\n",
    "alpha = 0.05\n",
    "\n",
    "chi_critical = st.chi2.isf(alpha,df)\n",
    "\n",
    "print(f\"Chi-score: {chi_score}, \\nChi-critical: {chi_critical}\")"
   ]
  },
  {
   "cell_type": "markdown",
   "id": "2e90a62b",
   "metadata": {},
   "source": [
    ">Since chi-score falls inside the critical region, we reject the null hypothesis. Therefore we can conclude that there is sufficient evidence to claim that gender and voting are independant."
   ]
  },
  {
   "cell_type": "markdown",
   "id": "1f6b2d2e",
   "metadata": {},
   "source": [
    "### Problem 19"
   ]
  },
  {
   "cell_type": "code",
   "execution_count": 18,
   "id": "931bb2fa",
   "metadata": {},
   "outputs": [
    {
     "name": "stdout",
     "output_type": "stream",
     "text": [
      "Chi-score: 14.959999999999999, \n",
      "Chi-critical: 14.96\n"
     ]
    }
   ],
   "source": [
    "c1_obs = 41\n",
    "c1_exp = 25\n",
    "c2_obs = 19\n",
    "c2_exp = 25\n",
    "c3_obs = 24\n",
    "c3_exp = 25\n",
    "c4_obs = 16\n",
    "c4_exp = 25\n",
    "\n",
    "#H0: All candidates are equally popular\n",
    "#H1: All candidates are not equally popular\n",
    "\n",
    "chi_critical = 14.96 #given\n",
    "\n",
    "chi_score = (((c1_obs-c1_exp)**2)/c1_exp)+(((c2_obs-c2_exp)**2)/c2_exp)+(((c3_obs-c3_exp)**2)/c3_exp)+(((c4_obs-c4_exp)**2)/c4_exp)\n",
    "\n",
    "print(f\"Chi-score: {chi_score}, \\nChi-critical: {chi_critical}\")"
   ]
  },
  {
   "cell_type": "markdown",
   "id": "5ef42070",
   "metadata": {},
   "source": [
    ">Since Chi-score lies in the critical region, we reject the null hypothesis.\n",
    "Therefore we conclude that there is sufficient evidence to claim that all the candidates are not equally popular."
   ]
  },
  {
   "cell_type": "markdown",
   "id": "48685e41",
   "metadata": {},
   "source": [
    "### Problem 20"
   ]
  },
  {
   "cell_type": "code",
   "execution_count": 19,
   "id": "d13f305d",
   "metadata": {},
   "outputs": [
    {
     "data": {
      "text/html": [
       "<div>\n",
       "<style scoped>\n",
       "    .dataframe tbody tr th:only-of-type {\n",
       "        vertical-align: middle;\n",
       "    }\n",
       "\n",
       "    .dataframe tbody tr th {\n",
       "        vertical-align: top;\n",
       "    }\n",
       "\n",
       "    .dataframe thead th {\n",
       "        text-align: right;\n",
       "    }\n",
       "</style>\n",
       "<table border=\"1\" class=\"dataframe\">\n",
       "  <thead>\n",
       "    <tr style=\"text-align: right;\">\n",
       "      <th></th>\n",
       "      <th></th>\n",
       "      <th>A</th>\n",
       "      <th>B</th>\n",
       "      <th>C</th>\n",
       "    </tr>\n",
       "  </thead>\n",
       "  <tbody>\n",
       "    <tr>\n",
       "      <th rowspan=\"3\" valign=\"top\">Age of child</th>\n",
       "      <th>5-6 years</th>\n",
       "      <td>18</td>\n",
       "      <td>22</td>\n",
       "      <td>20</td>\n",
       "    </tr>\n",
       "    <tr>\n",
       "      <th>7-8 years</th>\n",
       "      <td>2</td>\n",
       "      <td>28</td>\n",
       "      <td>40</td>\n",
       "    </tr>\n",
       "    <tr>\n",
       "      <th>9-10 years</th>\n",
       "      <td>20</td>\n",
       "      <td>10</td>\n",
       "      <td>40</td>\n",
       "    </tr>\n",
       "  </tbody>\n",
       "</table>\n",
       "</div>"
      ],
      "text/plain": [
       "                          A   B   C\n",
       "Age of child 5-6 years   18  22  20\n",
       "             7-8 years    2  28  40\n",
       "             9-10 years  20  10  40"
      ]
     },
     "execution_count": 19,
     "metadata": {},
     "output_type": "execute_result"
    }
   ],
   "source": [
    "data = {\"A\":[18,2,20], \"B\":[22,28,10], \"C\":[20,40,40]}\n",
    "\n",
    "#H0: There is a significant relationship between age and photograph preference.\n",
    "#H1: There is no significant relationship between age and photograph preference.\n",
    "\n",
    "age = ['5-6 years', '7-8 years', '9-10 years']\n",
    "age_i = ['Age of child','Age of child', 'Age of child']\n",
    "\n",
    "h_idx = list(zip(age_i,age))\n",
    "levels = pd.MultiIndex.from_tuples(h_idx)\n",
    "df = pd.DataFrame(data, index=levels)\n",
    "df"
   ]
  },
  {
   "cell_type": "code",
   "execution_count": 20,
   "id": "cdc86a3f",
   "metadata": {},
   "outputs": [
    {
     "data": {
      "text/html": [
       "<div>\n",
       "<style scoped>\n",
       "    .dataframe tbody tr th:only-of-type {\n",
       "        vertical-align: middle;\n",
       "    }\n",
       "\n",
       "    .dataframe tbody tr th {\n",
       "        vertical-align: top;\n",
       "    }\n",
       "\n",
       "    .dataframe thead th {\n",
       "        text-align: right;\n",
       "    }\n",
       "</style>\n",
       "<table border=\"1\" class=\"dataframe\">\n",
       "  <thead>\n",
       "    <tr style=\"text-align: right;\">\n",
       "      <th></th>\n",
       "      <th></th>\n",
       "      <th>A</th>\n",
       "      <th>B</th>\n",
       "      <th>C</th>\n",
       "      <th>A_exp</th>\n",
       "      <th>B_exp</th>\n",
       "      <th>C_exp</th>\n",
       "    </tr>\n",
       "  </thead>\n",
       "  <tbody>\n",
       "    <tr>\n",
       "      <th rowspan=\"3\" valign=\"top\">Age of child</th>\n",
       "      <th>5-6 years</th>\n",
       "      <td>18</td>\n",
       "      <td>22</td>\n",
       "      <td>20</td>\n",
       "      <td>40</td>\n",
       "      <td>60</td>\n",
       "      <td>100</td>\n",
       "    </tr>\n",
       "    <tr>\n",
       "      <th>7-8 years</th>\n",
       "      <td>2</td>\n",
       "      <td>28</td>\n",
       "      <td>40</td>\n",
       "      <td>40</td>\n",
       "      <td>60</td>\n",
       "      <td>100</td>\n",
       "    </tr>\n",
       "    <tr>\n",
       "      <th>9-10 years</th>\n",
       "      <td>20</td>\n",
       "      <td>10</td>\n",
       "      <td>40</td>\n",
       "      <td>40</td>\n",
       "      <td>60</td>\n",
       "      <td>100</td>\n",
       "    </tr>\n",
       "  </tbody>\n",
       "</table>\n",
       "</div>"
      ],
      "text/plain": [
       "                          A   B   C  A_exp  B_exp  C_exp\n",
       "Age of child 5-6 years   18  22  20     40     60    100\n",
       "             7-8 years    2  28  40     40     60    100\n",
       "             9-10 years  20  10  40     40     60    100"
      ]
     },
     "execution_count": 20,
     "metadata": {},
     "output_type": "execute_result"
    }
   ],
   "source": [
    "col_names = [name for name in df.columns]\n",
    "\n",
    "for col in col_names:\n",
    "    name1 = col+\"_exp\"\n",
    "    df[name1] = df[col].sum()\n",
    "df"
   ]
  },
  {
   "cell_type": "code",
   "execution_count": 21,
   "id": "4b293516",
   "metadata": {},
   "outputs": [
    {
     "data": {
      "text/html": [
       "<div>\n",
       "<style scoped>\n",
       "    .dataframe tbody tr th:only-of-type {\n",
       "        vertical-align: middle;\n",
       "    }\n",
       "\n",
       "    .dataframe tbody tr th {\n",
       "        vertical-align: top;\n",
       "    }\n",
       "\n",
       "    .dataframe thead th {\n",
       "        text-align: right;\n",
       "    }\n",
       "</style>\n",
       "<table border=\"1\" class=\"dataframe\">\n",
       "  <thead>\n",
       "    <tr style=\"text-align: right;\">\n",
       "      <th></th>\n",
       "      <th></th>\n",
       "      <th>A</th>\n",
       "      <th>B</th>\n",
       "      <th>C</th>\n",
       "      <th>A_exp</th>\n",
       "      <th>B_exp</th>\n",
       "      <th>C_exp</th>\n",
       "      <th>A_chi2</th>\n",
       "      <th>B_chi2</th>\n",
       "      <th>C_chi2</th>\n",
       "    </tr>\n",
       "  </thead>\n",
       "  <tbody>\n",
       "    <tr>\n",
       "      <th rowspan=\"3\" valign=\"top\">Age of child</th>\n",
       "      <th>5-6 years</th>\n",
       "      <td>18</td>\n",
       "      <td>22</td>\n",
       "      <td>20</td>\n",
       "      <td>40</td>\n",
       "      <td>60</td>\n",
       "      <td>100</td>\n",
       "      <td>12.1</td>\n",
       "      <td>24.066667</td>\n",
       "      <td>64.0</td>\n",
       "    </tr>\n",
       "    <tr>\n",
       "      <th>7-8 years</th>\n",
       "      <td>2</td>\n",
       "      <td>28</td>\n",
       "      <td>40</td>\n",
       "      <td>40</td>\n",
       "      <td>60</td>\n",
       "      <td>100</td>\n",
       "      <td>36.1</td>\n",
       "      <td>17.066667</td>\n",
       "      <td>36.0</td>\n",
       "    </tr>\n",
       "    <tr>\n",
       "      <th>9-10 years</th>\n",
       "      <td>20</td>\n",
       "      <td>10</td>\n",
       "      <td>40</td>\n",
       "      <td>40</td>\n",
       "      <td>60</td>\n",
       "      <td>100</td>\n",
       "      <td>10.0</td>\n",
       "      <td>41.666667</td>\n",
       "      <td>36.0</td>\n",
       "    </tr>\n",
       "  </tbody>\n",
       "</table>\n",
       "</div>"
      ],
      "text/plain": [
       "                          A   B   C  A_exp  B_exp  C_exp  A_chi2     B_chi2  \\\n",
       "Age of child 5-6 years   18  22  20     40     60    100    12.1  24.066667   \n",
       "             7-8 years    2  28  40     40     60    100    36.1  17.066667   \n",
       "             9-10 years  20  10  40     40     60    100    10.0  41.666667   \n",
       "\n",
       "                         C_chi2  \n",
       "Age of child 5-6 years     64.0  \n",
       "             7-8 years     36.0  \n",
       "             9-10 years    36.0  "
      ]
     },
     "execution_count": 21,
     "metadata": {},
     "output_type": "execute_result"
    }
   ],
   "source": [
    "#Calculating chi stats\n",
    "\n",
    "for c_name in col_names:\n",
    "    name1 = c_name + \"_exp\"\n",
    "    name2 = c_name + \"_chi2\"\n",
    "    df[name2] = ((df[c_name]-df[name1])**2) / df[name1]\n",
    "df"
   ]
  },
  {
   "cell_type": "code",
   "execution_count": 22,
   "id": "89df7428",
   "metadata": {},
   "outputs": [
    {
     "data": {
      "text/html": [
       "<div>\n",
       "<style scoped>\n",
       "    .dataframe tbody tr th:only-of-type {\n",
       "        vertical-align: middle;\n",
       "    }\n",
       "\n",
       "    .dataframe tbody tr th {\n",
       "        vertical-align: top;\n",
       "    }\n",
       "\n",
       "    .dataframe thead th {\n",
       "        text-align: right;\n",
       "    }\n",
       "</style>\n",
       "<table border=\"1\" class=\"dataframe\">\n",
       "  <thead>\n",
       "    <tr style=\"text-align: right;\">\n",
       "      <th></th>\n",
       "      <th></th>\n",
       "      <th>A</th>\n",
       "      <th>B</th>\n",
       "      <th>C</th>\n",
       "      <th>A_exp</th>\n",
       "      <th>B_exp</th>\n",
       "      <th>C_exp</th>\n",
       "      <th>A_chi2</th>\n",
       "      <th>B_chi2</th>\n",
       "      <th>C_chi2</th>\n",
       "      <th>Chi_score</th>\n",
       "    </tr>\n",
       "  </thead>\n",
       "  <tbody>\n",
       "    <tr>\n",
       "      <th rowspan=\"3\" valign=\"top\">Age of child</th>\n",
       "      <th>5-6 years</th>\n",
       "      <td>18</td>\n",
       "      <td>22</td>\n",
       "      <td>20</td>\n",
       "      <td>40</td>\n",
       "      <td>60</td>\n",
       "      <td>100</td>\n",
       "      <td>12.1</td>\n",
       "      <td>24.066667</td>\n",
       "      <td>64.0</td>\n",
       "      <td>100.166667</td>\n",
       "    </tr>\n",
       "    <tr>\n",
       "      <th>7-8 years</th>\n",
       "      <td>2</td>\n",
       "      <td>28</td>\n",
       "      <td>40</td>\n",
       "      <td>40</td>\n",
       "      <td>60</td>\n",
       "      <td>100</td>\n",
       "      <td>36.1</td>\n",
       "      <td>17.066667</td>\n",
       "      <td>36.0</td>\n",
       "      <td>89.166667</td>\n",
       "    </tr>\n",
       "    <tr>\n",
       "      <th>9-10 years</th>\n",
       "      <td>20</td>\n",
       "      <td>10</td>\n",
       "      <td>40</td>\n",
       "      <td>40</td>\n",
       "      <td>60</td>\n",
       "      <td>100</td>\n",
       "      <td>10.0</td>\n",
       "      <td>41.666667</td>\n",
       "      <td>36.0</td>\n",
       "      <td>87.666667</td>\n",
       "    </tr>\n",
       "  </tbody>\n",
       "</table>\n",
       "</div>"
      ],
      "text/plain": [
       "                          A   B   C  A_exp  B_exp  C_exp  A_chi2     B_chi2  \\\n",
       "Age of child 5-6 years   18  22  20     40     60    100    12.1  24.066667   \n",
       "             7-8 years    2  28  40     40     60    100    36.1  17.066667   \n",
       "             9-10 years  20  10  40     40     60    100    10.0  41.666667   \n",
       "\n",
       "                         C_chi2   Chi_score  \n",
       "Age of child 5-6 years     64.0  100.166667  \n",
       "             7-8 years     36.0   89.166667  \n",
       "             9-10 years    36.0   87.666667  "
      ]
     },
     "execution_count": 22,
     "metadata": {},
     "output_type": "execute_result"
    }
   ],
   "source": [
    "df[\"Chi_score\"] = df[\"A_chi2\"] + df[\"B_chi2\"] + df[\"C_chi2\"]\n",
    "df"
   ]
  },
  {
   "cell_type": "code",
   "execution_count": 23,
   "id": "6c0fdee2",
   "metadata": {},
   "outputs": [
    {
     "data": {
      "text/html": [
       "<div>\n",
       "<style scoped>\n",
       "    .dataframe tbody tr th:only-of-type {\n",
       "        vertical-align: middle;\n",
       "    }\n",
       "\n",
       "    .dataframe tbody tr th {\n",
       "        vertical-align: top;\n",
       "    }\n",
       "\n",
       "    .dataframe thead th {\n",
       "        text-align: right;\n",
       "    }\n",
       "</style>\n",
       "<table border=\"1\" class=\"dataframe\">\n",
       "  <thead>\n",
       "    <tr style=\"text-align: right;\">\n",
       "      <th></th>\n",
       "      <th></th>\n",
       "      <th>A</th>\n",
       "      <th>B</th>\n",
       "      <th>C</th>\n",
       "      <th>A_exp</th>\n",
       "      <th>B_exp</th>\n",
       "      <th>C_exp</th>\n",
       "      <th>A_chi2</th>\n",
       "      <th>B_chi2</th>\n",
       "      <th>C_chi2</th>\n",
       "      <th>Chi_score</th>\n",
       "      <th>Chi_critical</th>\n",
       "    </tr>\n",
       "  </thead>\n",
       "  <tbody>\n",
       "    <tr>\n",
       "      <th rowspan=\"3\" valign=\"top\">Age of child</th>\n",
       "      <th>5-6 years</th>\n",
       "      <td>18</td>\n",
       "      <td>22</td>\n",
       "      <td>20</td>\n",
       "      <td>40</td>\n",
       "      <td>60</td>\n",
       "      <td>100</td>\n",
       "      <td>12.1</td>\n",
       "      <td>24.066667</td>\n",
       "      <td>64.0</td>\n",
       "      <td>100.166667</td>\n",
       "      <td>29.6</td>\n",
       "    </tr>\n",
       "    <tr>\n",
       "      <th>7-8 years</th>\n",
       "      <td>2</td>\n",
       "      <td>28</td>\n",
       "      <td>40</td>\n",
       "      <td>40</td>\n",
       "      <td>60</td>\n",
       "      <td>100</td>\n",
       "      <td>36.1</td>\n",
       "      <td>17.066667</td>\n",
       "      <td>36.0</td>\n",
       "      <td>89.166667</td>\n",
       "      <td>29.6</td>\n",
       "    </tr>\n",
       "    <tr>\n",
       "      <th>9-10 years</th>\n",
       "      <td>20</td>\n",
       "      <td>10</td>\n",
       "      <td>40</td>\n",
       "      <td>40</td>\n",
       "      <td>60</td>\n",
       "      <td>100</td>\n",
       "      <td>10.0</td>\n",
       "      <td>41.666667</td>\n",
       "      <td>36.0</td>\n",
       "      <td>87.666667</td>\n",
       "      <td>29.6</td>\n",
       "    </tr>\n",
       "  </tbody>\n",
       "</table>\n",
       "</div>"
      ],
      "text/plain": [
       "                          A   B   C  A_exp  B_exp  C_exp  A_chi2     B_chi2  \\\n",
       "Age of child 5-6 years   18  22  20     40     60    100    12.1  24.066667   \n",
       "             7-8 years    2  28  40     40     60    100    36.1  17.066667   \n",
       "             9-10 years  20  10  40     40     60    100    10.0  41.666667   \n",
       "\n",
       "                         C_chi2   Chi_score  Chi_critical  \n",
       "Age of child 5-6 years     64.0  100.166667          29.6  \n",
       "             7-8 years     36.0   89.166667          29.6  \n",
       "             9-10 years    36.0   87.666667          29.6  "
      ]
     },
     "execution_count": 23,
     "metadata": {},
     "output_type": "execute_result"
    }
   ],
   "source": [
    "chi_critical = 29.6 #given\n",
    "df[\"Chi_critical\"] = chi_critical\n",
    "df"
   ]
  },
  {
   "cell_type": "markdown",
   "id": "8b6dcd09",
   "metadata": {},
   "source": [
    ">Since chi score falls in the critical region, we reject the null hypothesis.\n",
    "Therefore we conclude that evidence is insufficient to claim that there is a significant relationship between age and photograph preference.\n",
    "\n",
    ">The study doesnt take the sex of children and sex of the adults in the photograph into consideration. \n",
    "A male child might have bias towards the photograph of a female adult and vice versa."
   ]
  },
  {
   "cell_type": "markdown",
   "id": "072d0e18",
   "metadata": {},
   "source": [
    "### Problem 21"
   ]
  },
  {
   "cell_type": "code",
   "execution_count": 24,
   "id": "e8daa8fb",
   "metadata": {},
   "outputs": [
    {
     "name": "stdout",
     "output_type": "stream",
     "text": [
      "Chi-score: 22.48, \n",
      "Chi-critical: 19.87\n"
     ]
    }
   ],
   "source": [
    "s_obs = 18\n",
    "s_exp = 50\n",
    "ns_obs = 40\n",
    "ns_exp = 50\n",
    "\n",
    "#H0: There is no difference between \"support\" and \"no support\" conditions in the frequency with which individuals are \n",
    "# likely to conform.\n",
    "#H1: There is a significant difference between \"support\" and \"no support\" conditions in the frequency with which individuals are\n",
    "# likely to conform.\n",
    "\n",
    "chi_critical = 19.87 #given\n",
    "\n",
    "chi_score = (((s_obs-s_exp)**2)/s_exp) + (((ns_obs-ns_exp)**2)/ns_exp)\n",
    "\n",
    "print(f\"Chi-score: {chi_score}, \\nChi-critical: {chi_critical}\")"
   ]
  },
  {
   "cell_type": "markdown",
   "id": "964b9d7c",
   "metadata": {},
   "source": [
    ">Since Chi-score lies in the critical region, we reject the null hypothesis.\n",
    "Therefore we conclude that there is sufficient evidence to prove that there is a significant difference between \"support\" and \"no support\" conditions in the frequency with which individuals are likely to conform."
   ]
  },
  {
   "cell_type": "markdown",
   "id": "42cf9098",
   "metadata": {},
   "source": [
    "### Problem 22"
   ]
  },
  {
   "cell_type": "code",
   "execution_count": 25,
   "id": "fab2cdd3",
   "metadata": {},
   "outputs": [
    {
     "name": "stdout",
     "output_type": "stream",
     "text": [
      "Chi-score: 135.64221824686942, \n",
      "Chi-critical: 10.71\n"
     ]
    }
   ],
   "source": [
    "sl_obs = 12\n",
    "sl_exp = 43\n",
    "sf_obs = 22\n",
    "sf_exp = 43\n",
    "su_obs = 9\n",
    "su_exp = 43\n",
    "tl_obs = 32\n",
    "tl_exp = 52\n",
    "tf_obs = 14\n",
    "tf_exp = 52\n",
    "tu_obs = 6\n",
    "tu_exp = 52\n",
    "\n",
    "#H0: There is a relationship between height and leadership qualities\n",
    "#H1: There is no relationship between height and leadership qualities\n",
    "\n",
    "chi_critical = 10.71 #given\n",
    "\n",
    "chi_score = (((sl_obs-sl_exp)**2)/sl_exp) + (((sf_obs-sf_exp)**2)/sf_exp) + (((su_obs-su_exp)**2)/su_exp) + (((tl_obs-tl_exp)**2)/tl_exp) +\\\n",
    "(((tf_obs-tf_exp)**2)/tf_exp) + (((tu_obs-tu_exp)**2)/tu_exp)\n",
    "\n",
    "print(f\"Chi-score: {chi_score}, \\nChi-critical: {chi_critical}\")"
   ]
  },
  {
   "cell_type": "markdown",
   "id": "e24cf52b",
   "metadata": {},
   "source": [
    ">Since Chi-score falls within critical region, we reject the null hypothesis.\n",
    "Therefore we conclude that there is sufficient evidence to claim that there is no relationship between height and leadership qualities."
   ]
  },
  {
   "cell_type": "markdown",
   "id": "d49b7f9d",
   "metadata": {},
   "source": [
    "### Problem 23"
   ]
  },
  {
   "cell_type": "code",
   "execution_count": 26,
   "id": "d0b5a950",
   "metadata": {},
   "outputs": [
    {
     "data": {
      "text/html": [
       "<div>\n",
       "<style scoped>\n",
       "    .dataframe tbody tr th:only-of-type {\n",
       "        vertical-align: middle;\n",
       "    }\n",
       "\n",
       "    .dataframe tbody tr th {\n",
       "        vertical-align: top;\n",
       "    }\n",
       "\n",
       "    .dataframe thead th {\n",
       "        text-align: right;\n",
       "    }\n",
       "</style>\n",
       "<table border=\"1\" class=\"dataframe\">\n",
       "  <thead>\n",
       "    <tr style=\"text-align: right;\">\n",
       "      <th></th>\n",
       "      <th>M</th>\n",
       "      <th>WDS</th>\n",
       "      <th>NM</th>\n",
       "    </tr>\n",
       "  </thead>\n",
       "  <tbody>\n",
       "    <tr>\n",
       "      <th>Employed</th>\n",
       "      <td>679</td>\n",
       "      <td>103</td>\n",
       "      <td>114</td>\n",
       "    </tr>\n",
       "    <tr>\n",
       "      <th>Unemployed</th>\n",
       "      <td>63</td>\n",
       "      <td>10</td>\n",
       "      <td>20</td>\n",
       "    </tr>\n",
       "    <tr>\n",
       "      <th>Not in labor force</th>\n",
       "      <td>42</td>\n",
       "      <td>18</td>\n",
       "      <td>25</td>\n",
       "    </tr>\n",
       "  </tbody>\n",
       "</table>\n",
       "</div>"
      ],
      "text/plain": [
       "                      M  WDS   NM\n",
       "Employed            679  103  114\n",
       "Unemployed           63   10   20\n",
       "Not in labor force   42   18   25"
      ]
     },
     "execution_count": 26,
     "metadata": {},
     "output_type": "execute_result"
    }
   ],
   "source": [
    "data = {\"M\":[679,63,42], \"WDS\":[103,10,18], \"NM\":[114,20,25]}\n",
    "df = 4\n",
    "alpha = 0.05\n",
    "\n",
    "#M = Married\n",
    "#NM = Never Married\n",
    "#WDS = Widow, Divorced or Separated\n",
    "\n",
    "#H0: Men of different marital status seem to have same distributions of labor force status.\n",
    "#H1: Men of different marital status seem to have different distributions of labor force status.\n",
    "\n",
    "df = pd.DataFrame(data=data, index=[\"Employed\",\"Unemployed\",\"Not in labor force\"])\n",
    "df"
   ]
  },
  {
   "cell_type": "code",
   "execution_count": 27,
   "id": "f3cee1a9",
   "metadata": {},
   "outputs": [],
   "source": [
    "# Column names for further reference\n",
    "col_names = [name for name in df.columns]\n",
    "\n",
    "# Adding expected values\n",
    "for column in df.columns:\n",
    "    name = column + \"_exp\"\n",
    "    df[name] = df[column].sum()"
   ]
  },
  {
   "cell_type": "code",
   "execution_count": 28,
   "id": "a0691d96",
   "metadata": {},
   "outputs": [
    {
     "data": {
      "text/html": [
       "<div>\n",
       "<style scoped>\n",
       "    .dataframe tbody tr th:only-of-type {\n",
       "        vertical-align: middle;\n",
       "    }\n",
       "\n",
       "    .dataframe tbody tr th {\n",
       "        vertical-align: top;\n",
       "    }\n",
       "\n",
       "    .dataframe thead th {\n",
       "        text-align: right;\n",
       "    }\n",
       "</style>\n",
       "<table border=\"1\" class=\"dataframe\">\n",
       "  <thead>\n",
       "    <tr style=\"text-align: right;\">\n",
       "      <th></th>\n",
       "      <th>M</th>\n",
       "      <th>WDS</th>\n",
       "      <th>NM</th>\n",
       "      <th>M_exp</th>\n",
       "      <th>WDS_exp</th>\n",
       "      <th>NM_exp</th>\n",
       "    </tr>\n",
       "  </thead>\n",
       "  <tbody>\n",
       "    <tr>\n",
       "      <th>Employed</th>\n",
       "      <td>679</td>\n",
       "      <td>103</td>\n",
       "      <td>114</td>\n",
       "      <td>784</td>\n",
       "      <td>131</td>\n",
       "      <td>159</td>\n",
       "    </tr>\n",
       "    <tr>\n",
       "      <th>Unemployed</th>\n",
       "      <td>63</td>\n",
       "      <td>10</td>\n",
       "      <td>20</td>\n",
       "      <td>784</td>\n",
       "      <td>131</td>\n",
       "      <td>159</td>\n",
       "    </tr>\n",
       "    <tr>\n",
       "      <th>Not in labor force</th>\n",
       "      <td>42</td>\n",
       "      <td>18</td>\n",
       "      <td>25</td>\n",
       "      <td>784</td>\n",
       "      <td>131</td>\n",
       "      <td>159</td>\n",
       "    </tr>\n",
       "  </tbody>\n",
       "</table>\n",
       "</div>"
      ],
      "text/plain": [
       "                      M  WDS   NM  M_exp  WDS_exp  NM_exp\n",
       "Employed            679  103  114    784      131     159\n",
       "Unemployed           63   10   20    784      131     159\n",
       "Not in labor force   42   18   25    784      131     159"
      ]
     },
     "execution_count": 28,
     "metadata": {},
     "output_type": "execute_result"
    }
   ],
   "source": [
    "df"
   ]
  },
  {
   "cell_type": "code",
   "execution_count": 29,
   "id": "05aba7f2",
   "metadata": {},
   "outputs": [],
   "source": [
    "#Calculating chi stats\n",
    "\n",
    "for c_name in col_names:\n",
    "    name1 = c_name + \"_exp\"\n",
    "    name2 = c_name + \"_chi2\"\n",
    "    df[name2] = ((df[c_name]-df[name1])**2) / df[name1]"
   ]
  },
  {
   "cell_type": "code",
   "execution_count": 30,
   "id": "eaaefae0",
   "metadata": {},
   "outputs": [
    {
     "data": {
      "text/html": [
       "<div>\n",
       "<style scoped>\n",
       "    .dataframe tbody tr th:only-of-type {\n",
       "        vertical-align: middle;\n",
       "    }\n",
       "\n",
       "    .dataframe tbody tr th {\n",
       "        vertical-align: top;\n",
       "    }\n",
       "\n",
       "    .dataframe thead th {\n",
       "        text-align: right;\n",
       "    }\n",
       "</style>\n",
       "<table border=\"1\" class=\"dataframe\">\n",
       "  <thead>\n",
       "    <tr style=\"text-align: right;\">\n",
       "      <th></th>\n",
       "      <th>M</th>\n",
       "      <th>WDS</th>\n",
       "      <th>NM</th>\n",
       "      <th>M_exp</th>\n",
       "      <th>WDS_exp</th>\n",
       "      <th>NM_exp</th>\n",
       "      <th>M_chi2</th>\n",
       "      <th>WDS_chi2</th>\n",
       "      <th>NM_chi2</th>\n",
       "    </tr>\n",
       "  </thead>\n",
       "  <tbody>\n",
       "    <tr>\n",
       "      <th>Employed</th>\n",
       "      <td>679</td>\n",
       "      <td>103</td>\n",
       "      <td>114</td>\n",
       "      <td>784</td>\n",
       "      <td>131</td>\n",
       "      <td>159</td>\n",
       "      <td>14.0625</td>\n",
       "      <td>5.984733</td>\n",
       "      <td>12.735849</td>\n",
       "    </tr>\n",
       "    <tr>\n",
       "      <th>Unemployed</th>\n",
       "      <td>63</td>\n",
       "      <td>10</td>\n",
       "      <td>20</td>\n",
       "      <td>784</td>\n",
       "      <td>131</td>\n",
       "      <td>159</td>\n",
       "      <td>663.0625</td>\n",
       "      <td>111.763359</td>\n",
       "      <td>121.515723</td>\n",
       "    </tr>\n",
       "    <tr>\n",
       "      <th>Not in labor force</th>\n",
       "      <td>42</td>\n",
       "      <td>18</td>\n",
       "      <td>25</td>\n",
       "      <td>784</td>\n",
       "      <td>131</td>\n",
       "      <td>159</td>\n",
       "      <td>702.2500</td>\n",
       "      <td>97.473282</td>\n",
       "      <td>112.930818</td>\n",
       "    </tr>\n",
       "  </tbody>\n",
       "</table>\n",
       "</div>"
      ],
      "text/plain": [
       "                      M  WDS   NM  M_exp  WDS_exp  NM_exp    M_chi2  \\\n",
       "Employed            679  103  114    784      131     159   14.0625   \n",
       "Unemployed           63   10   20    784      131     159  663.0625   \n",
       "Not in labor force   42   18   25    784      131     159  702.2500   \n",
       "\n",
       "                      WDS_chi2     NM_chi2  \n",
       "Employed              5.984733   12.735849  \n",
       "Unemployed          111.763359  121.515723  \n",
       "Not in labor force   97.473282  112.930818  "
      ]
     },
     "execution_count": 30,
     "metadata": {},
     "output_type": "execute_result"
    }
   ],
   "source": [
    "df"
   ]
  },
  {
   "cell_type": "code",
   "execution_count": 31,
   "id": "09392ff0",
   "metadata": {},
   "outputs": [
    {
     "data": {
      "text/html": [
       "<div>\n",
       "<style scoped>\n",
       "    .dataframe tbody tr th:only-of-type {\n",
       "        vertical-align: middle;\n",
       "    }\n",
       "\n",
       "    .dataframe tbody tr th {\n",
       "        vertical-align: top;\n",
       "    }\n",
       "\n",
       "    .dataframe thead th {\n",
       "        text-align: right;\n",
       "    }\n",
       "</style>\n",
       "<table border=\"1\" class=\"dataframe\">\n",
       "  <thead>\n",
       "    <tr style=\"text-align: right;\">\n",
       "      <th></th>\n",
       "      <th>M</th>\n",
       "      <th>WDS</th>\n",
       "      <th>NM</th>\n",
       "      <th>M_exp</th>\n",
       "      <th>WDS_exp</th>\n",
       "      <th>NM_exp</th>\n",
       "      <th>M_chi2</th>\n",
       "      <th>WDS_chi2</th>\n",
       "      <th>NM_chi2</th>\n",
       "      <th>Chi_score</th>\n",
       "    </tr>\n",
       "  </thead>\n",
       "  <tbody>\n",
       "    <tr>\n",
       "      <th>Employed</th>\n",
       "      <td>679</td>\n",
       "      <td>103</td>\n",
       "      <td>114</td>\n",
       "      <td>784</td>\n",
       "      <td>131</td>\n",
       "      <td>159</td>\n",
       "      <td>14.0625</td>\n",
       "      <td>5.984733</td>\n",
       "      <td>12.735849</td>\n",
       "      <td>32.783082</td>\n",
       "    </tr>\n",
       "    <tr>\n",
       "      <th>Unemployed</th>\n",
       "      <td>63</td>\n",
       "      <td>10</td>\n",
       "      <td>20</td>\n",
       "      <td>784</td>\n",
       "      <td>131</td>\n",
       "      <td>159</td>\n",
       "      <td>663.0625</td>\n",
       "      <td>111.763359</td>\n",
       "      <td>121.515723</td>\n",
       "      <td>896.341582</td>\n",
       "    </tr>\n",
       "    <tr>\n",
       "      <th>Not in labor force</th>\n",
       "      <td>42</td>\n",
       "      <td>18</td>\n",
       "      <td>25</td>\n",
       "      <td>784</td>\n",
       "      <td>131</td>\n",
       "      <td>159</td>\n",
       "      <td>702.2500</td>\n",
       "      <td>97.473282</td>\n",
       "      <td>112.930818</td>\n",
       "      <td>912.654100</td>\n",
       "    </tr>\n",
       "  </tbody>\n",
       "</table>\n",
       "</div>"
      ],
      "text/plain": [
       "                      M  WDS   NM  M_exp  WDS_exp  NM_exp    M_chi2  \\\n",
       "Employed            679  103  114    784      131     159   14.0625   \n",
       "Unemployed           63   10   20    784      131     159  663.0625   \n",
       "Not in labor force   42   18   25    784      131     159  702.2500   \n",
       "\n",
       "                      WDS_chi2     NM_chi2   Chi_score  \n",
       "Employed              5.984733   12.735849   32.783082  \n",
       "Unemployed          111.763359  121.515723  896.341582  \n",
       "Not in labor force   97.473282  112.930818  912.654100  "
      ]
     },
     "execution_count": 31,
     "metadata": {},
     "output_type": "execute_result"
    }
   ],
   "source": [
    "# Adding chi score\n",
    "\n",
    "df[\"Chi_score\"] = df[\"M_chi2\"] + df[\"WDS_chi2\"] + df[\"NM_chi2\"]\n",
    "df"
   ]
  },
  {
   "cell_type": "code",
   "execution_count": 32,
   "id": "5a6930f1",
   "metadata": {},
   "outputs": [
    {
     "data": {
      "text/html": [
       "<div>\n",
       "<style scoped>\n",
       "    .dataframe tbody tr th:only-of-type {\n",
       "        vertical-align: middle;\n",
       "    }\n",
       "\n",
       "    .dataframe tbody tr th {\n",
       "        vertical-align: top;\n",
       "    }\n",
       "\n",
       "    .dataframe thead th {\n",
       "        text-align: right;\n",
       "    }\n",
       "</style>\n",
       "<table border=\"1\" class=\"dataframe\">\n",
       "  <thead>\n",
       "    <tr style=\"text-align: right;\">\n",
       "      <th></th>\n",
       "      <th>M</th>\n",
       "      <th>WDS</th>\n",
       "      <th>NM</th>\n",
       "      <th>M_exp</th>\n",
       "      <th>WDS_exp</th>\n",
       "      <th>NM_exp</th>\n",
       "      <th>M_chi2</th>\n",
       "      <th>WDS_chi2</th>\n",
       "      <th>NM_chi2</th>\n",
       "      <th>Chi_score</th>\n",
       "      <th>Chi_critical</th>\n",
       "    </tr>\n",
       "  </thead>\n",
       "  <tbody>\n",
       "    <tr>\n",
       "      <th>Employed</th>\n",
       "      <td>679</td>\n",
       "      <td>103</td>\n",
       "      <td>114</td>\n",
       "      <td>784</td>\n",
       "      <td>131</td>\n",
       "      <td>159</td>\n",
       "      <td>14.0625</td>\n",
       "      <td>5.984733</td>\n",
       "      <td>12.735849</td>\n",
       "      <td>32.783082</td>\n",
       "      <td>9.49</td>\n",
       "    </tr>\n",
       "    <tr>\n",
       "      <th>Unemployed</th>\n",
       "      <td>63</td>\n",
       "      <td>10</td>\n",
       "      <td>20</td>\n",
       "      <td>784</td>\n",
       "      <td>131</td>\n",
       "      <td>159</td>\n",
       "      <td>663.0625</td>\n",
       "      <td>111.763359</td>\n",
       "      <td>121.515723</td>\n",
       "      <td>896.341582</td>\n",
       "      <td>9.49</td>\n",
       "    </tr>\n",
       "    <tr>\n",
       "      <th>Not in labor force</th>\n",
       "      <td>42</td>\n",
       "      <td>18</td>\n",
       "      <td>25</td>\n",
       "      <td>784</td>\n",
       "      <td>131</td>\n",
       "      <td>159</td>\n",
       "      <td>702.2500</td>\n",
       "      <td>97.473282</td>\n",
       "      <td>112.930818</td>\n",
       "      <td>912.654100</td>\n",
       "      <td>9.49</td>\n",
       "    </tr>\n",
       "  </tbody>\n",
       "</table>\n",
       "</div>"
      ],
      "text/plain": [
       "                      M  WDS   NM  M_exp  WDS_exp  NM_exp    M_chi2  \\\n",
       "Employed            679  103  114    784      131     159   14.0625   \n",
       "Unemployed           63   10   20    784      131     159  663.0625   \n",
       "Not in labor force   42   18   25    784      131     159  702.2500   \n",
       "\n",
       "                      WDS_chi2     NM_chi2   Chi_score  Chi_critical  \n",
       "Employed              5.984733   12.735849   32.783082          9.49  \n",
       "Unemployed          111.763359  121.515723  896.341582          9.49  \n",
       "Not in labor force   97.473282  112.930818  912.654100          9.49  "
      ]
     },
     "execution_count": 32,
     "metadata": {},
     "output_type": "execute_result"
    }
   ],
   "source": [
    "chi_critical = 9.49 #from table\n",
    "df[\"Chi_critical\"] = chi_critical\n",
    "df"
   ]
  },
  {
   "cell_type": "markdown",
   "id": "0de526af",
   "metadata": {},
   "source": [
    "Since Chi score falls inside the critical region, we reject the null hypothesis.\n",
    "Therefore we conclude that there is sufficient evidence to prove that men of different marital status seem to have different distributions of labor force status."
   ]
  },
  {
   "cell_type": "code",
   "execution_count": null,
   "id": "734a9515",
   "metadata": {},
   "outputs": [],
   "source": []
  }
 ],
 "metadata": {
  "kernelspec": {
   "display_name": "Python 3",
   "language": "python",
   "name": "python3"
  },
  "language_info": {
   "codemirror_mode": {
    "name": "ipython",
    "version": 3
   },
   "file_extension": ".py",
   "mimetype": "text/x-python",
   "name": "python",
   "nbconvert_exporter": "python",
   "pygments_lexer": "ipython3",
   "version": "3.8.8"
  }
 },
 "nbformat": 4,
 "nbformat_minor": 5
}
